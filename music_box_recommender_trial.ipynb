{
 "cells": [
  {
   "cell_type": "code",
   "execution_count": 1,
   "metadata": {
    "collapsed": true
   },
   "outputs": [],
   "source": [
    "import pandas as pd\n",
    "import numpy as np\n",
    "import matplotlib.pyplot as plt\n",
    "% matplotlib inline"
   ]
  },
  {
   "cell_type": "code",
   "execution_count": 2,
   "metadata": {
    "collapsed": true
   },
   "outputs": [],
   "source": [
    "df = pd.read_csv('user_song_rating.csv')"
   ]
  },
  {
   "cell_type": "code",
   "execution_count": 3,
   "metadata": {},
   "outputs": [
    {
     "data": {
      "text/html": [
       "<div>\n",
       "<style>\n",
       "    .dataframe thead tr:only-child th {\n",
       "        text-align: right;\n",
       "    }\n",
       "\n",
       "    .dataframe thead th {\n",
       "        text-align: left;\n",
       "    }\n",
       "\n",
       "    .dataframe tbody tr th {\n",
       "        vertical-align: top;\n",
       "    }\n",
       "</style>\n",
       "<table border=\"1\" class=\"dataframe\">\n",
       "  <thead>\n",
       "    <tr style=\"text-align: right;\">\n",
       "      <th></th>\n",
       "      <th>uid</th>\n",
       "      <th>song_id</th>\n",
       "      <th>rating</th>\n",
       "    </tr>\n",
       "  </thead>\n",
       "  <tbody>\n",
       "    <tr>\n",
       "      <th>0</th>\n",
       "      <td>168529700</td>\n",
       "      <td>4068248</td>\n",
       "      <td>2</td>\n",
       "    </tr>\n",
       "    <tr>\n",
       "      <th>1</th>\n",
       "      <td>168529682</td>\n",
       "      <td>1719574</td>\n",
       "      <td>2</td>\n",
       "    </tr>\n",
       "    <tr>\n",
       "      <th>2</th>\n",
       "      <td>168529704</td>\n",
       "      <td>23491875</td>\n",
       "      <td>1</td>\n",
       "    </tr>\n",
       "    <tr>\n",
       "      <th>3</th>\n",
       "      <td>153901397</td>\n",
       "      <td>4310520</td>\n",
       "      <td>2</td>\n",
       "    </tr>\n",
       "    <tr>\n",
       "      <th>4</th>\n",
       "      <td>168529900</td>\n",
       "      <td>4117304</td>\n",
       "      <td>2</td>\n",
       "    </tr>\n",
       "  </tbody>\n",
       "</table>\n",
       "</div>"
      ],
      "text/plain": [
       "         uid   song_id  rating\n",
       "0  168529700   4068248       2\n",
       "1  168529682   1719574       2\n",
       "2  168529704  23491875       1\n",
       "3  153901397   4310520       2\n",
       "4  168529900   4117304       2"
      ]
     },
     "execution_count": 3,
     "metadata": {},
     "output_type": "execute_result"
    }
   ],
   "source": [
    "df.head()"
   ]
  },
  {
   "cell_type": "code",
   "execution_count": 4,
   "metadata": {},
   "outputs": [
    {
     "data": {
      "text/plain": [
       "numpy.int64"
      ]
     },
     "execution_count": 4,
     "metadata": {},
     "output_type": "execute_result"
    }
   ],
   "source": [
    "type(df.rating[0])"
   ]
  },
  {
   "cell_type": "code",
   "execution_count": 5,
   "metadata": {},
   "outputs": [
    {
     "data": {
      "text/html": [
       "<div>\n",
       "<style>\n",
       "    .dataframe thead tr:only-child th {\n",
       "        text-align: right;\n",
       "    }\n",
       "\n",
       "    .dataframe thead th {\n",
       "        text-align: left;\n",
       "    }\n",
       "\n",
       "    .dataframe tbody tr th {\n",
       "        vertical-align: top;\n",
       "    }\n",
       "</style>\n",
       "<table border=\"1\" class=\"dataframe\">\n",
       "  <thead>\n",
       "    <tr style=\"text-align: right;\">\n",
       "      <th></th>\n",
       "      <th>uid</th>\n",
       "      <th>song_id</th>\n",
       "      <th>rating</th>\n",
       "    </tr>\n",
       "  </thead>\n",
       "  <tbody>\n",
       "    <tr>\n",
       "      <th>count</th>\n",
       "      <td>3.340017e+07</td>\n",
       "      <td>3.340017e+07</td>\n",
       "      <td>3.340017e+07</td>\n",
       "    </tr>\n",
       "    <tr>\n",
       "      <th>mean</th>\n",
       "      <td>1.605094e+08</td>\n",
       "      <td>6.155927e+06</td>\n",
       "      <td>1.525855e+00</td>\n",
       "    </tr>\n",
       "    <tr>\n",
       "      <th>std</th>\n",
       "      <td>3.336365e+07</td>\n",
       "      <td>7.138677e+06</td>\n",
       "      <td>7.403400e-01</td>\n",
       "    </tr>\n",
       "    <tr>\n",
       "      <th>min</th>\n",
       "      <td>1.233300e+04</td>\n",
       "      <td>1.400000e+01</td>\n",
       "      <td>1.000000e+00</td>\n",
       "    </tr>\n",
       "    <tr>\n",
       "      <th>25%</th>\n",
       "      <td>1.679196e+08</td>\n",
       "      <td>7.928260e+05</td>\n",
       "      <td>1.000000e+00</td>\n",
       "    </tr>\n",
       "    <tr>\n",
       "      <th>50%</th>\n",
       "      <td>1.683411e+08</td>\n",
       "      <td>4.304595e+06</td>\n",
       "      <td>1.000000e+00</td>\n",
       "    </tr>\n",
       "    <tr>\n",
       "      <th>75%</th>\n",
       "      <td>1.687034e+08</td>\n",
       "      <td>7.010594e+06</td>\n",
       "      <td>2.000000e+00</td>\n",
       "    </tr>\n",
       "    <tr>\n",
       "      <th>max</th>\n",
       "      <td>1.692623e+08</td>\n",
       "      <td>2.147484e+09</td>\n",
       "      <td>5.000000e+00</td>\n",
       "    </tr>\n",
       "  </tbody>\n",
       "</table>\n",
       "</div>"
      ],
      "text/plain": [
       "                uid       song_id        rating\n",
       "count  3.340017e+07  3.340017e+07  3.340017e+07\n",
       "mean   1.605094e+08  6.155927e+06  1.525855e+00\n",
       "std    3.336365e+07  7.138677e+06  7.403400e-01\n",
       "min    1.233300e+04  1.400000e+01  1.000000e+00\n",
       "25%    1.679196e+08  7.928260e+05  1.000000e+00\n",
       "50%    1.683411e+08  4.304595e+06  1.000000e+00\n",
       "75%    1.687034e+08  7.010594e+06  2.000000e+00\n",
       "max    1.692623e+08  2.147484e+09  5.000000e+00"
      ]
     },
     "execution_count": 5,
     "metadata": {},
     "output_type": "execute_result"
    }
   ],
   "source": [
    "df.describe()"
   ]
  },
  {
   "cell_type": "markdown",
   "metadata": {},
   "source": [
    "Check number of unique users and number of unique songs"
   ]
  },
  {
   "cell_type": "code",
   "execution_count": 10,
   "metadata": {},
   "outputs": [
    {
     "name": "stdout",
     "output_type": "stream",
     "text": [
      "number of unique users is 590013, and number of unique songs is 1568305\n"
     ]
    }
   ],
   "source": [
    "print \"number of unique users is %i, and number of unique songs is %i\" %(df.uid.nunique(), df.song_id.nunique())"
   ]
  },
  {
   "cell_type": "code",
   "execution_count": 11,
   "metadata": {
    "collapsed": true
   },
   "outputs": [],
   "source": [
    "down_freq = pd.read_csv(\"down_freq.csv\",dtype = {\"uid\" : np.int64, \"song_id\": np.int64})"
   ]
  },
  {
   "cell_type": "code",
   "execution_count": 5,
   "metadata": {},
   "outputs": [
    {
     "data": {
      "text/html": [
       "<div>\n",
       "<style>\n",
       "    .dataframe thead tr:only-child th {\n",
       "        text-align: right;\n",
       "    }\n",
       "\n",
       "    .dataframe thead th {\n",
       "        text-align: left;\n",
       "    }\n",
       "\n",
       "    .dataframe tbody tr th {\n",
       "        vertical-align: top;\n",
       "    }\n",
       "</style>\n",
       "<table border=\"1\" class=\"dataframe\">\n",
       "  <thead>\n",
       "    <tr style=\"text-align: right;\">\n",
       "      <th></th>\n",
       "      <th>uid</th>\n",
       "      <th>song_id</th>\n",
       "      <th>0</th>\n",
       "    </tr>\n",
       "  </thead>\n",
       "  <tbody>\n",
       "    <tr>\n",
       "      <th>0</th>\n",
       "      <td>104057</td>\n",
       "      <td>705790</td>\n",
       "      <td>1</td>\n",
       "    </tr>\n",
       "    <tr>\n",
       "      <th>1</th>\n",
       "      <td>104057</td>\n",
       "      <td>1009976</td>\n",
       "      <td>1</td>\n",
       "    </tr>\n",
       "    <tr>\n",
       "      <th>2</th>\n",
       "      <td>104057</td>\n",
       "      <td>2926987</td>\n",
       "      <td>1</td>\n",
       "    </tr>\n",
       "    <tr>\n",
       "      <th>3</th>\n",
       "      <td>104057</td>\n",
       "      <td>2939508</td>\n",
       "      <td>1</td>\n",
       "    </tr>\n",
       "    <tr>\n",
       "      <th>4</th>\n",
       "      <td>104057</td>\n",
       "      <td>2975785</td>\n",
       "      <td>1</td>\n",
       "    </tr>\n",
       "  </tbody>\n",
       "</table>\n",
       "</div>"
      ],
      "text/plain": [
       "      uid  song_id  0\n",
       "0  104057   705790  1\n",
       "1  104057  1009976  1\n",
       "2  104057  2926987  1\n",
       "3  104057  2939508  1\n",
       "4  104057  2975785  1"
      ]
     },
     "execution_count": 5,
     "metadata": {},
     "output_type": "execute_result"
    }
   ],
   "source": [
    "down_freq.head()"
   ]
  },
  {
   "cell_type": "code",
   "execution_count": 9,
   "metadata": {
    "collapsed": true
   },
   "outputs": [],
   "source": [
    "s1 = set(df.uid.unique())\n",
    "s2 = set(down_freq.uid.unique())"
   ]
  },
  {
   "cell_type": "code",
   "execution_count": 10,
   "metadata": {},
   "outputs": [
    {
     "name": "stdout",
     "output_type": "stream",
     "text": [
      "True\n"
     ]
    }
   ],
   "source": [
    "print s2.issubset(s2)"
   ]
  },
  {
   "cell_type": "code",
   "execution_count": 11,
   "metadata": {
    "collapsed": true
   },
   "outputs": [],
   "source": [
    "s1 = set(df.song_id.unique())\n",
    "s2 = set(down_freq.song_id.unique())"
   ]
  },
  {
   "cell_type": "code",
   "execution_count": 12,
   "metadata": {},
   "outputs": [
    {
     "name": "stdout",
     "output_type": "stream",
     "text": [
      "True\n"
     ]
    }
   ],
   "source": [
    "print s2.issubset(s2)"
   ]
  },
  {
   "cell_type": "code",
   "execution_count": 54,
   "metadata": {},
   "outputs": [
    {
     "data": {
      "text/plain": [
       "uid        False\n",
       "song_id    False\n",
       "rating     False\n",
       "dtype: bool"
      ]
     },
     "execution_count": 54,
     "metadata": {},
     "output_type": "execute_result"
    }
   ],
   "source": [
    "df.isnull().any()"
   ]
  },
  {
   "cell_type": "code",
   "execution_count": 55,
   "metadata": {},
   "outputs": [
    {
     "data": {
      "text/plain": [
       "uid        False\n",
       "song_id    False\n",
       "0          False\n",
       "dtype: bool"
      ]
     },
     "execution_count": 55,
     "metadata": {},
     "output_type": "execute_result"
    }
   ],
   "source": [
    "down_freq.isnull().any()"
   ]
  },
  {
   "cell_type": "code",
   "execution_count": 12,
   "metadata": {
    "collapsed": true
   },
   "outputs": [],
   "source": [
    "play_and_down = pd.merge(df, down_freq, how = \"outer\")"
   ]
  },
  {
   "cell_type": "code",
   "execution_count": 48,
   "metadata": {},
   "outputs": [
    {
     "data": {
      "text/plain": [
       "(34779359, 4)"
      ]
     },
     "execution_count": 48,
     "metadata": {},
     "output_type": "execute_result"
    }
   ],
   "source": [
    "play_and_down.shape"
   ]
  },
  {
   "cell_type": "code",
   "execution_count": 27,
   "metadata": {},
   "outputs": [
    {
     "data": {
      "text/plain": [
       "(33400166, 3)"
      ]
     },
     "execution_count": 27,
     "metadata": {},
     "output_type": "execute_result"
    }
   ],
   "source": [
    "df.shape"
   ]
  },
  {
   "cell_type": "code",
   "execution_count": 13,
   "metadata": {
    "collapsed": true
   },
   "outputs": [],
   "source": [
    "play_and_down.rename(columns = {'0': \"down_freq\"},inplace= True)"
   ]
  },
  {
   "cell_type": "code",
   "execution_count": 14,
   "metadata": {},
   "outputs": [
    {
     "data": {
      "text/html": [
       "<div>\n",
       "<style>\n",
       "    .dataframe thead tr:only-child th {\n",
       "        text-align: right;\n",
       "    }\n",
       "\n",
       "    .dataframe thead th {\n",
       "        text-align: left;\n",
       "    }\n",
       "\n",
       "    .dataframe tbody tr th {\n",
       "        vertical-align: top;\n",
       "    }\n",
       "</style>\n",
       "<table border=\"1\" class=\"dataframe\">\n",
       "  <thead>\n",
       "    <tr style=\"text-align: right;\">\n",
       "      <th></th>\n",
       "      <th>uid</th>\n",
       "      <th>song_id</th>\n",
       "      <th>rating</th>\n",
       "      <th>down_freq</th>\n",
       "    </tr>\n",
       "  </thead>\n",
       "  <tbody>\n",
       "    <tr>\n",
       "      <th>0</th>\n",
       "      <td>168529700</td>\n",
       "      <td>4068248</td>\n",
       "      <td>2.0</td>\n",
       "      <td>NaN</td>\n",
       "    </tr>\n",
       "    <tr>\n",
       "      <th>1</th>\n",
       "      <td>168529682</td>\n",
       "      <td>1719574</td>\n",
       "      <td>2.0</td>\n",
       "      <td>NaN</td>\n",
       "    </tr>\n",
       "    <tr>\n",
       "      <th>2</th>\n",
       "      <td>168529704</td>\n",
       "      <td>23491875</td>\n",
       "      <td>1.0</td>\n",
       "      <td>NaN</td>\n",
       "    </tr>\n",
       "    <tr>\n",
       "      <th>3</th>\n",
       "      <td>153901397</td>\n",
       "      <td>4310520</td>\n",
       "      <td>2.0</td>\n",
       "      <td>NaN</td>\n",
       "    </tr>\n",
       "    <tr>\n",
       "      <th>4</th>\n",
       "      <td>168529900</td>\n",
       "      <td>4117304</td>\n",
       "      <td>2.0</td>\n",
       "      <td>NaN</td>\n",
       "    </tr>\n",
       "  </tbody>\n",
       "</table>\n",
       "</div>"
      ],
      "text/plain": [
       "         uid   song_id  rating  down_freq\n",
       "0  168529700   4068248     2.0        NaN\n",
       "1  168529682   1719574     2.0        NaN\n",
       "2  168529704  23491875     1.0        NaN\n",
       "3  153901397   4310520     2.0        NaN\n",
       "4  168529900   4117304     2.0        NaN"
      ]
     },
     "execution_count": 14,
     "metadata": {},
     "output_type": "execute_result"
    }
   ],
   "source": [
    "play_and_down.head()"
   ]
  },
  {
   "cell_type": "code",
   "execution_count": 15,
   "metadata": {
    "collapsed": true
   },
   "outputs": [],
   "source": [
    "mask = ~ play_and_down.down_freq.isnull()"
   ]
  },
  {
   "cell_type": "code",
   "execution_count": 16,
   "metadata": {},
   "outputs": [
    {
     "data": {
      "text/plain": [
       "0    False\n",
       "1    False\n",
       "2    False\n",
       "3    False\n",
       "4    False\n",
       "5    False\n",
       "6    False\n",
       "7    False\n",
       "8    False\n",
       "9    False\n",
       "Name: down_freq, dtype: bool"
      ]
     },
     "execution_count": 16,
     "metadata": {},
     "output_type": "execute_result"
    }
   ],
   "source": [
    "mask.head(10)"
   ]
  },
  {
   "cell_type": "code",
   "execution_count": 13,
   "metadata": {},
   "outputs": [
    {
     "data": {
      "text/plain": [
       "4021810"
      ]
     },
     "execution_count": 13,
     "metadata": {},
     "output_type": "execute_result"
    }
   ],
   "source": [
    "mask.sum()"
   ]
  },
  {
   "cell_type": "code",
   "execution_count": 14,
   "metadata": {
    "collapsed": true
   },
   "outputs": [],
   "source": [
    "rating_with_down = play_and_down.rating[mask]"
   ]
  },
  {
   "cell_type": "code",
   "execution_count": 15,
   "metadata": {},
   "outputs": [
    {
     "data": {
      "text/plain": [
       "count    2.642617e+06\n",
       "mean     2.104649e+00\n",
       "std      1.018510e+00\n",
       "min      1.000000e+00\n",
       "25%      1.000000e+00\n",
       "50%      2.000000e+00\n",
       "75%      2.000000e+00\n",
       "max      5.000000e+00\n",
       "Name: rating, dtype: float64"
      ]
     },
     "execution_count": 15,
     "metadata": {},
     "output_type": "execute_result"
    }
   ],
   "source": [
    "rating_with_down.describe()"
   ]
  },
  {
   "cell_type": "code",
   "execution_count": 16,
   "metadata": {
    "collapsed": true
   },
   "outputs": [],
   "source": [
    "play_and_down.at[mask, 'rating'] = 5"
   ]
  },
  {
   "cell_type": "code",
   "execution_count": 17,
   "metadata": {},
   "outputs": [
    {
     "data": {
      "text/html": [
       "<div>\n",
       "<style>\n",
       "    .dataframe thead tr:only-child th {\n",
       "        text-align: right;\n",
       "    }\n",
       "\n",
       "    .dataframe thead th {\n",
       "        text-align: left;\n",
       "    }\n",
       "\n",
       "    .dataframe tbody tr th {\n",
       "        vertical-align: top;\n",
       "    }\n",
       "</style>\n",
       "<table border=\"1\" class=\"dataframe\">\n",
       "  <thead>\n",
       "    <tr style=\"text-align: right;\">\n",
       "      <th></th>\n",
       "      <th>uid</th>\n",
       "      <th>song_id</th>\n",
       "      <th>rating</th>\n",
       "      <th>down_freq</th>\n",
       "    </tr>\n",
       "  </thead>\n",
       "  <tbody>\n",
       "    <tr>\n",
       "      <th>count</th>\n",
       "      <td>3.477936e+07</td>\n",
       "      <td>3.477936e+07</td>\n",
       "      <td>3.477936e+07</td>\n",
       "      <td>4.021810e+06</td>\n",
       "    </tr>\n",
       "    <tr>\n",
       "      <th>mean</th>\n",
       "      <td>1.604142e+08</td>\n",
       "      <td>6.126362e+06</td>\n",
       "      <td>1.883620e+00</td>\n",
       "      <td>1.310353e+00</td>\n",
       "    </tr>\n",
       "    <tr>\n",
       "      <th>std</th>\n",
       "      <td>3.354592e+07</td>\n",
       "      <td>7.109884e+06</td>\n",
       "      <td>1.299927e+00</td>\n",
       "      <td>2.961040e+00</td>\n",
       "    </tr>\n",
       "    <tr>\n",
       "      <th>min</th>\n",
       "      <td>1.233300e+04</td>\n",
       "      <td>1.400000e+01</td>\n",
       "      <td>1.000000e+00</td>\n",
       "      <td>1.000000e+00</td>\n",
       "    </tr>\n",
       "    <tr>\n",
       "      <th>25%</th>\n",
       "      <td>1.679174e+08</td>\n",
       "      <td>7.846490e+05</td>\n",
       "      <td>1.000000e+00</td>\n",
       "      <td>1.000000e+00</td>\n",
       "    </tr>\n",
       "    <tr>\n",
       "      <th>50%</th>\n",
       "      <td>1.683387e+08</td>\n",
       "      <td>4.292850e+06</td>\n",
       "      <td>1.000000e+00</td>\n",
       "      <td>1.000000e+00</td>\n",
       "    </tr>\n",
       "    <tr>\n",
       "      <th>75%</th>\n",
       "      <td>1.687031e+08</td>\n",
       "      <td>6.997970e+06</td>\n",
       "      <td>2.000000e+00</td>\n",
       "      <td>1.000000e+00</td>\n",
       "    </tr>\n",
       "    <tr>\n",
       "      <th>max</th>\n",
       "      <td>1.692623e+08</td>\n",
       "      <td>2.147484e+09</td>\n",
       "      <td>5.000000e+00</td>\n",
       "      <td>1.275000e+03</td>\n",
       "    </tr>\n",
       "  </tbody>\n",
       "</table>\n",
       "</div>"
      ],
      "text/plain": [
       "                uid       song_id        rating     down_freq\n",
       "count  3.477936e+07  3.477936e+07  3.477936e+07  4.021810e+06\n",
       "mean   1.604142e+08  6.126362e+06  1.883620e+00  1.310353e+00\n",
       "std    3.354592e+07  7.109884e+06  1.299927e+00  2.961040e+00\n",
       "min    1.233300e+04  1.400000e+01  1.000000e+00  1.000000e+00\n",
       "25%    1.679174e+08  7.846490e+05  1.000000e+00  1.000000e+00\n",
       "50%    1.683387e+08  4.292850e+06  1.000000e+00  1.000000e+00\n",
       "75%    1.687031e+08  6.997970e+06  2.000000e+00  1.000000e+00\n",
       "max    1.692623e+08  2.147484e+09  5.000000e+00  1.275000e+03"
      ]
     },
     "execution_count": 17,
     "metadata": {},
     "output_type": "execute_result"
    }
   ],
   "source": [
    "play_and_down.describe()"
   ]
  },
  {
   "cell_type": "code",
   "execution_count": 18,
   "metadata": {
    "collapsed": true
   },
   "outputs": [],
   "source": [
    "play_and_down.drop(\"down_freq\", axis = 1, inplace= True)"
   ]
  },
  {
   "cell_type": "code",
   "execution_count": 19,
   "metadata": {},
   "outputs": [
    {
     "data": {
      "text/html": [
       "<div>\n",
       "<style>\n",
       "    .dataframe thead tr:only-child th {\n",
       "        text-align: right;\n",
       "    }\n",
       "\n",
       "    .dataframe thead th {\n",
       "        text-align: left;\n",
       "    }\n",
       "\n",
       "    .dataframe tbody tr th {\n",
       "        vertical-align: top;\n",
       "    }\n",
       "</style>\n",
       "<table border=\"1\" class=\"dataframe\">\n",
       "  <thead>\n",
       "    <tr style=\"text-align: right;\">\n",
       "      <th></th>\n",
       "      <th>uid</th>\n",
       "      <th>song_id</th>\n",
       "      <th>rating</th>\n",
       "    </tr>\n",
       "  </thead>\n",
       "  <tbody>\n",
       "    <tr>\n",
       "      <th>0</th>\n",
       "      <td>168529700</td>\n",
       "      <td>4068248</td>\n",
       "      <td>2.0</td>\n",
       "    </tr>\n",
       "    <tr>\n",
       "      <th>1</th>\n",
       "      <td>168529682</td>\n",
       "      <td>1719574</td>\n",
       "      <td>2.0</td>\n",
       "    </tr>\n",
       "    <tr>\n",
       "      <th>2</th>\n",
       "      <td>168529704</td>\n",
       "      <td>23491875</td>\n",
       "      <td>1.0</td>\n",
       "    </tr>\n",
       "    <tr>\n",
       "      <th>3</th>\n",
       "      <td>153901397</td>\n",
       "      <td>4310520</td>\n",
       "      <td>2.0</td>\n",
       "    </tr>\n",
       "    <tr>\n",
       "      <th>4</th>\n",
       "      <td>168529900</td>\n",
       "      <td>4117304</td>\n",
       "      <td>2.0</td>\n",
       "    </tr>\n",
       "  </tbody>\n",
       "</table>\n",
       "</div>"
      ],
      "text/plain": [
       "         uid   song_id  rating\n",
       "0  168529700   4068248     2.0\n",
       "1  168529682   1719574     2.0\n",
       "2  168529704  23491875     1.0\n",
       "3  153901397   4310520     2.0\n",
       "4  168529900   4117304     2.0"
      ]
     },
     "execution_count": 19,
     "metadata": {},
     "output_type": "execute_result"
    }
   ],
   "source": [
    "play_and_down.head()"
   ]
  },
  {
   "cell_type": "code",
   "execution_count": 20,
   "metadata": {
    "collapsed": true
   },
   "outputs": [],
   "source": [
    "play_and_down.to_csv(\"user_song_rating_with_down.csv\", index = False)"
   ]
  },
  {
   "cell_type": "code",
   "execution_count": 11,
   "metadata": {
    "collapsed": true
   },
   "outputs": [],
   "source": [
    "import graphlab\n",
    "sf = graphlab.SFrame(df)"
   ]
  },
  {
   "cell_type": "code",
   "execution_count": null,
   "metadata": {},
   "outputs": [
    {
     "data": {
      "text/html": [
       "<pre>Recsys training: model = item_similarity</pre>"
      ],
      "text/plain": [
       "Recsys training: model = item_similarity"
      ]
     },
     "metadata": {},
     "output_type": "display_data"
    },
    {
     "data": {
      "text/html": [
       "<pre>Preparing data set.</pre>"
      ],
      "text/plain": [
       "Preparing data set."
      ]
     },
     "metadata": {},
     "output_type": "display_data"
    },
    {
     "data": {
      "text/html": [
       "<pre>    Data has 33400166 observations with 590013 users and 1568305 items.</pre>"
      ],
      "text/plain": [
       "    Data has 33400166 observations with 590013 users and 1568305 items."
      ]
     },
     "metadata": {},
     "output_type": "display_data"
    },
    {
     "data": {
      "text/html": [
       "<pre>    Data prepared in: 37.5296s</pre>"
      ],
      "text/plain": [
       "    Data prepared in: 37.5296s"
      ]
     },
     "metadata": {},
     "output_type": "display_data"
    },
    {
     "data": {
      "text/html": [
       "<pre>Training model from provided data.</pre>"
      ],
      "text/plain": [
       "Training model from provided data."
      ]
     },
     "metadata": {},
     "output_type": "display_data"
    },
    {
     "data": {
      "text/html": [
       "<pre>Gathering per-item and per-user statistics.</pre>"
      ],
      "text/plain": [
       "Gathering per-item and per-user statistics."
      ]
     },
     "metadata": {},
     "output_type": "display_data"
    },
    {
     "data": {
      "text/html": [
       "<pre>+--------------------------------+------------+</pre>"
      ],
      "text/plain": [
       "+--------------------------------+------------+"
      ]
     },
     "metadata": {},
     "output_type": "display_data"
    },
    {
     "data": {
      "text/html": [
       "<pre>| Elapsed Time (Item Statistics) | % Complete |</pre>"
      ],
      "text/plain": [
       "| Elapsed Time (Item Statistics) | % Complete |"
      ]
     },
     "metadata": {},
     "output_type": "display_data"
    },
    {
     "data": {
      "text/html": [
       "<pre>+--------------------------------+------------+</pre>"
      ],
      "text/plain": [
       "+--------------------------------+------------+"
      ]
     },
     "metadata": {},
     "output_type": "display_data"
    },
    {
     "data": {
      "text/html": [
       "<pre>| 30.822ms                       | 0          |</pre>"
      ],
      "text/plain": [
       "| 30.822ms                       | 0          |"
      ]
     },
     "metadata": {},
     "output_type": "display_data"
    },
    {
     "data": {
      "text/html": [
       "<pre>| 798.892ms                      | 100        |</pre>"
      ],
      "text/plain": [
       "| 798.892ms                      | 100        |"
      ]
     },
     "metadata": {},
     "output_type": "display_data"
    },
    {
     "data": {
      "text/html": [
       "<pre>+--------------------------------+------------+</pre>"
      ],
      "text/plain": [
       "+--------------------------------+------------+"
      ]
     },
     "metadata": {},
     "output_type": "display_data"
    },
    {
     "data": {
      "text/html": [
       "<pre>Setting up lookup tables.</pre>"
      ],
      "text/plain": [
       "Setting up lookup tables."
      ]
     },
     "metadata": {},
     "output_type": "display_data"
    },
    {
     "data": {
      "text/html": [
       "<pre>Processing the 65 most common items by brute force search.</pre>"
      ],
      "text/plain": [
       "Processing the 65 most common items by brute force search."
      ]
     },
     "metadata": {},
     "output_type": "display_data"
    },
    {
     "data": {
      "text/html": [
       "<pre>Transposing user-item lists for use in nearest neighbor search.</pre>"
      ],
      "text/plain": [
       "Transposing user-item lists for use in nearest neighbor search."
      ]
     },
     "metadata": {},
     "output_type": "display_data"
    },
    {
     "data": {
      "text/html": [
       "<pre>+------------------------------------+------------+</pre>"
      ],
      "text/plain": [
       "+------------------------------------+------------+"
      ]
     },
     "metadata": {},
     "output_type": "display_data"
    },
    {
     "data": {
      "text/html": [
       "<pre>| Elapsed Time (Data Transposition)) | % Complete |</pre>"
      ],
      "text/plain": [
       "| Elapsed Time (Data Transposition)) | % Complete |"
      ]
     },
     "metadata": {},
     "output_type": "display_data"
    },
    {
     "data": {
      "text/html": [
       "<pre>+------------------------------------+------------+</pre>"
      ],
      "text/plain": [
       "+------------------------------------+------------+"
      ]
     },
     "metadata": {},
     "output_type": "display_data"
    },
    {
     "data": {
      "text/html": [
       "<pre>| 205.077ms                          | 0          |</pre>"
      ],
      "text/plain": [
       "| 205.077ms                          | 0          |"
      ]
     },
     "metadata": {},
     "output_type": "display_data"
    },
    {
     "data": {
      "text/html": [
       "<pre>| 1.20s                              | 15         |</pre>"
      ],
      "text/plain": [
       "| 1.20s                              | 15         |"
      ]
     },
     "metadata": {},
     "output_type": "display_data"
    },
    {
     "data": {
      "text/html": [
       "<pre>| 2.20s                              | 59.75      |</pre>"
      ],
      "text/plain": [
       "| 2.20s                              | 59.75      |"
      ]
     },
     "metadata": {},
     "output_type": "display_data"
    },
    {
     "data": {
      "text/html": [
       "<pre>| 4.51s                              | 100        |</pre>"
      ],
      "text/plain": [
       "| 4.51s                              | 100        |"
      ]
     },
     "metadata": {},
     "output_type": "display_data"
    },
    {
     "data": {
      "text/html": [
       "<pre>+------------------------------------+------------+</pre>"
      ],
      "text/plain": [
       "+------------------------------------+------------+"
      ]
     },
     "metadata": {},
     "output_type": "display_data"
    },
    {
     "data": {
      "text/html": [
       "<pre>+-------------------------------------+------------------+-----------------+</pre>"
      ],
      "text/plain": [
       "+-------------------------------------+------------------+-----------------+"
      ]
     },
     "metadata": {},
     "output_type": "display_data"
    },
    {
     "data": {
      "text/html": [
       "<pre>| Elapsed Time (Constructing Lookups) | Total % Complete | Items Processed |</pre>"
      ],
      "text/plain": [
       "| Elapsed Time (Constructing Lookups) | Total % Complete | Items Processed |"
      ]
     },
     "metadata": {},
     "output_type": "display_data"
    },
    {
     "data": {
      "text/html": [
       "<pre>+-------------------------------------+------------------+-----------------+</pre>"
      ],
      "text/plain": [
       "+-------------------------------------+------------------+-----------------+"
      ]
     },
     "metadata": {},
     "output_type": "display_data"
    },
    {
     "data": {
      "text/html": [
       "<pre>| 6.38s                               | 0                | 0               |</pre>"
      ],
      "text/plain": [
       "| 6.38s                               | 0                | 0               |"
      ]
     },
     "metadata": {},
     "output_type": "display_data"
    },
    {
     "data": {
      "text/html": [
       "<pre>| 7.38s                               | 0                | 8               |</pre>"
      ],
      "text/plain": [
       "| 7.38s                               | 0                | 8               |"
      ]
     },
     "metadata": {},
     "output_type": "display_data"
    },
    {
     "data": {
      "text/html": [
       "<pre>| 8.38s                               | 0                | 17              |</pre>"
      ],
      "text/plain": [
       "| 8.38s                               | 0                | 17              |"
      ]
     },
     "metadata": {},
     "output_type": "display_data"
    },
    {
     "data": {
      "text/html": [
       "<pre>| 9.38s                               | 0                | 27              |</pre>"
      ],
      "text/plain": [
       "| 9.38s                               | 0                | 27              |"
      ]
     },
     "metadata": {},
     "output_type": "display_data"
    },
    {
     "data": {
      "text/html": [
       "<pre>| 10.37s                              | 0                | 36              |</pre>"
      ],
      "text/plain": [
       "| 10.37s                              | 0                | 36              |"
      ]
     },
     "metadata": {},
     "output_type": "display_data"
    },
    {
     "data": {
      "text/html": [
       "<pre>| 11.37s                              | 0                | 45              |</pre>"
      ],
      "text/plain": [
       "| 11.37s                              | 0                | 45              |"
      ]
     },
     "metadata": {},
     "output_type": "display_data"
    },
    {
     "data": {
      "text/html": [
       "<pre>| 12.37s                              | 0                | 49              |</pre>"
      ],
      "text/plain": [
       "| 12.37s                              | 0                | 49              |"
      ]
     },
     "metadata": {},
     "output_type": "display_data"
    },
    {
     "data": {
      "text/html": [
       "<pre>| 13.37s                              | 0                | 49              |</pre>"
      ],
      "text/plain": [
       "| 13.37s                              | 0                | 49              |"
      ]
     },
     "metadata": {},
     "output_type": "display_data"
    },
    {
     "data": {
      "text/html": [
       "<pre>| 14.37s                              | 0                | 50              |</pre>"
      ],
      "text/plain": [
       "| 14.37s                              | 0                | 50              |"
      ]
     },
     "metadata": {},
     "output_type": "display_data"
    },
    {
     "data": {
      "text/html": [
       "<pre>| 15.37s                              | 0                | 50              |</pre>"
      ],
      "text/plain": [
       "| 15.37s                              | 0                | 50              |"
      ]
     },
     "metadata": {},
     "output_type": "display_data"
    },
    {
     "data": {
      "text/html": [
       "<pre>| 16.37s                              | 0                | 51              |</pre>"
      ],
      "text/plain": [
       "| 16.37s                              | 0                | 51              |"
      ]
     },
     "metadata": {},
     "output_type": "display_data"
    },
    {
     "data": {
      "text/html": [
       "<pre>| 17.37s                              | 0                | 52              |</pre>"
      ],
      "text/plain": [
       "| 17.37s                              | 0                | 52              |"
      ]
     },
     "metadata": {},
     "output_type": "display_data"
    },
    {
     "data": {
      "text/html": [
       "<pre>| 18.37s                              | 0                | 54              |</pre>"
      ],
      "text/plain": [
       "| 18.37s                              | 0                | 54              |"
      ]
     },
     "metadata": {},
     "output_type": "display_data"
    },
    {
     "data": {
      "text/html": [
       "<pre>| 19.37s                              | 0                | 57              |</pre>"
      ],
      "text/plain": [
       "| 19.37s                              | 0                | 57              |"
      ]
     },
     "metadata": {},
     "output_type": "display_data"
    },
    {
     "data": {
      "text/html": [
       "<pre>| 20.37s                              | 0                | 60              |</pre>"
      ],
      "text/plain": [
       "| 20.37s                              | 0                | 60              |"
      ]
     },
     "metadata": {},
     "output_type": "display_data"
    },
    {
     "data": {
      "text/html": [
       "<pre>| 21.36s                              | 0                | 64              |</pre>"
      ],
      "text/plain": [
       "| 21.36s                              | 0                | 64              |"
      ]
     },
     "metadata": {},
     "output_type": "display_data"
    },
    {
     "data": {
      "text/html": [
       "<pre>+-------------------------------------+------------------+-----------------+</pre>"
      ],
      "text/plain": [
       "+-------------------------------------+------------------+-----------------+"
      ]
     },
     "metadata": {},
     "output_type": "display_data"
    },
    {
     "data": {
      "text/html": [
       "<pre>Processing data in 7 passes using sparse lookup tables.</pre>"
      ],
      "text/plain": [
       "Processing data in 7 passes using sparse lookup tables."
      ]
     },
     "metadata": {},
     "output_type": "display_data"
    },
    {
     "data": {
      "text/html": [
       "<pre>+-------------------------------------+------------------+-----------------+</pre>"
      ],
      "text/plain": [
       "+-------------------------------------+------------------+-----------------+"
      ]
     },
     "metadata": {},
     "output_type": "display_data"
    },
    {
     "data": {
      "text/html": [
       "<pre>| Elapsed Time (Constructing Lookups) | Total % Complete | Items Processed |</pre>"
      ],
      "text/plain": [
       "| Elapsed Time (Constructing Lookups) | Total % Complete | Items Processed |"
      ]
     },
     "metadata": {},
     "output_type": "display_data"
    },
    {
     "data": {
      "text/html": [
       "<pre>+-------------------------------------+------------------+-----------------+</pre>"
      ],
      "text/plain": [
       "+-------------------------------------+------------------+-----------------+"
      ]
     },
     "metadata": {},
     "output_type": "display_data"
    },
    {
     "data": {
      "text/html": [
       "<pre>| 24.15s                              | 0                | 65              |</pre>"
      ],
      "text/plain": [
       "| 24.15s                              | 0                | 65              |"
      ]
     },
     "metadata": {},
     "output_type": "display_data"
    },
    {
     "data": {
      "text/html": [
       "<pre>| 25.15s                              | 1.25             | 19722           |</pre>"
      ],
      "text/plain": [
       "| 25.15s                              | 1.25             | 19722           |"
      ]
     },
     "metadata": {},
     "output_type": "display_data"
    },
    {
     "data": {
      "text/html": [
       "<pre>| 26.18s                              | 2.75             | 45829           |</pre>"
      ],
      "text/plain": [
       "| 26.18s                              | 2.75             | 45829           |"
      ]
     },
     "metadata": {},
     "output_type": "display_data"
    },
    {
     "data": {
      "text/html": [
       "<pre>| 27.17s                              | 3                | 47112           |</pre>"
      ],
      "text/plain": [
       "| 27.17s                              | 3                | 47112           |"
      ]
     },
     "metadata": {},
     "output_type": "display_data"
    },
    {
     "data": {
      "text/html": [
       "<pre>| 28.17s                              | 3                | 47289           |</pre>"
      ],
      "text/plain": [
       "| 28.17s                              | 3                | 47289           |"
      ]
     },
     "metadata": {},
     "output_type": "display_data"
    },
    {
     "data": {
      "text/html": [
       "<pre>| 29.15s                              | 3                | 47523           |</pre>"
      ],
      "text/plain": [
       "| 29.15s                              | 3                | 47523           |"
      ]
     },
     "metadata": {},
     "output_type": "display_data"
    },
    {
     "data": {
      "text/html": [
       "<pre>| 30.36s                              | 3                | 47681           |</pre>"
      ],
      "text/plain": [
       "| 30.36s                              | 3                | 47681           |"
      ]
     },
     "metadata": {},
     "output_type": "display_data"
    },
    {
     "data": {
      "text/html": [
       "<pre>| 31.16s                              | 3                | 47695           |</pre>"
      ],
      "text/plain": [
       "| 31.16s                              | 3                | 47695           |"
      ]
     },
     "metadata": {},
     "output_type": "display_data"
    },
    {
     "data": {
      "text/html": [
       "<pre>| 32.16s                              | 3                | 47706           |</pre>"
      ],
      "text/plain": [
       "| 32.16s                              | 3                | 47706           |"
      ]
     },
     "metadata": {},
     "output_type": "display_data"
    },
    {
     "data": {
      "text/html": [
       "<pre>| 33.15s                              | 3                | 47744           |</pre>"
      ],
      "text/plain": [
       "| 33.15s                              | 3                | 47744           |"
      ]
     },
     "metadata": {},
     "output_type": "display_data"
    },
    {
     "data": {
      "text/html": [
       "<pre>| 34.18s                              | 3                | 47835           |</pre>"
      ],
      "text/plain": [
       "| 34.18s                              | 3                | 47835           |"
      ]
     },
     "metadata": {},
     "output_type": "display_data"
    },
    {
     "data": {
      "text/html": [
       "<pre>| 35.14s                              | 3                | 48097           |</pre>"
      ],
      "text/plain": [
       "| 35.14s                              | 3                | 48097           |"
      ]
     },
     "metadata": {},
     "output_type": "display_data"
    },
    {
     "data": {
      "text/html": [
       "<pre>| 36.16s                              | 3                | 48292           |</pre>"
      ],
      "text/plain": [
       "| 36.16s                              | 3                | 48292           |"
      ]
     },
     "metadata": {},
     "output_type": "display_data"
    },
    {
     "data": {
      "text/html": [
       "<pre>| 37.14s                              | 3                | 48375           |</pre>"
      ],
      "text/plain": [
       "| 37.14s                              | 3                | 48375           |"
      ]
     },
     "metadata": {},
     "output_type": "display_data"
    },
    {
     "data": {
      "text/html": [
       "<pre>| 38.15s                              | 3.5              | 57925           |</pre>"
      ],
      "text/plain": [
       "| 38.15s                              | 3.5              | 57925           |"
      ]
     },
     "metadata": {},
     "output_type": "display_data"
    },
    {
     "data": {
      "text/html": [
       "<pre>| 39.17s                              | 3.5              | 58140           |</pre>"
      ],
      "text/plain": [
       "| 39.17s                              | 3.5              | 58140           |"
      ]
     },
     "metadata": {},
     "output_type": "display_data"
    },
    {
     "data": {
      "text/html": [
       "<pre>| 40.17s                              | 3.5              | 58178           |</pre>"
      ],
      "text/plain": [
       "| 40.17s                              | 3.5              | 58178           |"
      ]
     },
     "metadata": {},
     "output_type": "display_data"
    },
    {
     "data": {
      "text/html": [
       "<pre>| 41.26s                              | 3.5              | 58222           |</pre>"
      ],
      "text/plain": [
       "| 41.26s                              | 3.5              | 58222           |"
      ]
     },
     "metadata": {},
     "output_type": "display_data"
    },
    {
     "data": {
      "text/html": [
       "<pre>| 42.61s                              | 3.5              | 58242           |</pre>"
      ],
      "text/plain": [
       "| 42.61s                              | 3.5              | 58242           |"
      ]
     },
     "metadata": {},
     "output_type": "display_data"
    },
    {
     "data": {
      "text/html": [
       "<pre>| 43.23s                              | 3.5              | 58250           |</pre>"
      ],
      "text/plain": [
       "| 43.23s                              | 3.5              | 58250           |"
      ]
     },
     "metadata": {},
     "output_type": "display_data"
    },
    {
     "data": {
      "text/html": [
       "<pre>| 44.19s                              | 3.5              | 58269           |</pre>"
      ],
      "text/plain": [
       "| 44.19s                              | 3.5              | 58269           |"
      ]
     },
     "metadata": {},
     "output_type": "display_data"
    },
    {
     "data": {
      "text/html": [
       "<pre>| 45.15s                              | 3.5              | 58284           |</pre>"
      ],
      "text/plain": [
       "| 45.15s                              | 3.5              | 58284           |"
      ]
     },
     "metadata": {},
     "output_type": "display_data"
    },
    {
     "data": {
      "text/html": [
       "<pre>| 46.25s                              | 3.5              | 58303           |</pre>"
      ],
      "text/plain": [
       "| 46.25s                              | 3.5              | 58303           |"
      ]
     },
     "metadata": {},
     "output_type": "display_data"
    },
    {
     "data": {
      "text/html": [
       "<pre>| 47.37s                              | 3.5              | 58403           |</pre>"
      ],
      "text/plain": [
       "| 47.37s                              | 3.5              | 58403           |"
      ]
     },
     "metadata": {},
     "output_type": "display_data"
    },
    {
     "data": {
      "text/html": [
       "<pre>| 48.26s                              | 3.5              | 58411           |</pre>"
      ],
      "text/plain": [
       "| 48.26s                              | 3.5              | 58411           |"
      ]
     },
     "metadata": {},
     "output_type": "display_data"
    },
    {
     "data": {
      "text/html": [
       "<pre>| 49.17s                              | 3.5              | 58414           |</pre>"
      ],
      "text/plain": [
       "| 49.17s                              | 3.5              | 58414           |"
      ]
     },
     "metadata": {},
     "output_type": "display_data"
    },
    {
     "data": {
      "text/html": [
       "<pre>| 50.32s                              | 3.5              | 58418           |</pre>"
      ],
      "text/plain": [
       "| 50.32s                              | 3.5              | 58418           |"
      ]
     },
     "metadata": {},
     "output_type": "display_data"
    },
    {
     "data": {
      "text/html": [
       "<pre>| 51.14s                              | 3.5              | 58441           |</pre>"
      ],
      "text/plain": [
       "| 51.14s                              | 3.5              | 58441           |"
      ]
     },
     "metadata": {},
     "output_type": "display_data"
    },
    {
     "data": {
      "text/html": [
       "<pre>| 52.13s                              | 3.5              | 58621           |</pre>"
      ],
      "text/plain": [
       "| 52.13s                              | 3.5              | 58621           |"
      ]
     },
     "metadata": {},
     "output_type": "display_data"
    },
    {
     "data": {
      "text/html": [
       "<pre>| 53.15s                              | 3.75             | 58876           |</pre>"
      ],
      "text/plain": [
       "| 53.15s                              | 3.75             | 58876           |"
      ]
     },
     "metadata": {},
     "output_type": "display_data"
    },
    {
     "data": {
      "text/html": [
       "<pre>| 54.13s                              | 3.75             | 59187           |</pre>"
      ],
      "text/plain": [
       "| 54.13s                              | 3.75             | 59187           |"
      ]
     },
     "metadata": {},
     "output_type": "display_data"
    },
    {
     "data": {
      "text/html": [
       "<pre>| 55.14s                              | 3.75             | 59337           |</pre>"
      ],
      "text/plain": [
       "| 55.14s                              | 3.75             | 59337           |"
      ]
     },
     "metadata": {},
     "output_type": "display_data"
    },
    {
     "data": {
      "text/html": [
       "<pre>| 56.12s                              | 3.75             | 59385           |</pre>"
      ],
      "text/plain": [
       "| 56.12s                              | 3.75             | 59385           |"
      ]
     },
     "metadata": {},
     "output_type": "display_data"
    },
    {
     "data": {
      "text/html": [
       "<pre>| 57.12s                              | 3.75             | 59537           |</pre>"
      ],
      "text/plain": [
       "| 57.12s                              | 3.75             | 59537           |"
      ]
     },
     "metadata": {},
     "output_type": "display_data"
    },
    {
     "data": {
      "text/html": [
       "<pre>| 58.14s                              | 4                | 65775           |</pre>"
      ],
      "text/plain": [
       "| 58.14s                              | 4                | 65775           |"
      ]
     },
     "metadata": {},
     "output_type": "display_data"
    },
    {
     "data": {
      "text/html": [
       "<pre>| 59.14s                              | 4.25             | 68228           |</pre>"
      ],
      "text/plain": [
       "| 59.14s                              | 4.25             | 68228           |"
      ]
     },
     "metadata": {},
     "output_type": "display_data"
    },
    {
     "data": {
      "text/html": [
       "<pre>| 1m 0s                               | 4.25             | 68408           |</pre>"
      ],
      "text/plain": [
       "| 1m 0s                               | 4.25             | 68408           |"
      ]
     },
     "metadata": {},
     "output_type": "display_data"
    },
    {
     "data": {
      "text/html": [
       "<pre>| 1m 1s                               | 4.25             | 69696           |</pre>"
      ],
      "text/plain": [
       "| 1m 1s                               | 4.25             | 69696           |"
      ]
     },
     "metadata": {},
     "output_type": "display_data"
    },
    {
     "data": {
      "text/html": [
       "<pre>| 1m 2s                               | 4.25             | 69861           |</pre>"
      ],
      "text/plain": [
       "| 1m 2s                               | 4.25             | 69861           |"
      ]
     },
     "metadata": {},
     "output_type": "display_data"
    },
    {
     "data": {
      "text/html": [
       "<pre>| 1m 3s                               | 4.5              | 71167           |</pre>"
      ],
      "text/plain": [
       "| 1m 3s                               | 4.5              | 71167           |"
      ]
     },
     "metadata": {},
     "output_type": "display_data"
    },
    {
     "data": {
      "text/html": [
       "<pre>| 1m 4s                               | 4.5              | 71285           |</pre>"
      ],
      "text/plain": [
       "| 1m 4s                               | 4.5              | 71285           |"
      ]
     },
     "metadata": {},
     "output_type": "display_data"
    },
    {
     "data": {
      "text/html": [
       "<pre>| 1m 5s                               | 4.5              | 72517           |</pre>"
      ],
      "text/plain": [
       "| 1m 5s                               | 4.5              | 72517           |"
      ]
     },
     "metadata": {},
     "output_type": "display_data"
    },
    {
     "data": {
      "text/html": [
       "<pre>| 1m 6s                               | 4.5              | 73025           |</pre>"
      ],
      "text/plain": [
       "| 1m 6s                               | 4.5              | 73025           |"
      ]
     },
     "metadata": {},
     "output_type": "display_data"
    },
    {
     "data": {
      "text/html": [
       "<pre>| 1m 8s                               | 4.5              | 73064           |</pre>"
      ],
      "text/plain": [
       "| 1m 8s                               | 4.5              | 73064           |"
      ]
     },
     "metadata": {},
     "output_type": "display_data"
    },
    {
     "data": {
      "text/html": [
       "<pre>| 1m 8s                               | 4.5              | 73074           |</pre>"
      ],
      "text/plain": [
       "| 1m 8s                               | 4.5              | 73074           |"
      ]
     },
     "metadata": {},
     "output_type": "display_data"
    },
    {
     "data": {
      "text/html": [
       "<pre>| 1m 9s                               | 4.5              | 73076           |</pre>"
      ],
      "text/plain": [
       "| 1m 9s                               | 4.5              | 73076           |"
      ]
     },
     "metadata": {},
     "output_type": "display_data"
    },
    {
     "data": {
      "text/html": [
       "<pre>| 1m 10s                              | 4.5              | 73087           |</pre>"
      ],
      "text/plain": [
       "| 1m 10s                              | 4.5              | 73087           |"
      ]
     },
     "metadata": {},
     "output_type": "display_data"
    },
    {
     "data": {
      "text/html": [
       "<pre>| 1m 11s                              | 4.5              | 73123           |</pre>"
      ],
      "text/plain": [
       "| 1m 11s                              | 4.5              | 73123           |"
      ]
     },
     "metadata": {},
     "output_type": "display_data"
    },
    {
     "data": {
      "text/html": [
       "<pre>| 1m 12s                              | 4.5              | 73141           |</pre>"
      ],
      "text/plain": [
       "| 1m 12s                              | 4.5              | 73141           |"
      ]
     },
     "metadata": {},
     "output_type": "display_data"
    },
    {
     "data": {
      "text/html": [
       "<pre>| 1m 13s                              | 4.5              | 73153           |</pre>"
      ],
      "text/plain": [
       "| 1m 13s                              | 4.5              | 73153           |"
      ]
     },
     "metadata": {},
     "output_type": "display_data"
    },
    {
     "data": {
      "text/html": [
       "<pre>| 1m 14s                              | 4.5              | 73159           |</pre>"
      ],
      "text/plain": [
       "| 1m 14s                              | 4.5              | 73159           |"
      ]
     },
     "metadata": {},
     "output_type": "display_data"
    },
    {
     "data": {
      "text/html": [
       "<pre>| 1m 15s                              | 4.5              | 73176           |</pre>"
      ],
      "text/plain": [
       "| 1m 15s                              | 4.5              | 73176           |"
      ]
     },
     "metadata": {},
     "output_type": "display_data"
    },
    {
     "data": {
      "text/html": [
       "<pre>| 1m 16s                              | 4.5              | 73206           |</pre>"
      ],
      "text/plain": [
       "| 1m 16s                              | 4.5              | 73206           |"
      ]
     },
     "metadata": {},
     "output_type": "display_data"
    },
    {
     "data": {
      "text/html": [
       "<pre>| 1m 17s                              | 4.5              | 73220           |</pre>"
      ],
      "text/plain": [
       "| 1m 17s                              | 4.5              | 73220           |"
      ]
     },
     "metadata": {},
     "output_type": "display_data"
    },
    {
     "data": {
      "text/html": [
       "<pre>| 1m 19s                              | 4.5              | 73254           |</pre>"
      ],
      "text/plain": [
       "| 1m 19s                              | 4.5              | 73254           |"
      ]
     },
     "metadata": {},
     "output_type": "display_data"
    },
    {
     "data": {
      "text/html": [
       "<pre>| 1m 20s                              | 4.5              | 73256           |</pre>"
      ],
      "text/plain": [
       "| 1m 20s                              | 4.5              | 73256           |"
      ]
     },
     "metadata": {},
     "output_type": "display_data"
    },
    {
     "data": {
      "text/html": [
       "<pre>| 1m 21s                              | 4.5              | 73268           |</pre>"
      ],
      "text/plain": [
       "| 1m 21s                              | 4.5              | 73268           |"
      ]
     },
     "metadata": {},
     "output_type": "display_data"
    },
    {
     "data": {
      "text/html": [
       "<pre>| 1m 22s                              | 4.5              | 73275           |</pre>"
      ],
      "text/plain": [
       "| 1m 22s                              | 4.5              | 73275           |"
      ]
     },
     "metadata": {},
     "output_type": "display_data"
    },
    {
     "data": {
      "text/html": [
       "<pre>| 1m 23s                              | 4.5              | 73295           |</pre>"
      ],
      "text/plain": [
       "| 1m 23s                              | 4.5              | 73295           |"
      ]
     },
     "metadata": {},
     "output_type": "display_data"
    },
    {
     "data": {
      "text/html": [
       "<pre>| 1m 25s                              | 4.5              | 73300           |</pre>"
      ],
      "text/plain": [
       "| 1m 25s                              | 4.5              | 73300           |"
      ]
     },
     "metadata": {},
     "output_type": "display_data"
    },
    {
     "data": {
      "text/html": [
       "<pre>| 1m 27s                              | 4.5              | 73303           |</pre>"
      ],
      "text/plain": [
       "| 1m 27s                              | 4.5              | 73303           |"
      ]
     },
     "metadata": {},
     "output_type": "display_data"
    },
    {
     "data": {
      "text/html": [
       "<pre>| 1m 31s                              | 4.5              | 73330           |</pre>"
      ],
      "text/plain": [
       "| 1m 31s                              | 4.5              | 73330           |"
      ]
     },
     "metadata": {},
     "output_type": "display_data"
    },
    {
     "data": {
      "text/html": [
       "<pre>| 1m 33s                              | 4.5              | 73406           |</pre>"
      ],
      "text/plain": [
       "| 1m 33s                              | 4.5              | 73406           |"
      ]
     },
     "metadata": {},
     "output_type": "display_data"
    },
    {
     "data": {
      "text/html": [
       "<pre>| 1m 35s                              | 4.5              | 73407           |</pre>"
      ],
      "text/plain": [
       "| 1m 35s                              | 4.5              | 73407           |"
      ]
     },
     "metadata": {},
     "output_type": "display_data"
    },
    {
     "data": {
      "text/html": [
       "<pre>| 1m 35s                              | 4.5              | 73408           |</pre>"
      ],
      "text/plain": [
       "| 1m 35s                              | 4.5              | 73408           |"
      ]
     },
     "metadata": {},
     "output_type": "display_data"
    },
    {
     "data": {
      "text/html": [
       "<pre>| 1m 37s                              | 4.5              | 73456           |</pre>"
      ],
      "text/plain": [
       "| 1m 37s                              | 4.5              | 73456           |"
      ]
     },
     "metadata": {},
     "output_type": "display_data"
    },
    {
     "data": {
      "text/html": [
       "<pre>| 1m 39s                              | 4.5              | 73456           |</pre>"
      ],
      "text/plain": [
       "| 1m 39s                              | 4.5              | 73456           |"
      ]
     },
     "metadata": {},
     "output_type": "display_data"
    },
    {
     "data": {
      "text/html": [
       "<pre>| 1m 44s                              | 4.5              | 73464           |</pre>"
      ],
      "text/plain": [
       "| 1m 44s                              | 4.5              | 73464           |"
      ]
     },
     "metadata": {},
     "output_type": "display_data"
    },
    {
     "data": {
      "text/html": [
       "<pre>| 1m 46s                              | 4.5              | 73475           |</pre>"
      ],
      "text/plain": [
       "| 1m 46s                              | 4.5              | 73475           |"
      ]
     },
     "metadata": {},
     "output_type": "display_data"
    },
    {
     "data": {
      "text/html": [
       "<pre>| 1m 47s                              | 4.5              | 73476           |</pre>"
      ],
      "text/plain": [
       "| 1m 47s                              | 4.5              | 73476           |"
      ]
     },
     "metadata": {},
     "output_type": "display_data"
    },
    {
     "data": {
      "text/html": [
       "<pre>| 1m 50s                              | 4.5              | 73476           |</pre>"
      ],
      "text/plain": [
       "| 1m 50s                              | 4.5              | 73476           |"
      ]
     },
     "metadata": {},
     "output_type": "display_data"
    },
    {
     "data": {
      "text/html": [
       "<pre>| 1m 51s                              | 4.5              | 74439           |</pre>"
      ],
      "text/plain": [
       "| 1m 51s                              | 4.5              | 74439           |"
      ]
     },
     "metadata": {},
     "output_type": "display_data"
    },
    {
     "data": {
      "text/html": [
       "<pre>| 1m 52s                              | 4.5              | 74447           |</pre>"
      ],
      "text/plain": [
       "| 1m 52s                              | 4.5              | 74447           |"
      ]
     },
     "metadata": {},
     "output_type": "display_data"
    },
    {
     "data": {
      "text/html": [
       "<pre>| 2m 2s                               | 4.5              | 74448           |</pre>"
      ],
      "text/plain": [
       "| 2m 2s                               | 4.5              | 74448           |"
      ]
     },
     "metadata": {},
     "output_type": "display_data"
    },
    {
     "data": {
      "text/html": [
       "<pre>| 2m 3s                               | 4.5              | 74448           |</pre>"
      ],
      "text/plain": [
       "| 2m 3s                               | 4.5              | 74448           |"
      ]
     },
     "metadata": {},
     "output_type": "display_data"
    },
    {
     "data": {
      "text/html": [
       "<pre>| 2m 5s                               | 4.5              | 74449           |</pre>"
      ],
      "text/plain": [
       "| 2m 5s                               | 4.5              | 74449           |"
      ]
     },
     "metadata": {},
     "output_type": "display_data"
    },
    {
     "data": {
      "text/html": [
       "<pre>| 2m 13s                              | 4.5              | 74454           |</pre>"
      ],
      "text/plain": [
       "| 2m 13s                              | 4.5              | 74454           |"
      ]
     },
     "metadata": {},
     "output_type": "display_data"
    },
    {
     "data": {
      "text/html": [
       "<pre>| 2m 14s                              | 4.5              | 74461           |</pre>"
      ],
      "text/plain": [
       "| 2m 14s                              | 4.5              | 74461           |"
      ]
     },
     "metadata": {},
     "output_type": "display_data"
    },
    {
     "data": {
      "text/html": [
       "<pre>| 2m 22s                              | 4.5              | 74462           |</pre>"
      ],
      "text/plain": [
       "| 2m 22s                              | 4.5              | 74462           |"
      ]
     },
     "metadata": {},
     "output_type": "display_data"
    },
    {
     "data": {
      "text/html": [
       "<pre>| 2m 23s                              | 4.5              | 74471           |</pre>"
      ],
      "text/plain": [
       "| 2m 23s                              | 4.5              | 74471           |"
      ]
     },
     "metadata": {},
     "output_type": "display_data"
    },
    {
     "data": {
      "text/html": [
       "<pre>| 2m 25s                              | 4.5              | 74477           |</pre>"
      ],
      "text/plain": [
       "| 2m 25s                              | 4.5              | 74477           |"
      ]
     },
     "metadata": {},
     "output_type": "display_data"
    },
    {
     "data": {
      "text/html": [
       "<pre>| 2m 32s                              | 4.5              | 74477           |</pre>"
      ],
      "text/plain": [
       "| 2m 32s                              | 4.5              | 74477           |"
      ]
     },
     "metadata": {},
     "output_type": "display_data"
    },
    {
     "data": {
      "text/html": [
       "<pre>| 2m 34s                              | 4.75             | 74502           |</pre>"
      ],
      "text/plain": [
       "| 2m 34s                              | 4.75             | 74502           |"
      ]
     },
     "metadata": {},
     "output_type": "display_data"
    },
    {
     "data": {
      "text/html": [
       "<pre>| 2m 36s                              | 4.75             | 74503           |</pre>"
      ],
      "text/plain": [
       "| 2m 36s                              | 4.75             | 74503           |"
      ]
     },
     "metadata": {},
     "output_type": "display_data"
    },
    {
     "data": {
      "text/html": [
       "<pre>| 2m 37s                              | 4.75             | 74511           |</pre>"
      ],
      "text/plain": [
       "| 2m 37s                              | 4.75             | 74511           |"
      ]
     },
     "metadata": {},
     "output_type": "display_data"
    },
    {
     "data": {
      "text/html": [
       "<pre>| 2m 42s                              | 4.75             | 74511           |</pre>"
      ],
      "text/plain": [
       "| 2m 42s                              | 4.75             | 74511           |"
      ]
     },
     "metadata": {},
     "output_type": "display_data"
    },
    {
     "data": {
      "text/html": [
       "<pre>| 2m 48s                              | 4.75             | 74520           |</pre>"
      ],
      "text/plain": [
       "| 2m 48s                              | 4.75             | 74520           |"
      ]
     },
     "metadata": {},
     "output_type": "display_data"
    },
    {
     "data": {
      "text/html": [
       "<pre>| 2m 49s                              | 4.75             | 74537           |</pre>"
      ],
      "text/plain": [
       "| 2m 49s                              | 4.75             | 74537           |"
      ]
     },
     "metadata": {},
     "output_type": "display_data"
    },
    {
     "data": {
      "text/html": [
       "<pre>| 2m 53s                              | 4.75             | 74550           |</pre>"
      ],
      "text/plain": [
       "| 2m 53s                              | 4.75             | 74550           |"
      ]
     },
     "metadata": {},
     "output_type": "display_data"
    },
    {
     "data": {
      "text/html": [
       "<pre>| 3m 5s                               | 4.75             | 74556           |</pre>"
      ],
      "text/plain": [
       "| 3m 5s                               | 4.75             | 74556           |"
      ]
     },
     "metadata": {},
     "output_type": "display_data"
    },
    {
     "data": {
      "text/html": [
       "<pre>| 3m 6s                               | 4.75             | 74558           |</pre>"
      ],
      "text/plain": [
       "| 3m 6s                               | 4.75             | 74558           |"
      ]
     },
     "metadata": {},
     "output_type": "display_data"
    },
    {
     "data": {
      "text/html": [
       "<pre>| 3m 7s                               | 4.75             | 74558           |</pre>"
      ],
      "text/plain": [
       "| 3m 7s                               | 4.75             | 74558           |"
      ]
     },
     "metadata": {},
     "output_type": "display_data"
    },
    {
     "data": {
      "text/html": [
       "<pre>| 3m 8s                               | 4.75             | 74559           |</pre>"
      ],
      "text/plain": [
       "| 3m 8s                               | 4.75             | 74559           |"
      ]
     },
     "metadata": {},
     "output_type": "display_data"
    },
    {
     "data": {
      "text/html": [
       "<pre>| 3m 9s                               | 4.75             | 74559           |</pre>"
      ],
      "text/plain": [
       "| 3m 9s                               | 4.75             | 74559           |"
      ]
     },
     "metadata": {},
     "output_type": "display_data"
    },
    {
     "data": {
      "text/html": [
       "<pre>| 3m 12s                              | 4.75             | 74562           |</pre>"
      ],
      "text/plain": [
       "| 3m 12s                              | 4.75             | 74562           |"
      ]
     },
     "metadata": {},
     "output_type": "display_data"
    },
    {
     "data": {
      "text/html": [
       "<pre>| 3m 13s                              | 4.75             | 74563           |</pre>"
      ],
      "text/plain": [
       "| 3m 13s                              | 4.75             | 74563           |"
      ]
     },
     "metadata": {},
     "output_type": "display_data"
    },
    {
     "data": {
      "text/html": [
       "<pre>| 3m 14s                              | 4.75             | 74564           |</pre>"
      ],
      "text/plain": [
       "| 3m 14s                              | 4.75             | 74564           |"
      ]
     },
     "metadata": {},
     "output_type": "display_data"
    },
    {
     "data": {
      "text/html": [
       "<pre>| 3m 15s                              | 4.75             | 74583           |</pre>"
      ],
      "text/plain": [
       "| 3m 15s                              | 4.75             | 74583           |"
      ]
     },
     "metadata": {},
     "output_type": "display_data"
    },
    {
     "data": {
      "text/html": [
       "<pre>| 3m 16s                              | 4.75             | 74590           |</pre>"
      ],
      "text/plain": [
       "| 3m 16s                              | 4.75             | 74590           |"
      ]
     },
     "metadata": {},
     "output_type": "display_data"
    },
    {
     "data": {
      "text/html": [
       "<pre>| 3m 19s                              | 4.75             | 74636           |</pre>"
      ],
      "text/plain": [
       "| 3m 19s                              | 4.75             | 74636           |"
      ]
     },
     "metadata": {},
     "output_type": "display_data"
    },
    {
     "data": {
      "text/html": [
       "<pre>| 3m 28s                              | 4.75             | 74645           |</pre>"
      ],
      "text/plain": [
       "| 3m 28s                              | 4.75             | 74645           |"
      ]
     },
     "metadata": {},
     "output_type": "display_data"
    },
    {
     "data": {
      "text/html": [
       "<pre>| 3m 31s                              | 4.75             | 74645           |</pre>"
      ],
      "text/plain": [
       "| 3m 31s                              | 4.75             | 74645           |"
      ]
     },
     "metadata": {},
     "output_type": "display_data"
    },
    {
     "data": {
      "text/html": [
       "<pre>| 3m 33s                              | 4.75             | 74652           |</pre>"
      ],
      "text/plain": [
       "| 3m 33s                              | 4.75             | 74652           |"
      ]
     },
     "metadata": {},
     "output_type": "display_data"
    },
    {
     "data": {
      "text/html": [
       "<pre>| 3m 36s                              | 4.75             | 74655           |</pre>"
      ],
      "text/plain": [
       "| 3m 36s                              | 4.75             | 74655           |"
      ]
     },
     "metadata": {},
     "output_type": "display_data"
    },
    {
     "data": {
      "text/html": [
       "<pre>| 3m 37s                              | 4.75             | 74659           |</pre>"
      ],
      "text/plain": [
       "| 3m 37s                              | 4.75             | 74659           |"
      ]
     },
     "metadata": {},
     "output_type": "display_data"
    },
    {
     "data": {
      "text/html": [
       "<pre>| 3m 39s                              | 4.75             | 74659           |</pre>"
      ],
      "text/plain": [
       "| 3m 39s                              | 4.75             | 74659           |"
      ]
     },
     "metadata": {},
     "output_type": "display_data"
    },
    {
     "data": {
      "text/html": [
       "<pre>| 3m 42s                              | 4.75             | 74664           |</pre>"
      ],
      "text/plain": [
       "| 3m 42s                              | 4.75             | 74664           |"
      ]
     },
     "metadata": {},
     "output_type": "display_data"
    },
    {
     "data": {
      "text/html": [
       "<pre>| 3m 45s                              | 4.75             | 74668           |</pre>"
      ],
      "text/plain": [
       "| 3m 45s                              | 4.75             | 74668           |"
      ]
     },
     "metadata": {},
     "output_type": "display_data"
    },
    {
     "data": {
      "text/html": [
       "<pre>| 3m 46s                              | 4.75             | 74669           |</pre>"
      ],
      "text/plain": [
       "| 3m 46s                              | 4.75             | 74669           |"
      ]
     },
     "metadata": {},
     "output_type": "display_data"
    },
    {
     "data": {
      "text/html": [
       "<pre>| 3m 47s                              | 4.75             | 74672           |</pre>"
      ],
      "text/plain": [
       "| 3m 47s                              | 4.75             | 74672           |"
      ]
     },
     "metadata": {},
     "output_type": "display_data"
    },
    {
     "data": {
      "text/html": [
       "<pre>| 3m 49s                              | 4.75             | 75204           |</pre>"
      ],
      "text/plain": [
       "| 3m 49s                              | 4.75             | 75204           |"
      ]
     },
     "metadata": {},
     "output_type": "display_data"
    },
    {
     "data": {
      "text/html": [
       "<pre>| 3m 51s                              | 4.75             | 75214           |</pre>"
      ],
      "text/plain": [
       "| 3m 51s                              | 4.75             | 75214           |"
      ]
     },
     "metadata": {},
     "output_type": "display_data"
    },
    {
     "data": {
      "text/html": [
       "<pre>| 3m 51s                              | 4.75             | 75214           |</pre>"
      ],
      "text/plain": [
       "| 3m 51s                              | 4.75             | 75214           |"
      ]
     },
     "metadata": {},
     "output_type": "display_data"
    },
    {
     "data": {
      "text/html": [
       "<pre>| 4m 9s                               | 4.75             | 75280           |</pre>"
      ],
      "text/plain": [
       "| 4m 9s                               | 4.75             | 75280           |"
      ]
     },
     "metadata": {},
     "output_type": "display_data"
    },
    {
     "data": {
      "text/html": [
       "<pre>| 4m 43s                              | 4.75             | 75280           |</pre>"
      ],
      "text/plain": [
       "| 4m 43s                              | 4.75             | 75280           |"
      ]
     },
     "metadata": {},
     "output_type": "display_data"
    },
    {
     "data": {
      "text/html": [
       "<pre>| 4m 46s                              | 4.75             | 75280           |</pre>"
      ],
      "text/plain": [
       "| 4m 46s                              | 4.75             | 75280           |"
      ]
     },
     "metadata": {},
     "output_type": "display_data"
    },
    {
     "data": {
      "text/html": [
       "<pre>| 4m 49s                              | 4.75             | 75290           |</pre>"
      ],
      "text/plain": [
       "| 4m 49s                              | 4.75             | 75290           |"
      ]
     },
     "metadata": {},
     "output_type": "display_data"
    },
    {
     "data": {
      "text/html": [
       "<pre>| 4m 50s                              | 4.75             | 75290           |</pre>"
      ],
      "text/plain": [
       "| 4m 50s                              | 4.75             | 75290           |"
      ]
     },
     "metadata": {},
     "output_type": "display_data"
    },
    {
     "data": {
      "text/html": [
       "<pre>| 4m 51s                              | 4.75             | 75291           |</pre>"
      ],
      "text/plain": [
       "| 4m 51s                              | 4.75             | 75291           |"
      ]
     },
     "metadata": {},
     "output_type": "display_data"
    },
    {
     "data": {
      "text/html": [
       "<pre>| 4m 55s                              | 4.75             | 75291           |</pre>"
      ],
      "text/plain": [
       "| 4m 55s                              | 4.75             | 75291           |"
      ]
     },
     "metadata": {},
     "output_type": "display_data"
    },
    {
     "data": {
      "text/html": [
       "<pre>| 5m 0s                               | 4.75             | 75294           |</pre>"
      ],
      "text/plain": [
       "| 5m 0s                               | 4.75             | 75294           |"
      ]
     },
     "metadata": {},
     "output_type": "display_data"
    },
    {
     "data": {
      "text/html": [
       "<pre>| 5m 1s                               | 4.75             | 75295           |</pre>"
      ],
      "text/plain": [
       "| 5m 1s                               | 4.75             | 75295           |"
      ]
     },
     "metadata": {},
     "output_type": "display_data"
    },
    {
     "data": {
      "text/html": [
       "<pre>| 5m 2s                               | 4.75             | 75409           |</pre>"
      ],
      "text/plain": [
       "| 5m 2s                               | 4.75             | 75409           |"
      ]
     },
     "metadata": {},
     "output_type": "display_data"
    },
    {
     "data": {
      "text/html": [
       "<pre>| 5m 5s                               | 4.75             | 75436           |</pre>"
      ],
      "text/plain": [
       "| 5m 5s                               | 4.75             | 75436           |"
      ]
     },
     "metadata": {},
     "output_type": "display_data"
    },
    {
     "data": {
      "text/html": [
       "<pre>| 5m 51s                              | 4.75             | 75436           |</pre>"
      ],
      "text/plain": [
       "| 5m 51s                              | 4.75             | 75436           |"
      ]
     },
     "metadata": {},
     "output_type": "display_data"
    },
    {
     "data": {
      "text/html": [
       "<pre>| 5m 52s                              | 4.75             | 75436           |</pre>"
      ],
      "text/plain": [
       "| 5m 52s                              | 4.75             | 75436           |"
      ]
     },
     "metadata": {},
     "output_type": "display_data"
    },
    {
     "data": {
      "text/html": [
       "<pre>| 5m 53s                              | 4.75             | 75437           |</pre>"
      ],
      "text/plain": [
       "| 5m 53s                              | 4.75             | 75437           |"
      ]
     },
     "metadata": {},
     "output_type": "display_data"
    },
    {
     "data": {
      "text/html": [
       "<pre>| 5m 56s                              | 4.75             | 75438           |</pre>"
      ],
      "text/plain": [
       "| 5m 56s                              | 4.75             | 75438           |"
      ]
     },
     "metadata": {},
     "output_type": "display_data"
    },
    {
     "data": {
      "text/html": [
       "<pre>| 5m 57s                              | 4.75             | 75438           |</pre>"
      ],
      "text/plain": [
       "| 5m 57s                              | 4.75             | 75438           |"
      ]
     },
     "metadata": {},
     "output_type": "display_data"
    },
    {
     "data": {
      "text/html": [
       "<pre>| 6m 2s                               | 4.75             | 75441           |</pre>"
      ],
      "text/plain": [
       "| 6m 2s                               | 4.75             | 75441           |"
      ]
     },
     "metadata": {},
     "output_type": "display_data"
    },
    {
     "data": {
      "text/html": [
       "<pre>| 6m 5s                               | 4.75             | 75442           |</pre>"
      ],
      "text/plain": [
       "| 6m 5s                               | 4.75             | 75442           |"
      ]
     },
     "metadata": {},
     "output_type": "display_data"
    },
    {
     "data": {
      "text/html": [
       "<pre>| 6m 9s                               | 4.75             | 75442           |</pre>"
      ],
      "text/plain": [
       "| 6m 9s                               | 4.75             | 75442           |"
      ]
     },
     "metadata": {},
     "output_type": "display_data"
    },
    {
     "data": {
      "text/html": [
       "<pre>| 6m 12s                              | 4.75             | 75449           |</pre>"
      ],
      "text/plain": [
       "| 6m 12s                              | 4.75             | 75449           |"
      ]
     },
     "metadata": {},
     "output_type": "display_data"
    },
    {
     "data": {
      "text/html": [
       "<pre>| 6m 20s                              | 4.75             | 75455           |</pre>"
      ],
      "text/plain": [
       "| 6m 20s                              | 4.75             | 75455           |"
      ]
     },
     "metadata": {},
     "output_type": "display_data"
    },
    {
     "data": {
      "text/html": [
       "<pre>| 6m 21s                              | 4.75             | 75462           |</pre>"
      ],
      "text/plain": [
       "| 6m 21s                              | 4.75             | 75462           |"
      ]
     },
     "metadata": {},
     "output_type": "display_data"
    },
    {
     "data": {
      "text/html": [
       "<pre>| 6m 23s                              | 4.75             | 75462           |</pre>"
      ],
      "text/plain": [
       "| 6m 23s                              | 4.75             | 75462           |"
      ]
     },
     "metadata": {},
     "output_type": "display_data"
    },
    {
     "data": {
      "text/html": [
       "<pre>| 6m 31s                              | 4.75             | 75465           |</pre>"
      ],
      "text/plain": [
       "| 6m 31s                              | 4.75             | 75465           |"
      ]
     },
     "metadata": {},
     "output_type": "display_data"
    },
    {
     "data": {
      "text/html": [
       "<pre>| 6m 32s                              | 4.75             | 75471           |</pre>"
      ],
      "text/plain": [
       "| 6m 32s                              | 4.75             | 75471           |"
      ]
     },
     "metadata": {},
     "output_type": "display_data"
    },
    {
     "data": {
      "text/html": [
       "<pre>| 6m 36s                              | 4.75             | 75471           |</pre>"
      ],
      "text/plain": [
       "| 6m 36s                              | 4.75             | 75471           |"
      ]
     },
     "metadata": {},
     "output_type": "display_data"
    },
    {
     "data": {
      "text/html": [
       "<pre>| 6m 38s                              | 4.75             | 75481           |</pre>"
      ],
      "text/plain": [
       "| 6m 38s                              | 4.75             | 75481           |"
      ]
     },
     "metadata": {},
     "output_type": "display_data"
    },
    {
     "data": {
      "text/html": [
       "<pre>| 6m 48s                              | 4.75             | 75481           |</pre>"
      ],
      "text/plain": [
       "| 6m 48s                              | 4.75             | 75481           |"
      ]
     },
     "metadata": {},
     "output_type": "display_data"
    },
    {
     "data": {
      "text/html": [
       "<pre>| 6m 50s                              | 4.75             | 75482           |</pre>"
      ],
      "text/plain": [
       "| 6m 50s                              | 4.75             | 75482           |"
      ]
     },
     "metadata": {},
     "output_type": "display_data"
    },
    {
     "data": {
      "text/html": [
       "<pre>| 6m 53s                              | 4.75             | 75485           |</pre>"
      ],
      "text/plain": [
       "| 6m 53s                              | 4.75             | 75485           |"
      ]
     },
     "metadata": {},
     "output_type": "display_data"
    },
    {
     "data": {
      "text/html": [
       "<pre>| 6m 59s                              | 4.75             | 75486           |</pre>"
      ],
      "text/plain": [
       "| 6m 59s                              | 4.75             | 75486           |"
      ]
     },
     "metadata": {},
     "output_type": "display_data"
    },
    {
     "data": {
      "text/html": [
       "<pre>| 7m 2s                               | 4.75             | 75487           |</pre>"
      ],
      "text/plain": [
       "| 7m 2s                               | 4.75             | 75487           |"
      ]
     },
     "metadata": {},
     "output_type": "display_data"
    },
    {
     "data": {
      "text/html": [
       "<pre>| 7m 4s                               | 4.75             | 75492           |</pre>"
      ],
      "text/plain": [
       "| 7m 4s                               | 4.75             | 75492           |"
      ]
     },
     "metadata": {},
     "output_type": "display_data"
    },
    {
     "data": {
      "text/html": [
       "<pre>| 7m 6s                               | 4.75             | 75492           |</pre>"
      ],
      "text/plain": [
       "| 7m 6s                               | 4.75             | 75492           |"
      ]
     },
     "metadata": {},
     "output_type": "display_data"
    },
    {
     "data": {
      "text/html": [
       "<pre>| 7m 6s                               | 4.75             | 75495           |</pre>"
      ],
      "text/plain": [
       "| 7m 6s                               | 4.75             | 75495           |"
      ]
     },
     "metadata": {},
     "output_type": "display_data"
    },
    {
     "data": {
      "text/html": [
       "<pre>| 7m 11s                              | 4.75             | 75495           |</pre>"
      ],
      "text/plain": [
       "| 7m 11s                              | 4.75             | 75495           |"
      ]
     },
     "metadata": {},
     "output_type": "display_data"
    },
    {
     "data": {
      "text/html": [
       "<pre>| 7m 12s                              | 4.75             | 75496           |</pre>"
      ],
      "text/plain": [
       "| 7m 12s                              | 4.75             | 75496           |"
      ]
     },
     "metadata": {},
     "output_type": "display_data"
    },
    {
     "data": {
      "text/html": [
       "<pre>| 7m 14s                              | 4.75             | 75533           |</pre>"
      ],
      "text/plain": [
       "| 7m 14s                              | 4.75             | 75533           |"
      ]
     },
     "metadata": {},
     "output_type": "display_data"
    },
    {
     "data": {
      "text/html": [
       "<pre>| 7m 16s                              | 4.75             | 75535           |</pre>"
      ],
      "text/plain": [
       "| 7m 16s                              | 4.75             | 75535           |"
      ]
     },
     "metadata": {},
     "output_type": "display_data"
    },
    {
     "data": {
      "text/html": [
       "<pre>| 7m 20s                              | 4.75             | 75535           |</pre>"
      ],
      "text/plain": [
       "| 7m 20s                              | 4.75             | 75535           |"
      ]
     },
     "metadata": {},
     "output_type": "display_data"
    },
    {
     "data": {
      "text/html": [
       "<pre>| 7m 43s                              | 4.75             | 75543           |</pre>"
      ],
      "text/plain": [
       "| 7m 43s                              | 4.75             | 75543           |"
      ]
     },
     "metadata": {},
     "output_type": "display_data"
    },
    {
     "data": {
      "text/html": [
       "<pre>| 7m 44s                              | 4.75             | 75543           |</pre>"
      ],
      "text/plain": [
       "| 7m 44s                              | 4.75             | 75543           |"
      ]
     },
     "metadata": {},
     "output_type": "display_data"
    },
    {
     "data": {
      "text/html": [
       "<pre>| 7m 46s                              | 4.75             | 75545           |</pre>"
      ],
      "text/plain": [
       "| 7m 46s                              | 4.75             | 75545           |"
      ]
     },
     "metadata": {},
     "output_type": "display_data"
    },
    {
     "data": {
      "text/html": [
       "<pre>| 7m 48s                              | 4.75             | 75545           |</pre>"
      ],
      "text/plain": [
       "| 7m 48s                              | 4.75             | 75545           |"
      ]
     },
     "metadata": {},
     "output_type": "display_data"
    },
    {
     "data": {
      "text/html": [
       "<pre>| 7m 57s                              | 4.75             | 75550           |</pre>"
      ],
      "text/plain": [
       "| 7m 57s                              | 4.75             | 75550           |"
      ]
     },
     "metadata": {},
     "output_type": "display_data"
    },
    {
     "data": {
      "text/html": [
       "<pre>| 8m 0s                               | 4.75             | 75550           |</pre>"
      ],
      "text/plain": [
       "| 8m 0s                               | 4.75             | 75550           |"
      ]
     },
     "metadata": {},
     "output_type": "display_data"
    },
    {
     "data": {
      "text/html": [
       "<pre>| 8m 2s                               | 4.75             | 75551           |</pre>"
      ],
      "text/plain": [
       "| 8m 2s                               | 4.75             | 75551           |"
      ]
     },
     "metadata": {},
     "output_type": "display_data"
    },
    {
     "data": {
      "text/html": [
       "<pre>| 8m 2s                               | 4.75             | 75554           |</pre>"
      ],
      "text/plain": [
       "| 8m 2s                               | 4.75             | 75554           |"
      ]
     },
     "metadata": {},
     "output_type": "display_data"
    },
    {
     "data": {
      "text/html": [
       "<pre>| 8m 14s                              | 4.75             | 75554           |</pre>"
      ],
      "text/plain": [
       "| 8m 14s                              | 4.75             | 75554           |"
      ]
     },
     "metadata": {},
     "output_type": "display_data"
    },
    {
     "data": {
      "text/html": [
       "<pre>| 8m 17s                              | 4.75             | 75556           |</pre>"
      ],
      "text/plain": [
       "| 8m 17s                              | 4.75             | 75556           |"
      ]
     },
     "metadata": {},
     "output_type": "display_data"
    },
    {
     "data": {
      "text/html": [
       "<pre>| 8m 22s                              | 4.75             | 75558           |</pre>"
      ],
      "text/plain": [
       "| 8m 22s                              | 4.75             | 75558           |"
      ]
     },
     "metadata": {},
     "output_type": "display_data"
    },
    {
     "data": {
      "text/html": [
       "<pre>| 8m 26s                              | 4.75             | 75559           |</pre>"
      ],
      "text/plain": [
       "| 8m 26s                              | 4.75             | 75559           |"
      ]
     },
     "metadata": {},
     "output_type": "display_data"
    },
    {
     "data": {
      "text/html": [
       "<pre>| 8m 28s                              | 4.75             | 75560           |</pre>"
      ],
      "text/plain": [
       "| 8m 28s                              | 4.75             | 75560           |"
      ]
     },
     "metadata": {},
     "output_type": "display_data"
    },
    {
     "data": {
      "text/html": [
       "<pre>| 8m 32s                              | 4.75             | 75561           |</pre>"
      ],
      "text/plain": [
       "| 8m 32s                              | 4.75             | 75561           |"
      ]
     },
     "metadata": {},
     "output_type": "display_data"
    },
    {
     "data": {
      "text/html": [
       "<pre>| 8m 33s                              | 4.75             | 75561           |</pre>"
      ],
      "text/plain": [
       "| 8m 33s                              | 4.75             | 75561           |"
      ]
     },
     "metadata": {},
     "output_type": "display_data"
    },
    {
     "data": {
      "text/html": [
       "<pre>| 8m 36s                              | 4.75             | 75576           |</pre>"
      ],
      "text/plain": [
       "| 8m 36s                              | 4.75             | 75576           |"
      ]
     },
     "metadata": {},
     "output_type": "display_data"
    },
    {
     "data": {
      "text/html": [
       "<pre>| 8m 53s                              | 4.75             | 75577           |</pre>"
      ],
      "text/plain": [
       "| 8m 53s                              | 4.75             | 75577           |"
      ]
     },
     "metadata": {},
     "output_type": "display_data"
    },
    {
     "data": {
      "text/html": [
       "<pre>| 8m 54s                              | 4.75             | 75578           |</pre>"
      ],
      "text/plain": [
       "| 8m 54s                              | 4.75             | 75578           |"
      ]
     },
     "metadata": {},
     "output_type": "display_data"
    },
    {
     "data": {
      "text/html": [
       "<pre>| 8m 56s                              | 4.75             | 75582           |</pre>"
      ],
      "text/plain": [
       "| 8m 56s                              | 4.75             | 75582           |"
      ]
     },
     "metadata": {},
     "output_type": "display_data"
    },
    {
     "data": {
      "text/html": [
       "<pre>| 8m 57s                              | 4.75             | 75583           |</pre>"
      ],
      "text/plain": [
       "| 8m 57s                              | 4.75             | 75583           |"
      ]
     },
     "metadata": {},
     "output_type": "display_data"
    },
    {
     "data": {
      "text/html": [
       "<pre>| 9m 1s                               | 4.75             | 75584           |</pre>"
      ],
      "text/plain": [
       "| 9m 1s                               | 4.75             | 75584           |"
      ]
     },
     "metadata": {},
     "output_type": "display_data"
    },
    {
     "data": {
      "text/html": [
       "<pre>| 9m 3s                               | 4.75             | 75585           |</pre>"
      ],
      "text/plain": [
       "| 9m 3s                               | 4.75             | 75585           |"
      ]
     },
     "metadata": {},
     "output_type": "display_data"
    },
    {
     "data": {
      "text/html": [
       "<pre>| 9m 5s                               | 4.75             | 75591           |</pre>"
      ],
      "text/plain": [
       "| 9m 5s                               | 4.75             | 75591           |"
      ]
     },
     "metadata": {},
     "output_type": "display_data"
    },
    {
     "data": {
      "text/html": [
       "<pre>| 9m 6s                               | 4.75             | 75598           |</pre>"
      ],
      "text/plain": [
       "| 9m 6s                               | 4.75             | 75598           |"
      ]
     },
     "metadata": {},
     "output_type": "display_data"
    },
    {
     "data": {
      "text/html": [
       "<pre>| 9m 8s                               | 4.75             | 75598           |</pre>"
      ],
      "text/plain": [
       "| 9m 8s                               | 4.75             | 75598           |"
      ]
     },
     "metadata": {},
     "output_type": "display_data"
    },
    {
     "data": {
      "text/html": [
       "<pre>| 9m 10s                              | 4.75             | 75598           |</pre>"
      ],
      "text/plain": [
       "| 9m 10s                              | 4.75             | 75598           |"
      ]
     },
     "metadata": {},
     "output_type": "display_data"
    },
    {
     "data": {
      "text/html": [
       "<pre>| 9m 13s                              | 4.75             | 75616           |</pre>"
      ],
      "text/plain": [
       "| 9m 13s                              | 4.75             | 75616           |"
      ]
     },
     "metadata": {},
     "output_type": "display_data"
    },
    {
     "data": {
      "text/html": [
       "<pre>| 9m 23s                              | 4.75             | 75616           |</pre>"
      ],
      "text/plain": [
       "| 9m 23s                              | 4.75             | 75616           |"
      ]
     },
     "metadata": {},
     "output_type": "display_data"
    },
    {
     "data": {
      "text/html": [
       "<pre>| 9m 25s                              | 4.75             | 75617           |</pre>"
      ],
      "text/plain": [
       "| 9m 25s                              | 4.75             | 75617           |"
      ]
     },
     "metadata": {},
     "output_type": "display_data"
    },
    {
     "data": {
      "text/html": [
       "<pre>| 9m 29s                              | 4.75             | 75621           |</pre>"
      ],
      "text/plain": [
       "| 9m 29s                              | 4.75             | 75621           |"
      ]
     },
     "metadata": {},
     "output_type": "display_data"
    },
    {
     "data": {
      "text/html": [
       "<pre>| 9m 30s                              | 4.75             | 75623           |</pre>"
      ],
      "text/plain": [
       "| 9m 30s                              | 4.75             | 75623           |"
      ]
     },
     "metadata": {},
     "output_type": "display_data"
    },
    {
     "data": {
      "text/html": [
       "<pre>| 9m 32s                              | 4.75             | 75623           |</pre>"
      ],
      "text/plain": [
       "| 9m 32s                              | 4.75             | 75623           |"
      ]
     },
     "metadata": {},
     "output_type": "display_data"
    },
    {
     "data": {
      "text/html": [
       "<pre>| 9m 34s                              | 4.75             | 75623           |</pre>"
      ],
      "text/plain": [
       "| 9m 34s                              | 4.75             | 75623           |"
      ]
     },
     "metadata": {},
     "output_type": "display_data"
    },
    {
     "data": {
      "text/html": [
       "<pre>| 9m 35s                              | 4.75             | 75625           |</pre>"
      ],
      "text/plain": [
       "| 9m 35s                              | 4.75             | 75625           |"
      ]
     },
     "metadata": {},
     "output_type": "display_data"
    },
    {
     "data": {
      "text/html": [
       "<pre>| 9m 36s                              | 4.75             | 75628           |</pre>"
      ],
      "text/plain": [
       "| 9m 36s                              | 4.75             | 75628           |"
      ]
     },
     "metadata": {},
     "output_type": "display_data"
    },
    {
     "data": {
      "text/html": [
       "<pre>| 9m 37s                              | 4.75             | 75629           |</pre>"
      ],
      "text/plain": [
       "| 9m 37s                              | 4.75             | 75629           |"
      ]
     },
     "metadata": {},
     "output_type": "display_data"
    },
    {
     "data": {
      "text/html": [
       "<pre>| 9m 38s                              | 4.75             | 75629           |</pre>"
      ],
      "text/plain": [
       "| 9m 38s                              | 4.75             | 75629           |"
      ]
     },
     "metadata": {},
     "output_type": "display_data"
    },
    {
     "data": {
      "text/html": [
       "<pre>| 9m 39s                              | 4.75             | 75629           |</pre>"
      ],
      "text/plain": [
       "| 9m 39s                              | 4.75             | 75629           |"
      ]
     },
     "metadata": {},
     "output_type": "display_data"
    },
    {
     "data": {
      "text/html": [
       "<pre>| 9m 42s                              | 4.75             | 75653           |</pre>"
      ],
      "text/plain": [
       "| 9m 42s                              | 4.75             | 75653           |"
      ]
     },
     "metadata": {},
     "output_type": "display_data"
    },
    {
     "data": {
      "text/html": [
       "<pre>| 9m 44s                              | 4.75             | 75654           |</pre>"
      ],
      "text/plain": [
       "| 9m 44s                              | 4.75             | 75654           |"
      ]
     },
     "metadata": {},
     "output_type": "display_data"
    },
    {
     "data": {
      "text/html": [
       "<pre>| 9m 45s                              | 4.75             | 75690           |</pre>"
      ],
      "text/plain": [
       "| 9m 45s                              | 4.75             | 75690           |"
      ]
     },
     "metadata": {},
     "output_type": "display_data"
    },
    {
     "data": {
      "text/html": [
       "<pre>| 9m 58s                              | 4.75             | 75690           |</pre>"
      ],
      "text/plain": [
       "| 9m 58s                              | 4.75             | 75690           |"
      ]
     },
     "metadata": {},
     "output_type": "display_data"
    },
    {
     "data": {
      "text/html": [
       "<pre>| 10m 1s                              | 4.75             | 75693           |</pre>"
      ],
      "text/plain": [
       "| 10m 1s                              | 4.75             | 75693           |"
      ]
     },
     "metadata": {},
     "output_type": "display_data"
    },
    {
     "data": {
      "text/html": [
       "<pre>| 10m 4s                              | 4.75             | 75695           |</pre>"
      ],
      "text/plain": [
       "| 10m 4s                              | 4.75             | 75695           |"
      ]
     },
     "metadata": {},
     "output_type": "display_data"
    },
    {
     "data": {
      "text/html": [
       "<pre>| 10m 6s                              | 4.75             | 75703           |</pre>"
      ],
      "text/plain": [
       "| 10m 6s                              | 4.75             | 75703           |"
      ]
     },
     "metadata": {},
     "output_type": "display_data"
    },
    {
     "data": {
      "text/html": [
       "<pre>| 10m 7s                              | 4.75             | 75704           |</pre>"
      ],
      "text/plain": [
       "| 10m 7s                              | 4.75             | 75704           |"
      ]
     },
     "metadata": {},
     "output_type": "display_data"
    },
    {
     "data": {
      "text/html": [
       "<pre>| 10m 12s                             | 4.75             | 75704           |</pre>"
      ],
      "text/plain": [
       "| 10m 12s                             | 4.75             | 75704           |"
      ]
     },
     "metadata": {},
     "output_type": "display_data"
    },
    {
     "data": {
      "text/html": [
       "<pre>| 10m 15s                             | 4.75             | 75712           |</pre>"
      ],
      "text/plain": [
       "| 10m 15s                             | 4.75             | 75712           |"
      ]
     },
     "metadata": {},
     "output_type": "display_data"
    },
    {
     "data": {
      "text/html": [
       "<pre>| 10m 26s                             | 4.75             | 75712           |</pre>"
      ],
      "text/plain": [
       "| 10m 26s                             | 4.75             | 75712           |"
      ]
     },
     "metadata": {},
     "output_type": "display_data"
    },
    {
     "data": {
      "text/html": [
       "<pre>| 10m 27s                             | 4.75             | 75721           |</pre>"
      ],
      "text/plain": [
       "| 10m 27s                             | 4.75             | 75721           |"
      ]
     },
     "metadata": {},
     "output_type": "display_data"
    },
    {
     "data": {
      "text/html": [
       "<pre>| 10m 29s                             | 4.75             | 75726           |</pre>"
      ],
      "text/plain": [
       "| 10m 29s                             | 4.75             | 75726           |"
      ]
     },
     "metadata": {},
     "output_type": "display_data"
    },
    {
     "data": {
      "text/html": [
       "<pre>| 10m 31s                             | 4.75             | 75727           |</pre>"
      ],
      "text/plain": [
       "| 10m 31s                             | 4.75             | 75727           |"
      ]
     },
     "metadata": {},
     "output_type": "display_data"
    },
    {
     "data": {
      "text/html": [
       "<pre>| 10m 32s                             | 4.75             | 75727           |</pre>"
      ],
      "text/plain": [
       "| 10m 32s                             | 4.75             | 75727           |"
      ]
     },
     "metadata": {},
     "output_type": "display_data"
    },
    {
     "data": {
      "text/html": [
       "<pre>| 10m 33s                             | 4.75             | 75729           |</pre>"
      ],
      "text/plain": [
       "| 10m 33s                             | 4.75             | 75729           |"
      ]
     },
     "metadata": {},
     "output_type": "display_data"
    },
    {
     "data": {
      "text/html": [
       "<pre>| 10m 36s                             | 4.75             | 75730           |</pre>"
      ],
      "text/plain": [
       "| 10m 36s                             | 4.75             | 75730           |"
      ]
     },
     "metadata": {},
     "output_type": "display_data"
    },
    {
     "data": {
      "text/html": [
       "<pre>| 10m 39s                             | 4.75             | 75737           |</pre>"
      ],
      "text/plain": [
       "| 10m 39s                             | 4.75             | 75737           |"
      ]
     },
     "metadata": {},
     "output_type": "display_data"
    },
    {
     "data": {
      "text/html": [
       "<pre>| 10m 40s                             | 4.75             | 75738           |</pre>"
      ],
      "text/plain": [
       "| 10m 40s                             | 4.75             | 75738           |"
      ]
     },
     "metadata": {},
     "output_type": "display_data"
    },
    {
     "data": {
      "text/html": [
       "<pre>| 10m 41s                             | 4.75             | 75738           |</pre>"
      ],
      "text/plain": [
       "| 10m 41s                             | 4.75             | 75738           |"
      ]
     },
     "metadata": {},
     "output_type": "display_data"
    },
    {
     "data": {
      "text/html": [
       "<pre>| 10m 45s                             | 4.75             | 75753           |</pre>"
      ],
      "text/plain": [
       "| 10m 45s                             | 4.75             | 75753           |"
      ]
     },
     "metadata": {},
     "output_type": "display_data"
    },
    {
     "data": {
      "text/html": [
       "<pre>| 10m 46s                             | 4.75             | 75753           |</pre>"
      ],
      "text/plain": [
       "| 10m 46s                             | 4.75             | 75753           |"
      ]
     },
     "metadata": {},
     "output_type": "display_data"
    },
    {
     "data": {
      "text/html": [
       "<pre>| 10m 49s                             | 4.75             | 75755           |</pre>"
      ],
      "text/plain": [
       "| 10m 49s                             | 4.75             | 75755           |"
      ]
     },
     "metadata": {},
     "output_type": "display_data"
    },
    {
     "data": {
      "text/html": [
       "<pre>| 10m 52s                             | 4.75             | 75755           |</pre>"
      ],
      "text/plain": [
       "| 10m 52s                             | 4.75             | 75755           |"
      ]
     },
     "metadata": {},
     "output_type": "display_data"
    },
    {
     "data": {
      "text/html": [
       "<pre>| 10m 54s                             | 4.75             | 75757           |</pre>"
      ],
      "text/plain": [
       "| 10m 54s                             | 4.75             | 75757           |"
      ]
     },
     "metadata": {},
     "output_type": "display_data"
    },
    {
     "data": {
      "text/html": [
       "<pre>| 10m 56s                             | 4.75             | 75758           |</pre>"
      ],
      "text/plain": [
       "| 10m 56s                             | 4.75             | 75758           |"
      ]
     },
     "metadata": {},
     "output_type": "display_data"
    },
    {
     "data": {
      "text/html": [
       "<pre>| 10m 59s                             | 4.75             | 75758           |</pre>"
      ],
      "text/plain": [
       "| 10m 59s                             | 4.75             | 75758           |"
      ]
     },
     "metadata": {},
     "output_type": "display_data"
    },
    {
     "data": {
      "text/html": [
       "<pre>| 11m 2s                              | 4.75             | 75768           |</pre>"
      ],
      "text/plain": [
       "| 11m 2s                              | 4.75             | 75768           |"
      ]
     },
     "metadata": {},
     "output_type": "display_data"
    },
    {
     "data": {
      "text/html": [
       "<pre>| 11m 6s                              | 4.75             | 75782           |</pre>"
      ],
      "text/plain": [
       "| 11m 6s                              | 4.75             | 75782           |"
      ]
     },
     "metadata": {},
     "output_type": "display_data"
    },
    {
     "data": {
      "text/html": [
       "<pre>| 11m 8s                              | 4.75             | 75783           |</pre>"
      ],
      "text/plain": [
       "| 11m 8s                              | 4.75             | 75783           |"
      ]
     },
     "metadata": {},
     "output_type": "display_data"
    },
    {
     "data": {
      "text/html": [
       "<pre>| 11m 9s                              | 4.75             | 75784           |</pre>"
      ],
      "text/plain": [
       "| 11m 9s                              | 4.75             | 75784           |"
      ]
     },
     "metadata": {},
     "output_type": "display_data"
    },
    {
     "data": {
      "text/html": [
       "<pre>| 11m 10s                             | 4.75             | 75799           |</pre>"
      ],
      "text/plain": [
       "| 11m 10s                             | 4.75             | 75799           |"
      ]
     },
     "metadata": {},
     "output_type": "display_data"
    },
    {
     "data": {
      "text/html": [
       "<pre>| 11m 19s                             | 4.75             | 75800           |</pre>"
      ],
      "text/plain": [
       "| 11m 19s                             | 4.75             | 75800           |"
      ]
     },
     "metadata": {},
     "output_type": "display_data"
    },
    {
     "data": {
      "text/html": [
       "<pre>| 11m 22s                             | 4.75             | 75801           |</pre>"
      ],
      "text/plain": [
       "| 11m 22s                             | 4.75             | 75801           |"
      ]
     },
     "metadata": {},
     "output_type": "display_data"
    },
    {
     "data": {
      "text/html": [
       "<pre>| 11m 24s                             | 4.75             | 75801           |</pre>"
      ],
      "text/plain": [
       "| 11m 24s                             | 4.75             | 75801           |"
      ]
     },
     "metadata": {},
     "output_type": "display_data"
    },
    {
     "data": {
      "text/html": [
       "<pre>| 11m 24s                             | 4.75             | 75801           |</pre>"
      ],
      "text/plain": [
       "| 11m 24s                             | 4.75             | 75801           |"
      ]
     },
     "metadata": {},
     "output_type": "display_data"
    },
    {
     "data": {
      "text/html": [
       "<pre>| 11m 26s                             | 4.75             | 75804           |</pre>"
      ],
      "text/plain": [
       "| 11m 26s                             | 4.75             | 75804           |"
      ]
     },
     "metadata": {},
     "output_type": "display_data"
    },
    {
     "data": {
      "text/html": [
       "<pre>| 11m 27s                             | 4.75             | 75805           |</pre>"
      ],
      "text/plain": [
       "| 11m 27s                             | 4.75             | 75805           |"
      ]
     },
     "metadata": {},
     "output_type": "display_data"
    },
    {
     "data": {
      "text/html": [
       "<pre>| 11m 29s                             | 4.75             | 75810           |</pre>"
      ],
      "text/plain": [
       "| 11m 29s                             | 4.75             | 75810           |"
      ]
     },
     "metadata": {},
     "output_type": "display_data"
    },
    {
     "data": {
      "text/html": [
       "<pre>| 11m 31s                             | 4.75             | 75812           |</pre>"
      ],
      "text/plain": [
       "| 11m 31s                             | 4.75             | 75812           |"
      ]
     },
     "metadata": {},
     "output_type": "display_data"
    },
    {
     "data": {
      "text/html": [
       "<pre>| 11m 32s                             | 4.75             | 75819           |</pre>"
      ],
      "text/plain": [
       "| 11m 32s                             | 4.75             | 75819           |"
      ]
     },
     "metadata": {},
     "output_type": "display_data"
    },
    {
     "data": {
      "text/html": [
       "<pre>| 11m 34s                             | 4.75             | 75822           |</pre>"
      ],
      "text/plain": [
       "| 11m 34s                             | 4.75             | 75822           |"
      ]
     },
     "metadata": {},
     "output_type": "display_data"
    },
    {
     "data": {
      "text/html": [
       "<pre>| 11m 36s                             | 4.75             | 75827           |</pre>"
      ],
      "text/plain": [
       "| 11m 36s                             | 4.75             | 75827           |"
      ]
     },
     "metadata": {},
     "output_type": "display_data"
    },
    {
     "data": {
      "text/html": [
       "<pre>| 11m 39s                             | 4.75             | 75827           |</pre>"
      ],
      "text/plain": [
       "| 11m 39s                             | 4.75             | 75827           |"
      ]
     },
     "metadata": {},
     "output_type": "display_data"
    },
    {
     "data": {
      "text/html": [
       "<pre>| 11m 43s                             | 4.75             | 75828           |</pre>"
      ],
      "text/plain": [
       "| 11m 43s                             | 4.75             | 75828           |"
      ]
     },
     "metadata": {},
     "output_type": "display_data"
    },
    {
     "data": {
      "text/html": [
       "<pre>| 11m 44s                             | 4.75             | 75830           |</pre>"
      ],
      "text/plain": [
       "| 11m 44s                             | 4.75             | 75830           |"
      ]
     },
     "metadata": {},
     "output_type": "display_data"
    },
    {
     "data": {
      "text/html": [
       "<pre>| 11m 47s                             | 4.75             | 75842           |</pre>"
      ],
      "text/plain": [
       "| 11m 47s                             | 4.75             | 75842           |"
      ]
     },
     "metadata": {},
     "output_type": "display_data"
    },
    {
     "data": {
      "text/html": [
       "<pre>| 11m 48s                             | 4.75             | 75843           |</pre>"
      ],
      "text/plain": [
       "| 11m 48s                             | 4.75             | 75843           |"
      ]
     },
     "metadata": {},
     "output_type": "display_data"
    },
    {
     "data": {
      "text/html": [
       "<pre>| 11m 49s                             | 4.75             | 75892           |</pre>"
      ],
      "text/plain": [
       "| 11m 49s                             | 4.75             | 75892           |"
      ]
     },
     "metadata": {},
     "output_type": "display_data"
    },
    {
     "data": {
      "text/html": [
       "<pre>| 11m 51s                             | 4.75             | 75893           |</pre>"
      ],
      "text/plain": [
       "| 11m 51s                             | 4.75             | 75893           |"
      ]
     },
     "metadata": {},
     "output_type": "display_data"
    },
    {
     "data": {
      "text/html": [
       "<pre>| 11m 52s                             | 4.75             | 75916           |</pre>"
      ],
      "text/plain": [
       "| 11m 52s                             | 4.75             | 75916           |"
      ]
     },
     "metadata": {},
     "output_type": "display_data"
    },
    {
     "data": {
      "text/html": [
       "<pre>| 11m 55s                             | 4.75             | 75916           |</pre>"
      ],
      "text/plain": [
       "| 11m 55s                             | 4.75             | 75916           |"
      ]
     },
     "metadata": {},
     "output_type": "display_data"
    },
    {
     "data": {
      "text/html": [
       "<pre>| 12m 0s                              | 4.75             | 75919           |</pre>"
      ],
      "text/plain": [
       "| 12m 0s                              | 4.75             | 75919           |"
      ]
     },
     "metadata": {},
     "output_type": "display_data"
    },
    {
     "data": {
      "text/html": [
       "<pre>| 12m 3s                              | 4.75             | 75920           |</pre>"
      ],
      "text/plain": [
       "| 12m 3s                              | 4.75             | 75920           |"
      ]
     },
     "metadata": {},
     "output_type": "display_data"
    },
    {
     "data": {
      "text/html": [
       "<pre>| 12m 4s                              | 4.75             | 75921           |</pre>"
      ],
      "text/plain": [
       "| 12m 4s                              | 4.75             | 75921           |"
      ]
     },
     "metadata": {},
     "output_type": "display_data"
    },
    {
     "data": {
      "text/html": [
       "<pre>| 12m 11s                             | 4.75             | 75925           |</pre>"
      ],
      "text/plain": [
       "| 12m 11s                             | 4.75             | 75925           |"
      ]
     },
     "metadata": {},
     "output_type": "display_data"
    },
    {
     "data": {
      "text/html": [
       "<pre>| 12m 13s                             | 4.75             | 75925           |</pre>"
      ],
      "text/plain": [
       "| 12m 13s                             | 4.75             | 75925           |"
      ]
     },
     "metadata": {},
     "output_type": "display_data"
    },
    {
     "data": {
      "text/html": [
       "<pre>| 12m 15s                             | 4.75             | 75933           |</pre>"
      ],
      "text/plain": [
       "| 12m 15s                             | 4.75             | 75933           |"
      ]
     },
     "metadata": {},
     "output_type": "display_data"
    },
    {
     "data": {
      "text/html": [
       "<pre>| 12m 16s                             | 4.75             | 75939           |</pre>"
      ],
      "text/plain": [
       "| 12m 16s                             | 4.75             | 75939           |"
      ]
     },
     "metadata": {},
     "output_type": "display_data"
    },
    {
     "data": {
      "text/html": [
       "<pre>| 12m 30s                             | 4.75             | 75939           |</pre>"
      ],
      "text/plain": [
       "| 12m 30s                             | 4.75             | 75939           |"
      ]
     },
     "metadata": {},
     "output_type": "display_data"
    },
    {
     "data": {
      "text/html": [
       "<pre>| 12m 31s                             | 4.75             | 75947           |</pre>"
      ],
      "text/plain": [
       "| 12m 31s                             | 4.75             | 75947           |"
      ]
     },
     "metadata": {},
     "output_type": "display_data"
    },
    {
     "data": {
      "text/html": [
       "<pre>| 12m 39s                             | 4.75             | 75956           |</pre>"
      ],
      "text/plain": [
       "| 12m 39s                             | 4.75             | 75956           |"
      ]
     },
     "metadata": {},
     "output_type": "display_data"
    },
    {
     "data": {
      "text/html": [
       "<pre>| 12m 45s                             | 4.75             | 75958           |</pre>"
      ],
      "text/plain": [
       "| 12m 45s                             | 4.75             | 75958           |"
      ]
     },
     "metadata": {},
     "output_type": "display_data"
    },
    {
     "data": {
      "text/html": [
       "<pre>| 12m 49s                             | 4.75             | 75966           |</pre>"
      ],
      "text/plain": [
       "| 12m 49s                             | 4.75             | 75966           |"
      ]
     },
     "metadata": {},
     "output_type": "display_data"
    },
    {
     "data": {
      "text/html": [
       "<pre>| 12m 51s                             | 4.75             | 75966           |</pre>"
      ],
      "text/plain": [
       "| 12m 51s                             | 4.75             | 75966           |"
      ]
     },
     "metadata": {},
     "output_type": "display_data"
    },
    {
     "data": {
      "text/html": [
       "<pre>| 12m 52s                             | 4.75             | 75981           |</pre>"
      ],
      "text/plain": [
       "| 12m 52s                             | 4.75             | 75981           |"
      ]
     },
     "metadata": {},
     "output_type": "display_data"
    },
    {
     "data": {
      "text/html": [
       "<pre>| 13m 0s                              | 4.75             | 75981           |</pre>"
      ],
      "text/plain": [
       "| 13m 0s                              | 4.75             | 75981           |"
      ]
     },
     "metadata": {},
     "output_type": "display_data"
    },
    {
     "data": {
      "text/html": [
       "<pre>| 13m 2s                              | 4.75             | 76033           |</pre>"
      ],
      "text/plain": [
       "| 13m 2s                              | 4.75             | 76033           |"
      ]
     },
     "metadata": {},
     "output_type": "display_data"
    },
    {
     "data": {
      "text/html": [
       "<pre>| 13m 3s                              | 4.75             | 76039           |</pre>"
      ],
      "text/plain": [
       "| 13m 3s                              | 4.75             | 76039           |"
      ]
     },
     "metadata": {},
     "output_type": "display_data"
    },
    {
     "data": {
      "text/html": [
       "<pre>| 13m 17s                             | 4.75             | 76039           |</pre>"
      ],
      "text/plain": [
       "| 13m 17s                             | 4.75             | 76039           |"
      ]
     },
     "metadata": {},
     "output_type": "display_data"
    },
    {
     "data": {
      "text/html": [
       "<pre>| 13m 18s                             | 4.75             | 76039           |</pre>"
      ],
      "text/plain": [
       "| 13m 18s                             | 4.75             | 76039           |"
      ]
     },
     "metadata": {},
     "output_type": "display_data"
    },
    {
     "data": {
      "text/html": [
       "<pre>| 13m 27s                             | 4.75             | 76044           |</pre>"
      ],
      "text/plain": [
       "| 13m 27s                             | 4.75             | 76044           |"
      ]
     },
     "metadata": {},
     "output_type": "display_data"
    },
    {
     "data": {
      "text/html": [
       "<pre>| 13m 29s                             | 4.75             | 76047           |</pre>"
      ],
      "text/plain": [
       "| 13m 29s                             | 4.75             | 76047           |"
      ]
     },
     "metadata": {},
     "output_type": "display_data"
    },
    {
     "data": {
      "text/html": [
       "<pre>| 13m 34s                             | 4.75             | 76051           |</pre>"
      ],
      "text/plain": [
       "| 13m 34s                             | 4.75             | 76051           |"
      ]
     },
     "metadata": {},
     "output_type": "display_data"
    },
    {
     "data": {
      "text/html": [
       "<pre>| 13m 40s                             | 4.75             | 76077           |</pre>"
      ],
      "text/plain": [
       "| 13m 40s                             | 4.75             | 76077           |"
      ]
     },
     "metadata": {},
     "output_type": "display_data"
    },
    {
     "data": {
      "text/html": [
       "<pre>| 13m 44s                             | 4.75             | 76077           |</pre>"
      ],
      "text/plain": [
       "| 13m 44s                             | 4.75             | 76077           |"
      ]
     },
     "metadata": {},
     "output_type": "display_data"
    },
    {
     "data": {
      "text/html": [
       "<pre>| 13m 45s                             | 4.75             | 76080           |</pre>"
      ],
      "text/plain": [
       "| 13m 45s                             | 4.75             | 76080           |"
      ]
     },
     "metadata": {},
     "output_type": "display_data"
    },
    {
     "data": {
      "text/html": [
       "<pre>| 13m 46s                             | 4.75             | 76081           |</pre>"
      ],
      "text/plain": [
       "| 13m 46s                             | 4.75             | 76081           |"
      ]
     },
     "metadata": {},
     "output_type": "display_data"
    },
    {
     "data": {
      "text/html": [
       "<pre>| 13m 47s                             | 4.75             | 76084           |</pre>"
      ],
      "text/plain": [
       "| 13m 47s                             | 4.75             | 76084           |"
      ]
     },
     "metadata": {},
     "output_type": "display_data"
    },
    {
     "data": {
      "text/html": [
       "<pre>| 13m 48s                             | 4.75             | 76084           |</pre>"
      ],
      "text/plain": [
       "| 13m 48s                             | 4.75             | 76084           |"
      ]
     },
     "metadata": {},
     "output_type": "display_data"
    },
    {
     "data": {
      "text/html": [
       "<pre>| 13m 49s                             | 4.75             | 76084           |</pre>"
      ],
      "text/plain": [
       "| 13m 49s                             | 4.75             | 76084           |"
      ]
     },
     "metadata": {},
     "output_type": "display_data"
    },
    {
     "data": {
      "text/html": [
       "<pre>| 13m 50s                             | 4.75             | 76087           |</pre>"
      ],
      "text/plain": [
       "| 13m 50s                             | 4.75             | 76087           |"
      ]
     },
     "metadata": {},
     "output_type": "display_data"
    },
    {
     "data": {
      "text/html": [
       "<pre>| 13m 51s                             | 4.75             | 76088           |</pre>"
      ],
      "text/plain": [
       "| 13m 51s                             | 4.75             | 76088           |"
      ]
     },
     "metadata": {},
     "output_type": "display_data"
    },
    {
     "data": {
      "text/html": [
       "<pre>| 13m 52s                             | 4.75             | 76088           |</pre>"
      ],
      "text/plain": [
       "| 13m 52s                             | 4.75             | 76088           |"
      ]
     },
     "metadata": {},
     "output_type": "display_data"
    },
    {
     "data": {
      "text/html": [
       "<pre>| 13m 53s                             | 4.75             | 76109           |</pre>"
      ],
      "text/plain": [
       "| 13m 53s                             | 4.75             | 76109           |"
      ]
     },
     "metadata": {},
     "output_type": "display_data"
    },
    {
     "data": {
      "text/html": [
       "<pre>| 13m 55s                             | 4.75             | 76109           |</pre>"
      ],
      "text/plain": [
       "| 13m 55s                             | 4.75             | 76109           |"
      ]
     },
     "metadata": {},
     "output_type": "display_data"
    },
    {
     "data": {
      "text/html": [
       "<pre>| 13m 56s                             | 4.75             | 76111           |</pre>"
      ],
      "text/plain": [
       "| 13m 56s                             | 4.75             | 76111           |"
      ]
     },
     "metadata": {},
     "output_type": "display_data"
    },
    {
     "data": {
      "text/html": [
       "<pre>| 14m 5s                              | 4.75             | 76112           |</pre>"
      ],
      "text/plain": [
       "| 14m 5s                              | 4.75             | 76112           |"
      ]
     },
     "metadata": {},
     "output_type": "display_data"
    },
    {
     "data": {
      "text/html": [
       "<pre>| 14m 6s                              | 4.75             | 76113           |</pre>"
      ],
      "text/plain": [
       "| 14m 6s                              | 4.75             | 76113           |"
      ]
     },
     "metadata": {},
     "output_type": "display_data"
    },
    {
     "data": {
      "text/html": [
       "<pre>| 14m 7s                              | 4.75             | 76114           |</pre>"
      ],
      "text/plain": [
       "| 14m 7s                              | 4.75             | 76114           |"
      ]
     },
     "metadata": {},
     "output_type": "display_data"
    },
    {
     "data": {
      "text/html": [
       "<pre>| 14m 9s                              | 4.75             | 76114           |</pre>"
      ],
      "text/plain": [
       "| 14m 9s                              | 4.75             | 76114           |"
      ]
     },
     "metadata": {},
     "output_type": "display_data"
    },
    {
     "data": {
      "text/html": [
       "<pre>| 14m 9s                              | 4.75             | 76158           |</pre>"
      ],
      "text/plain": [
       "| 14m 9s                              | 4.75             | 76158           |"
      ]
     },
     "metadata": {},
     "output_type": "display_data"
    },
    {
     "data": {
      "text/html": [
       "<pre>| 14m 11s                             | 4.75             | 76162           |</pre>"
      ],
      "text/plain": [
       "| 14m 11s                             | 4.75             | 76162           |"
      ]
     },
     "metadata": {},
     "output_type": "display_data"
    },
    {
     "data": {
      "text/html": [
       "<pre>| 14m 12s                             | 4.75             | 76162           |</pre>"
      ],
      "text/plain": [
       "| 14m 12s                             | 4.75             | 76162           |"
      ]
     },
     "metadata": {},
     "output_type": "display_data"
    },
    {
     "data": {
      "text/html": [
       "<pre>| 14m 13s                             | 4.75             | 76194           |</pre>"
      ],
      "text/plain": [
       "| 14m 13s                             | 4.75             | 76194           |"
      ]
     },
     "metadata": {},
     "output_type": "display_data"
    },
    {
     "data": {
      "text/html": [
       "<pre>| 14m 17s                             | 4.75             | 76194           |</pre>"
      ],
      "text/plain": [
       "| 14m 17s                             | 4.75             | 76194           |"
      ]
     },
     "metadata": {},
     "output_type": "display_data"
    },
    {
     "data": {
      "text/html": [
       "<pre>| 14m 20s                             | 4.75             | 76197           |</pre>"
      ],
      "text/plain": [
       "| 14m 20s                             | 4.75             | 76197           |"
      ]
     },
     "metadata": {},
     "output_type": "display_data"
    },
    {
     "data": {
      "text/html": [
       "<pre>| 14m 27s                             | 4.75             | 76198           |</pre>"
      ],
      "text/plain": [
       "| 14m 27s                             | 4.75             | 76198           |"
      ]
     },
     "metadata": {},
     "output_type": "display_data"
    },
    {
     "data": {
      "text/html": [
       "<pre>| 14m 29s                             | 4.75             | 76226           |</pre>"
      ],
      "text/plain": [
       "| 14m 29s                             | 4.75             | 76226           |"
      ]
     },
     "metadata": {},
     "output_type": "display_data"
    },
    {
     "data": {
      "text/html": [
       "<pre>| 14m 31s                             | 4.75             | 76226           |</pre>"
      ],
      "text/plain": [
       "| 14m 31s                             | 4.75             | 76226           |"
      ]
     },
     "metadata": {},
     "output_type": "display_data"
    },
    {
     "data": {
      "text/html": [
       "<pre>| 14m 31s                             | 4.75             | 76227           |</pre>"
      ],
      "text/plain": [
       "| 14m 31s                             | 4.75             | 76227           |"
      ]
     },
     "metadata": {},
     "output_type": "display_data"
    },
    {
     "data": {
      "text/html": [
       "<pre>| 14m 32s                             | 4.75             | 76227           |</pre>"
      ],
      "text/plain": [
       "| 14m 32s                             | 4.75             | 76227           |"
      ]
     },
     "metadata": {},
     "output_type": "display_data"
    },
    {
     "data": {
      "text/html": [
       "<pre>| 14m 55s                             | 4.75             | 76237           |</pre>"
      ],
      "text/plain": [
       "| 14m 55s                             | 4.75             | 76237           |"
      ]
     },
     "metadata": {},
     "output_type": "display_data"
    },
    {
     "data": {
      "text/html": [
       "<pre>| 14m 59s                             | 4.75             | 76237           |</pre>"
      ],
      "text/plain": [
       "| 14m 59s                             | 4.75             | 76237           |"
      ]
     },
     "metadata": {},
     "output_type": "display_data"
    },
    {
     "data": {
      "text/html": [
       "<pre>| 15m 6s                              | 4.75             | 76241           |</pre>"
      ],
      "text/plain": [
       "| 15m 6s                              | 4.75             | 76241           |"
      ]
     },
     "metadata": {},
     "output_type": "display_data"
    },
    {
     "data": {
      "text/html": [
       "<pre>| 15m 8s                              | 4.75             | 76241           |</pre>"
      ],
      "text/plain": [
       "| 15m 8s                              | 4.75             | 76241           |"
      ]
     },
     "metadata": {},
     "output_type": "display_data"
    },
    {
     "data": {
      "text/html": [
       "<pre>| 15m 9s                              | 4.75             | 76242           |</pre>"
      ],
      "text/plain": [
       "| 15m 9s                              | 4.75             | 76242           |"
      ]
     },
     "metadata": {},
     "output_type": "display_data"
    },
    {
     "data": {
      "text/html": [
       "<pre>| 15m 9s                              | 4.75             | 76242           |</pre>"
      ],
      "text/plain": [
       "| 15m 9s                              | 4.75             | 76242           |"
      ]
     },
     "metadata": {},
     "output_type": "display_data"
    },
    {
     "data": {
      "text/html": [
       "<pre>| 15m 10s                             | 4.75             | 76243           |</pre>"
      ],
      "text/plain": [
       "| 15m 10s                             | 4.75             | 76243           |"
      ]
     },
     "metadata": {},
     "output_type": "display_data"
    },
    {
     "data": {
      "text/html": [
       "<pre>| 15m 29s                             | 4.75             | 76339           |</pre>"
      ],
      "text/plain": [
       "| 15m 29s                             | 4.75             | 76339           |"
      ]
     },
     "metadata": {},
     "output_type": "display_data"
    },
    {
     "data": {
      "text/html": [
       "<pre>| 15m 40s                             | 4.75             | 76339           |</pre>"
      ],
      "text/plain": [
       "| 15m 40s                             | 4.75             | 76339           |"
      ]
     },
     "metadata": {},
     "output_type": "display_data"
    },
    {
     "data": {
      "text/html": [
       "<pre>| 15m 42s                             | 4.75             | 76368           |</pre>"
      ],
      "text/plain": [
       "| 15m 42s                             | 4.75             | 76368           |"
      ]
     },
     "metadata": {},
     "output_type": "display_data"
    },
    {
     "data": {
      "text/html": [
       "<pre>| 15m 56s                             | 4.75             | 76368           |</pre>"
      ],
      "text/plain": [
       "| 15m 56s                             | 4.75             | 76368           |"
      ]
     },
     "metadata": {},
     "output_type": "display_data"
    },
    {
     "data": {
      "text/html": [
       "<pre>| 15m 59s                             | 4.75             | 76382           |</pre>"
      ],
      "text/plain": [
       "| 15m 59s                             | 4.75             | 76382           |"
      ]
     },
     "metadata": {},
     "output_type": "display_data"
    },
    {
     "data": {
      "text/html": [
       "<pre>| 16m 2s                              | 4.75             | 76382           |</pre>"
      ],
      "text/plain": [
       "| 16m 2s                              | 4.75             | 76382           |"
      ]
     },
     "metadata": {},
     "output_type": "display_data"
    },
    {
     "data": {
      "text/html": [
       "<pre>| 16m 10s                             | 4.75             | 76390           |</pre>"
      ],
      "text/plain": [
       "| 16m 10s                             | 4.75             | 76390           |"
      ]
     },
     "metadata": {},
     "output_type": "display_data"
    },
    {
     "data": {
      "text/html": [
       "<pre>| 16m 17s                             | 4.75             | 76390           |</pre>"
      ],
      "text/plain": [
       "| 16m 17s                             | 4.75             | 76390           |"
      ]
     },
     "metadata": {},
     "output_type": "display_data"
    },
    {
     "data": {
      "text/html": [
       "<pre>| 16m 19s                             | 4.75             | 76391           |</pre>"
      ],
      "text/plain": [
       "| 16m 19s                             | 4.75             | 76391           |"
      ]
     },
     "metadata": {},
     "output_type": "display_data"
    },
    {
     "data": {
      "text/html": [
       "<pre>| 16m 22s                             | 4.75             | 76392           |</pre>"
      ],
      "text/plain": [
       "| 16m 22s                             | 4.75             | 76392           |"
      ]
     },
     "metadata": {},
     "output_type": "display_data"
    },
    {
     "data": {
      "text/html": [
       "<pre>| 16m 28s                             | 4.75             | 76396           |</pre>"
      ],
      "text/plain": [
       "| 16m 28s                             | 4.75             | 76396           |"
      ]
     },
     "metadata": {},
     "output_type": "display_data"
    },
    {
     "data": {
      "text/html": [
       "<pre>| 16m 29s                             | 4.75             | 76397           |</pre>"
      ],
      "text/plain": [
       "| 16m 29s                             | 4.75             | 76397           |"
      ]
     },
     "metadata": {},
     "output_type": "display_data"
    },
    {
     "data": {
      "text/html": [
       "<pre>| 16m 31s                             | 4.75             | 76398           |</pre>"
      ],
      "text/plain": [
       "| 16m 31s                             | 4.75             | 76398           |"
      ]
     },
     "metadata": {},
     "output_type": "display_data"
    },
    {
     "data": {
      "text/html": [
       "<pre>| 16m 31s                             | 4.75             | 76401           |</pre>"
      ],
      "text/plain": [
       "| 16m 31s                             | 4.75             | 76401           |"
      ]
     },
     "metadata": {},
     "output_type": "display_data"
    },
    {
     "data": {
      "text/html": [
       "<pre>| 16m 32s                             | 4.75             | 76451           |</pre>"
      ],
      "text/plain": [
       "| 16m 32s                             | 4.75             | 76451           |"
      ]
     },
     "metadata": {},
     "output_type": "display_data"
    },
    {
     "data": {
      "text/html": [
       "<pre>| 16m 36s                             | 4.75             | 76454           |</pre>"
      ],
      "text/plain": [
       "| 16m 36s                             | 4.75             | 76454           |"
      ]
     },
     "metadata": {},
     "output_type": "display_data"
    },
    {
     "data": {
      "text/html": [
       "<pre>| 16m 44s                             | 4.75             | 76459           |</pre>"
      ],
      "text/plain": [
       "| 16m 44s                             | 4.75             | 76459           |"
      ]
     },
     "metadata": {},
     "output_type": "display_data"
    },
    {
     "data": {
      "text/html": [
       "<pre>| 16m 48s                             | 4.75             | 76462           |</pre>"
      ],
      "text/plain": [
       "| 16m 48s                             | 4.75             | 76462           |"
      ]
     },
     "metadata": {},
     "output_type": "display_data"
    },
    {
     "data": {
      "text/html": [
       "<pre>| 16m 54s                             | 4.75             | 76468           |</pre>"
      ],
      "text/plain": [
       "| 16m 54s                             | 4.75             | 76468           |"
      ]
     },
     "metadata": {},
     "output_type": "display_data"
    },
    {
     "data": {
      "text/html": [
       "<pre>| 16m 57s                             | 4.75             | 76469           |</pre>"
      ],
      "text/plain": [
       "| 16m 57s                             | 4.75             | 76469           |"
      ]
     },
     "metadata": {},
     "output_type": "display_data"
    },
    {
     "data": {
      "text/html": [
       "<pre>| 16m 58s                             | 4.75             | 76470           |</pre>"
      ],
      "text/plain": [
       "| 16m 58s                             | 4.75             | 76470           |"
      ]
     },
     "metadata": {},
     "output_type": "display_data"
    },
    {
     "data": {
      "text/html": [
       "<pre>| 17m 0s                              | 4.75             | 76506           |</pre>"
      ],
      "text/plain": [
       "| 17m 0s                              | 4.75             | 76506           |"
      ]
     },
     "metadata": {},
     "output_type": "display_data"
    },
    {
     "data": {
      "text/html": [
       "<pre>| 17m 9s                              | 4.75             | 76507           |</pre>"
      ],
      "text/plain": [
       "| 17m 9s                              | 4.75             | 76507           |"
      ]
     },
     "metadata": {},
     "output_type": "display_data"
    },
    {
     "data": {
      "text/html": [
       "<pre>| 17m 14s                             | 4.75             | 76511           |</pre>"
      ],
      "text/plain": [
       "| 17m 14s                             | 4.75             | 76511           |"
      ]
     },
     "metadata": {},
     "output_type": "display_data"
    },
    {
     "data": {
      "text/html": [
       "<pre>| 17m 22s                             | 4.75             | 76512           |</pre>"
      ],
      "text/plain": [
       "| 17m 22s                             | 4.75             | 76512           |"
      ]
     },
     "metadata": {},
     "output_type": "display_data"
    },
    {
     "data": {
      "text/html": [
       "<pre>| 17m 25s                             | 4.75             | 76513           |</pre>"
      ],
      "text/plain": [
       "| 17m 25s                             | 4.75             | 76513           |"
      ]
     },
     "metadata": {},
     "output_type": "display_data"
    },
    {
     "data": {
      "text/html": [
       "<pre>| 17m 28s                             | 4.75             | 76514           |</pre>"
      ],
      "text/plain": [
       "| 17m 28s                             | 4.75             | 76514           |"
      ]
     },
     "metadata": {},
     "output_type": "display_data"
    },
    {
     "data": {
      "text/html": [
       "<pre>| 17m 29s                             | 4.75             | 76514           |</pre>"
      ],
      "text/plain": [
       "| 17m 29s                             | 4.75             | 76514           |"
      ]
     },
     "metadata": {},
     "output_type": "display_data"
    },
    {
     "data": {
      "text/html": [
       "<pre>| 17m 32s                             | 4.75             | 76515           |</pre>"
      ],
      "text/plain": [
       "| 17m 32s                             | 4.75             | 76515           |"
      ]
     },
     "metadata": {},
     "output_type": "display_data"
    },
    {
     "data": {
      "text/html": [
       "<pre>| 17m 56s                             | 4.75             | 76602           |</pre>"
      ],
      "text/plain": [
       "| 17m 56s                             | 4.75             | 76602           |"
      ]
     },
     "metadata": {},
     "output_type": "display_data"
    },
    {
     "data": {
      "text/html": [
       "<pre>| 17m 58s                             | 4.75             | 76606           |</pre>"
      ],
      "text/plain": [
       "| 17m 58s                             | 4.75             | 76606           |"
      ]
     },
     "metadata": {},
     "output_type": "display_data"
    },
    {
     "data": {
      "text/html": [
       "<pre>| 18m 7s                              | 4.75             | 76610           |</pre>"
      ],
      "text/plain": [
       "| 18m 7s                              | 4.75             | 76610           |"
      ]
     },
     "metadata": {},
     "output_type": "display_data"
    },
    {
     "data": {
      "text/html": [
       "<pre>| 18m 18s                             | 4.75             | 76610           |</pre>"
      ],
      "text/plain": [
       "| 18m 18s                             | 4.75             | 76610           |"
      ]
     },
     "metadata": {},
     "output_type": "display_data"
    },
    {
     "data": {
      "text/html": [
       "<pre>| 18m 25s                             | 4.75             | 76613           |</pre>"
      ],
      "text/plain": [
       "| 18m 25s                             | 4.75             | 76613           |"
      ]
     },
     "metadata": {},
     "output_type": "display_data"
    },
    {
     "data": {
      "text/html": [
       "<pre>| 18m 26s                             | 4.75             | 76614           |</pre>"
      ],
      "text/plain": [
       "| 18m 26s                             | 4.75             | 76614           |"
      ]
     },
     "metadata": {},
     "output_type": "display_data"
    },
    {
     "data": {
      "text/html": [
       "<pre>| 18m 27s                             | 4.75             | 76615           |</pre>"
      ],
      "text/plain": [
       "| 18m 27s                             | 4.75             | 76615           |"
      ]
     },
     "metadata": {},
     "output_type": "display_data"
    },
    {
     "data": {
      "text/html": [
       "<pre>| 18m 31s                             | 4.75             | 76615           |</pre>"
      ],
      "text/plain": [
       "| 18m 31s                             | 4.75             | 76615           |"
      ]
     },
     "metadata": {},
     "output_type": "display_data"
    },
    {
     "data": {
      "text/html": [
       "<pre>| 18m 33s                             | 4.75             | 76628           |</pre>"
      ],
      "text/plain": [
       "| 18m 33s                             | 4.75             | 76628           |"
      ]
     },
     "metadata": {},
     "output_type": "display_data"
    },
    {
     "data": {
      "text/html": [
       "<pre>| 18m 37s                             | 4.75             | 76637           |</pre>"
      ],
      "text/plain": [
       "| 18m 37s                             | 4.75             | 76637           |"
      ]
     },
     "metadata": {},
     "output_type": "display_data"
    },
    {
     "data": {
      "text/html": [
       "<pre>| 18m 45s                             | 4.75             | 76637           |</pre>"
      ],
      "text/plain": [
       "| 18m 45s                             | 4.75             | 76637           |"
      ]
     },
     "metadata": {},
     "output_type": "display_data"
    },
    {
     "data": {
      "text/html": [
       "<pre>| 18m 47s                             | 4.75             | 76638           |</pre>"
      ],
      "text/plain": [
       "| 18m 47s                             | 4.75             | 76638           |"
      ]
     },
     "metadata": {},
     "output_type": "display_data"
    },
    {
     "data": {
      "text/html": [
       "<pre>| 18m 48s                             | 4.75             | 76638           |</pre>"
      ],
      "text/plain": [
       "| 18m 48s                             | 4.75             | 76638           |"
      ]
     },
     "metadata": {},
     "output_type": "display_data"
    },
    {
     "data": {
      "text/html": [
       "<pre>| 18m 50s                             | 4.75             | 76639           |</pre>"
      ],
      "text/plain": [
       "| 18m 50s                             | 4.75             | 76639           |"
      ]
     },
     "metadata": {},
     "output_type": "display_data"
    },
    {
     "data": {
      "text/html": [
       "<pre>| 18m 52s                             | 4.75             | 76640           |</pre>"
      ],
      "text/plain": [
       "| 18m 52s                             | 4.75             | 76640           |"
      ]
     },
     "metadata": {},
     "output_type": "display_data"
    },
    {
     "data": {
      "text/html": [
       "<pre>| 18m 52s                             | 4.75             | 76647           |</pre>"
      ],
      "text/plain": [
       "| 18m 52s                             | 4.75             | 76647           |"
      ]
     },
     "metadata": {},
     "output_type": "display_data"
    },
    {
     "data": {
      "text/html": [
       "<pre>| 18m 54s                             | 4.75             | 76649           |</pre>"
      ],
      "text/plain": [
       "| 18m 54s                             | 4.75             | 76649           |"
      ]
     },
     "metadata": {},
     "output_type": "display_data"
    },
    {
     "data": {
      "text/html": [
       "<pre>| 18m 54s                             | 4.75             | 76667           |</pre>"
      ],
      "text/plain": [
       "| 18m 54s                             | 4.75             | 76667           |"
      ]
     },
     "metadata": {},
     "output_type": "display_data"
    },
    {
     "data": {
      "text/html": [
       "<pre>| 18m 57s                             | 4.75             | 76671           |</pre>"
      ],
      "text/plain": [
       "| 18m 57s                             | 4.75             | 76671           |"
      ]
     },
     "metadata": {},
     "output_type": "display_data"
    },
    {
     "data": {
      "text/html": [
       "<pre>| 19m 2s                              | 4.75             | 76688           |</pre>"
      ],
      "text/plain": [
       "| 19m 2s                              | 4.75             | 76688           |"
      ]
     },
     "metadata": {},
     "output_type": "display_data"
    },
    {
     "data": {
      "text/html": [
       "<pre>| 19m 7s                              | 4.75             | 76689           |</pre>"
      ],
      "text/plain": [
       "| 19m 7s                              | 4.75             | 76689           |"
      ]
     },
     "metadata": {},
     "output_type": "display_data"
    },
    {
     "data": {
      "text/html": [
       "<pre>| 19m 8s                              | 4.75             | 76692           |</pre>"
      ],
      "text/plain": [
       "| 19m 8s                              | 4.75             | 76692           |"
      ]
     },
     "metadata": {},
     "output_type": "display_data"
    },
    {
     "data": {
      "text/html": [
       "<pre>| 19m 15s                             | 4.75             | 76692           |</pre>"
      ],
      "text/plain": [
       "| 19m 15s                             | 4.75             | 76692           |"
      ]
     },
     "metadata": {},
     "output_type": "display_data"
    },
    {
     "data": {
      "text/html": [
       "<pre>| 19m 42s                             | 4.75             | 76727           |</pre>"
      ],
      "text/plain": [
       "| 19m 42s                             | 4.75             | 76727           |"
      ]
     },
     "metadata": {},
     "output_type": "display_data"
    },
    {
     "data": {
      "text/html": [
       "<pre>| 19m 46s                             | 4.75             | 76731           |</pre>"
      ],
      "text/plain": [
       "| 19m 46s                             | 4.75             | 76731           |"
      ]
     },
     "metadata": {},
     "output_type": "display_data"
    },
    {
     "data": {
      "text/html": [
       "<pre>| 19m 50s                             | 4.75             | 76733           |</pre>"
      ],
      "text/plain": [
       "| 19m 50s                             | 4.75             | 76733           |"
      ]
     },
     "metadata": {},
     "output_type": "display_data"
    },
    {
     "data": {
      "text/html": [
       "<pre>| 19m 51s                             | 4.75             | 76734           |</pre>"
      ],
      "text/plain": [
       "| 19m 51s                             | 4.75             | 76734           |"
      ]
     },
     "metadata": {},
     "output_type": "display_data"
    },
    {
     "data": {
      "text/html": [
       "<pre>| 19m 55s                             | 4.75             | 76734           |</pre>"
      ],
      "text/plain": [
       "| 19m 55s                             | 4.75             | 76734           |"
      ]
     },
     "metadata": {},
     "output_type": "display_data"
    },
    {
     "data": {
      "text/html": [
       "<pre>| 20m 2s                              | 4.75             | 76743           |</pre>"
      ],
      "text/plain": [
       "| 20m 2s                              | 4.75             | 76743           |"
      ]
     },
     "metadata": {},
     "output_type": "display_data"
    },
    {
     "data": {
      "text/html": [
       "<pre>| 20m 6s                              | 4.75             | 76745           |</pre>"
      ],
      "text/plain": [
       "| 20m 6s                              | 4.75             | 76745           |"
      ]
     },
     "metadata": {},
     "output_type": "display_data"
    },
    {
     "data": {
      "text/html": [
       "<pre>| 20m 7s                              | 4.75             | 76746           |</pre>"
      ],
      "text/plain": [
       "| 20m 7s                              | 4.75             | 76746           |"
      ]
     },
     "metadata": {},
     "output_type": "display_data"
    },
    {
     "data": {
      "text/html": [
       "<pre>| 20m 9s                              | 4.75             | 76756           |</pre>"
      ],
      "text/plain": [
       "| 20m 9s                              | 4.75             | 76756           |"
      ]
     },
     "metadata": {},
     "output_type": "display_data"
    },
    {
     "data": {
      "text/html": [
       "<pre>| 20m 10s                             | 4.75             | 76762           |</pre>"
      ],
      "text/plain": [
       "| 20m 10s                             | 4.75             | 76762           |"
      ]
     },
     "metadata": {},
     "output_type": "display_data"
    },
    {
     "data": {
      "text/html": [
       "<pre>| 20m 17s                             | 4.75             | 76763           |</pre>"
      ],
      "text/plain": [
       "| 20m 17s                             | 4.75             | 76763           |"
      ]
     },
     "metadata": {},
     "output_type": "display_data"
    },
    {
     "data": {
      "text/html": [
       "<pre>| 20m 27s                             | 4.75             | 76767           |</pre>"
      ],
      "text/plain": [
       "| 20m 27s                             | 4.75             | 76767           |"
      ]
     },
     "metadata": {},
     "output_type": "display_data"
    },
    {
     "data": {
      "text/html": [
       "<pre>| 20m 29s                             | 4.75             | 76767           |</pre>"
      ],
      "text/plain": [
       "| 20m 29s                             | 4.75             | 76767           |"
      ]
     },
     "metadata": {},
     "output_type": "display_data"
    },
    {
     "data": {
      "text/html": [
       "<pre>| 20m 29s                             | 4.75             | 76768           |</pre>"
      ],
      "text/plain": [
       "| 20m 29s                             | 4.75             | 76768           |"
      ]
     },
     "metadata": {},
     "output_type": "display_data"
    },
    {
     "data": {
      "text/html": [
       "<pre>| 20m 31s                             | 4.75             | 76785           |</pre>"
      ],
      "text/plain": [
       "| 20m 31s                             | 4.75             | 76785           |"
      ]
     },
     "metadata": {},
     "output_type": "display_data"
    },
    {
     "data": {
      "text/html": [
       "<pre>| 20m 36s                             | 4.75             | 76789           |</pre>"
      ],
      "text/plain": [
       "| 20m 36s                             | 4.75             | 76789           |"
      ]
     },
     "metadata": {},
     "output_type": "display_data"
    },
    {
     "data": {
      "text/html": [
       "<pre>| 20m 38s                             | 4.75             | 76790           |</pre>"
      ],
      "text/plain": [
       "| 20m 38s                             | 4.75             | 76790           |"
      ]
     },
     "metadata": {},
     "output_type": "display_data"
    },
    {
     "data": {
      "text/html": [
       "<pre>| 20m 39s                             | 4.75             | 76797           |</pre>"
      ],
      "text/plain": [
       "| 20m 39s                             | 4.75             | 76797           |"
      ]
     },
     "metadata": {},
     "output_type": "display_data"
    },
    {
     "data": {
      "text/html": [
       "<pre>| 20m 46s                             | 4.75             | 76800           |</pre>"
      ],
      "text/plain": [
       "| 20m 46s                             | 4.75             | 76800           |"
      ]
     },
     "metadata": {},
     "output_type": "display_data"
    },
    {
     "data": {
      "text/html": [
       "<pre>| 20m 51s                             | 4.75             | 76801           |</pre>"
      ],
      "text/plain": [
       "| 20m 51s                             | 4.75             | 76801           |"
      ]
     },
     "metadata": {},
     "output_type": "display_data"
    },
    {
     "data": {
      "text/html": [
       "<pre>| 20m 53s                             | 4.75             | 76804           |</pre>"
      ],
      "text/plain": [
       "| 20m 53s                             | 4.75             | 76804           |"
      ]
     },
     "metadata": {},
     "output_type": "display_data"
    },
    {
     "data": {
      "text/html": [
       "<pre>| 20m 55s                             | 4.75             | 76806           |</pre>"
      ],
      "text/plain": [
       "| 20m 55s                             | 4.75             | 76806           |"
      ]
     },
     "metadata": {},
     "output_type": "display_data"
    },
    {
     "data": {
      "text/html": [
       "<pre>| 20m 57s                             | 4.75             | 76869           |</pre>"
      ],
      "text/plain": [
       "| 20m 57s                             | 4.75             | 76869           |"
      ]
     },
     "metadata": {},
     "output_type": "display_data"
    },
    {
     "data": {
      "text/html": [
       "<pre>| 20m 58s                             | 4.75             | 76871           |</pre>"
      ],
      "text/plain": [
       "| 20m 58s                             | 4.75             | 76871           |"
      ]
     },
     "metadata": {},
     "output_type": "display_data"
    },
    {
     "data": {
      "text/html": [
       "<pre>| 20m 59s                             | 4.75             | 76873           |</pre>"
      ],
      "text/plain": [
       "| 20m 59s                             | 4.75             | 76873           |"
      ]
     },
     "metadata": {},
     "output_type": "display_data"
    },
    {
     "data": {
      "text/html": [
       "<pre>| 21m 0s                              | 4.75             | 76874           |</pre>"
      ],
      "text/plain": [
       "| 21m 0s                              | 4.75             | 76874           |"
      ]
     },
     "metadata": {},
     "output_type": "display_data"
    },
    {
     "data": {
      "text/html": [
       "<pre>| 21m 1s                              | 4.75             | 76879           |</pre>"
      ],
      "text/plain": [
       "| 21m 1s                              | 4.75             | 76879           |"
      ]
     },
     "metadata": {},
     "output_type": "display_data"
    },
    {
     "data": {
      "text/html": [
       "<pre>| 21m 5s                              | 4.75             | 76880           |</pre>"
      ],
      "text/plain": [
       "| 21m 5s                              | 4.75             | 76880           |"
      ]
     },
     "metadata": {},
     "output_type": "display_data"
    },
    {
     "data": {
      "text/html": [
       "<pre>| 21m 6s                              | 4.75             | 76882           |</pre>"
      ],
      "text/plain": [
       "| 21m 6s                              | 4.75             | 76882           |"
      ]
     },
     "metadata": {},
     "output_type": "display_data"
    },
    {
     "data": {
      "text/html": [
       "<pre>| 21m 8s                              | 4.75             | 76883           |</pre>"
      ],
      "text/plain": [
       "| 21m 8s                              | 4.75             | 76883           |"
      ]
     },
     "metadata": {},
     "output_type": "display_data"
    },
    {
     "data": {
      "text/html": [
       "<pre>| 21m 11s                             | 4.75             | 76884           |</pre>"
      ],
      "text/plain": [
       "| 21m 11s                             | 4.75             | 76884           |"
      ]
     },
     "metadata": {},
     "output_type": "display_data"
    },
    {
     "data": {
      "text/html": [
       "<pre>| 21m 14s                             | 4.75             | 76903           |</pre>"
      ],
      "text/plain": [
       "| 21m 14s                             | 4.75             | 76903           |"
      ]
     },
     "metadata": {},
     "output_type": "display_data"
    },
    {
     "data": {
      "text/html": [
       "<pre>| 21m 16s                             | 4.75             | 77092           |</pre>"
      ],
      "text/plain": [
       "| 21m 16s                             | 4.75             | 77092           |"
      ]
     },
     "metadata": {},
     "output_type": "display_data"
    },
    {
     "data": {
      "text/html": [
       "<pre>| 21m 17s                             | 4.75             | 77092           |</pre>"
      ],
      "text/plain": [
       "| 21m 17s                             | 4.75             | 77092           |"
      ]
     },
     "metadata": {},
     "output_type": "display_data"
    },
    {
     "data": {
      "text/html": [
       "<pre>| 21m 17s                             | 4.75             | 77092           |</pre>"
      ],
      "text/plain": [
       "| 21m 17s                             | 4.75             | 77092           |"
      ]
     },
     "metadata": {},
     "output_type": "display_data"
    },
    {
     "data": {
      "text/html": [
       "<pre>| 21m 20s                             | 4.75             | 77093           |</pre>"
      ],
      "text/plain": [
       "| 21m 20s                             | 4.75             | 77093           |"
      ]
     },
     "metadata": {},
     "output_type": "display_data"
    },
    {
     "data": {
      "text/html": [
       "<pre>| 21m 22s                             | 4.75             | 77094           |</pre>"
      ],
      "text/plain": [
       "| 21m 22s                             | 4.75             | 77094           |"
      ]
     },
     "metadata": {},
     "output_type": "display_data"
    },
    {
     "data": {
      "text/html": [
       "<pre>| 21m 23s                             | 4.75             | 77095           |</pre>"
      ],
      "text/plain": [
       "| 21m 23s                             | 4.75             | 77095           |"
      ]
     },
     "metadata": {},
     "output_type": "display_data"
    },
    {
     "data": {
      "text/html": [
       "<pre>| 21m 24s                             | 4.75             | 77095           |</pre>"
      ],
      "text/plain": [
       "| 21m 24s                             | 4.75             | 77095           |"
      ]
     },
     "metadata": {},
     "output_type": "display_data"
    },
    {
     "data": {
      "text/html": [
       "<pre>| 21m 27s                             | 4.75             | 77096           |</pre>"
      ],
      "text/plain": [
       "| 21m 27s                             | 4.75             | 77096           |"
      ]
     },
     "metadata": {},
     "output_type": "display_data"
    },
    {
     "data": {
      "text/html": [
       "<pre>| 21m 32s                             | 4.75             | 77099           |</pre>"
      ],
      "text/plain": [
       "| 21m 32s                             | 4.75             | 77099           |"
      ]
     },
     "metadata": {},
     "output_type": "display_data"
    },
    {
     "data": {
      "text/html": [
       "<pre>| 21m 33s                             | 4.75             | 77099           |</pre>"
      ],
      "text/plain": [
       "| 21m 33s                             | 4.75             | 77099           |"
      ]
     },
     "metadata": {},
     "output_type": "display_data"
    },
    {
     "data": {
      "text/html": [
       "<pre>| 21m 35s                             | 4.75             | 77100           |</pre>"
      ],
      "text/plain": [
       "| 21m 35s                             | 4.75             | 77100           |"
      ]
     },
     "metadata": {},
     "output_type": "display_data"
    },
    {
     "data": {
      "text/html": [
       "<pre>| 21m 35s                             | 4.75             | 77100           |</pre>"
      ],
      "text/plain": [
       "| 21m 35s                             | 4.75             | 77100           |"
      ]
     },
     "metadata": {},
     "output_type": "display_data"
    },
    {
     "data": {
      "text/html": [
       "<pre>| 21m 36s                             | 4.75             | 77101           |</pre>"
      ],
      "text/plain": [
       "| 21m 36s                             | 4.75             | 77101           |"
      ]
     },
     "metadata": {},
     "output_type": "display_data"
    },
    {
     "data": {
      "text/html": [
       "<pre>| 21m 40s                             | 4.75             | 77103           |</pre>"
      ],
      "text/plain": [
       "| 21m 40s                             | 4.75             | 77103           |"
      ]
     },
     "metadata": {},
     "output_type": "display_data"
    },
    {
     "data": {
      "text/html": [
       "<pre>| 22m 2s                              | 4.75             | 77119           |</pre>"
      ],
      "text/plain": [
       "| 22m 2s                              | 4.75             | 77119           |"
      ]
     },
     "metadata": {},
     "output_type": "display_data"
    },
    {
     "data": {
      "text/html": [
       "<pre>| 22m 8s                              | 4.75             | 77123           |</pre>"
      ],
      "text/plain": [
       "| 22m 8s                              | 4.75             | 77123           |"
      ]
     },
     "metadata": {},
     "output_type": "display_data"
    },
    {
     "data": {
      "text/html": [
       "<pre>| 22m 9s                              | 4.75             | 77123           |</pre>"
      ],
      "text/plain": [
       "| 22m 9s                              | 4.75             | 77123           |"
      ]
     },
     "metadata": {},
     "output_type": "display_data"
    },
    {
     "data": {
      "text/html": [
       "<pre>| 22m 10s                             | 4.75             | 77129           |</pre>"
      ],
      "text/plain": [
       "| 22m 10s                             | 4.75             | 77129           |"
      ]
     },
     "metadata": {},
     "output_type": "display_data"
    },
    {
     "data": {
      "text/html": [
       "<pre>| 22m 11s                             | 4.75             | 77129           |</pre>"
      ],
      "text/plain": [
       "| 22m 11s                             | 4.75             | 77129           |"
      ]
     },
     "metadata": {},
     "output_type": "display_data"
    },
    {
     "data": {
      "text/html": [
       "<pre>| 22m 23s                             | 4.75             | 77149           |</pre>"
      ],
      "text/plain": [
       "| 22m 23s                             | 4.75             | 77149           |"
      ]
     },
     "metadata": {},
     "output_type": "display_data"
    },
    {
     "data": {
      "text/html": [
       "<pre>| 22m 30s                             | 4.75             | 77149           |</pre>"
      ],
      "text/plain": [
       "| 22m 30s                             | 4.75             | 77149           |"
      ]
     },
     "metadata": {},
     "output_type": "display_data"
    },
    {
     "data": {
      "text/html": [
       "<pre>| 22m 31s                             | 4.75             | 77151           |</pre>"
      ],
      "text/plain": [
       "| 22m 31s                             | 4.75             | 77151           |"
      ]
     },
     "metadata": {},
     "output_type": "display_data"
    },
    {
     "data": {
      "text/html": [
       "<pre>| 22m 36s                             | 4.75             | 77151           |</pre>"
      ],
      "text/plain": [
       "| 22m 36s                             | 4.75             | 77151           |"
      ]
     },
     "metadata": {},
     "output_type": "display_data"
    },
    {
     "data": {
      "text/html": [
       "<pre>| 22m 40s                             | 4.75             | 77154           |</pre>"
      ],
      "text/plain": [
       "| 22m 40s                             | 4.75             | 77154           |"
      ]
     },
     "metadata": {},
     "output_type": "display_data"
    },
    {
     "data": {
      "text/html": [
       "<pre>| 22m 49s                             | 4.75             | 77155           |</pre>"
      ],
      "text/plain": [
       "| 22m 49s                             | 4.75             | 77155           |"
      ]
     },
     "metadata": {},
     "output_type": "display_data"
    },
    {
     "data": {
      "text/html": [
       "<pre>| 22m 50s                             | 4.75             | 77155           |</pre>"
      ],
      "text/plain": [
       "| 22m 50s                             | 4.75             | 77155           |"
      ]
     },
     "metadata": {},
     "output_type": "display_data"
    },
    {
     "data": {
      "text/html": [
       "<pre>| 22m 56s                             | 4.75             | 77160           |</pre>"
      ],
      "text/plain": [
       "| 22m 56s                             | 4.75             | 77160           |"
      ]
     },
     "metadata": {},
     "output_type": "display_data"
    },
    {
     "data": {
      "text/html": [
       "<pre>| 23m 1s                              | 4.75             | 77166           |</pre>"
      ],
      "text/plain": [
       "| 23m 1s                              | 4.75             | 77166           |"
      ]
     },
     "metadata": {},
     "output_type": "display_data"
    },
    {
     "data": {
      "text/html": [
       "<pre>| 23m 11s                             | 4.75             | 77172           |</pre>"
      ],
      "text/plain": [
       "| 23m 11s                             | 4.75             | 77172           |"
      ]
     },
     "metadata": {},
     "output_type": "display_data"
    },
    {
     "data": {
      "text/html": [
       "<pre>| 23m 14s                             | 4.75             | 77172           |</pre>"
      ],
      "text/plain": [
       "| 23m 14s                             | 4.75             | 77172           |"
      ]
     },
     "metadata": {},
     "output_type": "display_data"
    },
    {
     "data": {
      "text/html": [
       "<pre>| 23m 15s                             | 4.75             | 77173           |</pre>"
      ],
      "text/plain": [
       "| 23m 15s                             | 4.75             | 77173           |"
      ]
     },
     "metadata": {},
     "output_type": "display_data"
    },
    {
     "data": {
      "text/html": [
       "<pre>| 23m 18s                             | 4.75             | 77173           |</pre>"
      ],
      "text/plain": [
       "| 23m 18s                             | 4.75             | 77173           |"
      ]
     },
     "metadata": {},
     "output_type": "display_data"
    },
    {
     "data": {
      "text/html": [
       "<pre>| 23m 20s                             | 4.75             | 77173           |</pre>"
      ],
      "text/plain": [
       "| 23m 20s                             | 4.75             | 77173           |"
      ]
     },
     "metadata": {},
     "output_type": "display_data"
    },
    {
     "data": {
      "text/html": [
       "<pre>| 23m 23s                             | 4.75             | 77174           |</pre>"
      ],
      "text/plain": [
       "| 23m 23s                             | 4.75             | 77174           |"
      ]
     },
     "metadata": {},
     "output_type": "display_data"
    },
    {
     "data": {
      "text/html": [
       "<pre>| 23m 25s                             | 4.75             | 77178           |</pre>"
      ],
      "text/plain": [
       "| 23m 25s                             | 4.75             | 77178           |"
      ]
     },
     "metadata": {},
     "output_type": "display_data"
    },
    {
     "data": {
      "text/html": [
       "<pre>| 23m 31s                             | 4.75             | 77179           |</pre>"
      ],
      "text/plain": [
       "| 23m 31s                             | 4.75             | 77179           |"
      ]
     },
     "metadata": {},
     "output_type": "display_data"
    },
    {
     "data": {
      "text/html": [
       "<pre>| 23m 38s                             | 4.75             | 77183           |</pre>"
      ],
      "text/plain": [
       "| 23m 38s                             | 4.75             | 77183           |"
      ]
     },
     "metadata": {},
     "output_type": "display_data"
    },
    {
     "data": {
      "text/html": [
       "<pre>| 23m 40s                             | 4.75             | 77183           |</pre>"
      ],
      "text/plain": [
       "| 23m 40s                             | 4.75             | 77183           |"
      ]
     },
     "metadata": {},
     "output_type": "display_data"
    },
    {
     "data": {
      "text/html": [
       "<pre>| 23m 40s                             | 4.75             | 77184           |</pre>"
      ],
      "text/plain": [
       "| 23m 40s                             | 4.75             | 77184           |"
      ]
     },
     "metadata": {},
     "output_type": "display_data"
    },
    {
     "data": {
      "text/html": [
       "<pre>| 23m 42s                             | 4.75             | 77186           |</pre>"
      ],
      "text/plain": [
       "| 23m 42s                             | 4.75             | 77186           |"
      ]
     },
     "metadata": {},
     "output_type": "display_data"
    },
    {
     "data": {
      "text/html": [
       "<pre>| 23m 45s                             | 4.75             | 77191           |</pre>"
      ],
      "text/plain": [
       "| 23m 45s                             | 4.75             | 77191           |"
      ]
     },
     "metadata": {},
     "output_type": "display_data"
    },
    {
     "data": {
      "text/html": [
       "<pre>| 23m 46s                             | 4.75             | 77191           |</pre>"
      ],
      "text/plain": [
       "| 23m 46s                             | 4.75             | 77191           |"
      ]
     },
     "metadata": {},
     "output_type": "display_data"
    },
    {
     "data": {
      "text/html": [
       "<pre>| 23m 48s                             | 4.75             | 77199           |</pre>"
      ],
      "text/plain": [
       "| 23m 48s                             | 4.75             | 77199           |"
      ]
     },
     "metadata": {},
     "output_type": "display_data"
    },
    {
     "data": {
      "text/html": [
       "<pre>| 24m 3s                              | 4.75             | 77202           |</pre>"
      ],
      "text/plain": [
       "| 24m 3s                              | 4.75             | 77202           |"
      ]
     },
     "metadata": {},
     "output_type": "display_data"
    },
    {
     "data": {
      "text/html": [
       "<pre>| 24m 12s                             | 4.75             | 77209           |</pre>"
      ],
      "text/plain": [
       "| 24m 12s                             | 4.75             | 77209           |"
      ]
     },
     "metadata": {},
     "output_type": "display_data"
    },
    {
     "data": {
      "text/html": [
       "<pre>| 24m 15s                             | 4.75             | 77215           |</pre>"
      ],
      "text/plain": [
       "| 24m 15s                             | 4.75             | 77215           |"
      ]
     },
     "metadata": {},
     "output_type": "display_data"
    },
    {
     "data": {
      "text/html": [
       "<pre>| 24m 19s                             | 4.75             | 77215           |</pre>"
      ],
      "text/plain": [
       "| 24m 19s                             | 4.75             | 77215           |"
      ]
     },
     "metadata": {},
     "output_type": "display_data"
    },
    {
     "data": {
      "text/html": [
       "<pre>| 24m 33s                             | 4.75             | 77281           |</pre>"
      ],
      "text/plain": [
       "| 24m 33s                             | 4.75             | 77281           |"
      ]
     },
     "metadata": {},
     "output_type": "display_data"
    },
    {
     "data": {
      "text/html": [
       "<pre>| 24m 36s                             | 4.75             | 77282           |</pre>"
      ],
      "text/plain": [
       "| 24m 36s                             | 4.75             | 77282           |"
      ]
     },
     "metadata": {},
     "output_type": "display_data"
    },
    {
     "data": {
      "text/html": [
       "<pre>| 24m 37s                             | 4.75             | 77282           |</pre>"
      ],
      "text/plain": [
       "| 24m 37s                             | 4.75             | 77282           |"
      ]
     },
     "metadata": {},
     "output_type": "display_data"
    },
    {
     "data": {
      "text/html": [
       "<pre>| 24m 39s                             | 4.75             | 77289           |</pre>"
      ],
      "text/plain": [
       "| 24m 39s                             | 4.75             | 77289           |"
      ]
     },
     "metadata": {},
     "output_type": "display_data"
    },
    {
     "data": {
      "text/html": [
       "<pre>| 24m 44s                             | 4.75             | 77289           |</pre>"
      ],
      "text/plain": [
       "| 24m 44s                             | 4.75             | 77289           |"
      ]
     },
     "metadata": {},
     "output_type": "display_data"
    },
    {
     "data": {
      "text/html": [
       "<pre>| 24m 46s                             | 4.75             | 77298           |</pre>"
      ],
      "text/plain": [
       "| 24m 46s                             | 4.75             | 77298           |"
      ]
     },
     "metadata": {},
     "output_type": "display_data"
    },
    {
     "data": {
      "text/html": [
       "<pre>| 24m 55s                             | 4.75             | 77300           |</pre>"
      ],
      "text/plain": [
       "| 24m 55s                             | 4.75             | 77300           |"
      ]
     },
     "metadata": {},
     "output_type": "display_data"
    },
    {
     "data": {
      "text/html": [
       "<pre>| 25m 12s                             | 4.75             | 77308           |</pre>"
      ],
      "text/plain": [
       "| 25m 12s                             | 4.75             | 77308           |"
      ]
     },
     "metadata": {},
     "output_type": "display_data"
    },
    {
     "data": {
      "text/html": [
       "<pre>| 25m 13s                             | 4.75             | 77596           |</pre>"
      ],
      "text/plain": [
       "| 25m 13s                             | 4.75             | 77596           |"
      ]
     },
     "metadata": {},
     "output_type": "display_data"
    },
    {
     "data": {
      "text/html": [
       "<pre>| 25m 25s                             | 4.75             | 77596           |</pre>"
      ],
      "text/plain": [
       "| 25m 25s                             | 4.75             | 77596           |"
      ]
     },
     "metadata": {},
     "output_type": "display_data"
    },
    {
     "data": {
      "text/html": [
       "<pre>| 25m 26s                             | 4.75             | 77597           |</pre>"
      ],
      "text/plain": [
       "| 25m 26s                             | 4.75             | 77597           |"
      ]
     },
     "metadata": {},
     "output_type": "display_data"
    },
    {
     "data": {
      "text/html": [
       "<pre>| 25m 29s                             | 4.75             | 77604           |</pre>"
      ],
      "text/plain": [
       "| 25m 29s                             | 4.75             | 77604           |"
      ]
     },
     "metadata": {},
     "output_type": "display_data"
    },
    {
     "data": {
      "text/html": [
       "<pre>| 25m 47s                             | 4.75             | 77605           |</pre>"
      ],
      "text/plain": [
       "| 25m 47s                             | 4.75             | 77605           |"
      ]
     },
     "metadata": {},
     "output_type": "display_data"
    },
    {
     "data": {
      "text/html": [
       "<pre>| 25m 59s                             | 4.75             | 77606           |</pre>"
      ],
      "text/plain": [
       "| 25m 59s                             | 4.75             | 77606           |"
      ]
     },
     "metadata": {},
     "output_type": "display_data"
    },
    {
     "data": {
      "text/html": [
       "<pre>| 26m 0s                              | 4.75             | 77606           |</pre>"
      ],
      "text/plain": [
       "| 26m 0s                              | 4.75             | 77606           |"
      ]
     },
     "metadata": {},
     "output_type": "display_data"
    },
    {
     "data": {
      "text/html": [
       "<pre>| 26m 1s                              | 4.75             | 77607           |</pre>"
      ],
      "text/plain": [
       "| 26m 1s                              | 4.75             | 77607           |"
      ]
     },
     "metadata": {},
     "output_type": "display_data"
    },
    {
     "data": {
      "text/html": [
       "<pre>| 26m 10s                             | 4.75             | 77610           |</pre>"
      ],
      "text/plain": [
       "| 26m 10s                             | 4.75             | 77610           |"
      ]
     },
     "metadata": {},
     "output_type": "display_data"
    },
    {
     "data": {
      "text/html": [
       "<pre>| 26m 13s                             | 4.75             | 77612           |</pre>"
      ],
      "text/plain": [
       "| 26m 13s                             | 4.75             | 77612           |"
      ]
     },
     "metadata": {},
     "output_type": "display_data"
    },
    {
     "data": {
      "text/html": [
       "<pre>| 26m 15s                             | 4.75             | 77612           |</pre>"
      ],
      "text/plain": [
       "| 26m 15s                             | 4.75             | 77612           |"
      ]
     },
     "metadata": {},
     "output_type": "display_data"
    },
    {
     "data": {
      "text/html": [
       "<pre>| 26m 24s                             | 4.75             | 77616           |</pre>"
      ],
      "text/plain": [
       "| 26m 24s                             | 4.75             | 77616           |"
      ]
     },
     "metadata": {},
     "output_type": "display_data"
    },
    {
     "data": {
      "text/html": [
       "<pre>| 26m 25s                             | 4.75             | 77622           |</pre>"
      ],
      "text/plain": [
       "| 26m 25s                             | 4.75             | 77622           |"
      ]
     },
     "metadata": {},
     "output_type": "display_data"
    },
    {
     "data": {
      "text/html": [
       "<pre>| 26m 46s                             | 4.75             | 77622           |</pre>"
      ],
      "text/plain": [
       "| 26m 46s                             | 4.75             | 77622           |"
      ]
     },
     "metadata": {},
     "output_type": "display_data"
    },
    {
     "data": {
      "text/html": [
       "<pre>| 26m 48s                             | 4.75             | 77623           |</pre>"
      ],
      "text/plain": [
       "| 26m 48s                             | 4.75             | 77623           |"
      ]
     },
     "metadata": {},
     "output_type": "display_data"
    },
    {
     "data": {
      "text/html": [
       "<pre>| 26m 50s                             | 4.75             | 77623           |</pre>"
      ],
      "text/plain": [
       "| 26m 50s                             | 4.75             | 77623           |"
      ]
     },
     "metadata": {},
     "output_type": "display_data"
    },
    {
     "data": {
      "text/html": [
       "<pre>| 26m 53s                             | 4.75             | 77630           |</pre>"
      ],
      "text/plain": [
       "| 26m 53s                             | 4.75             | 77630           |"
      ]
     },
     "metadata": {},
     "output_type": "display_data"
    },
    {
     "data": {
      "text/html": [
       "<pre>| 27m 9s                              | 4.75             | 77630           |</pre>"
      ],
      "text/plain": [
       "| 27m 9s                              | 4.75             | 77630           |"
      ]
     },
     "metadata": {},
     "output_type": "display_data"
    },
    {
     "data": {
      "text/html": [
       "<pre>| 27m 11s                             | 4.75             | 77630           |</pre>"
      ],
      "text/plain": [
       "| 27m 11s                             | 4.75             | 77630           |"
      ]
     },
     "metadata": {},
     "output_type": "display_data"
    },
    {
     "data": {
      "text/html": [
       "<pre>| 27m 13s                             | 4.75             | 77631           |</pre>"
      ],
      "text/plain": [
       "| 27m 13s                             | 4.75             | 77631           |"
      ]
     },
     "metadata": {},
     "output_type": "display_data"
    },
    {
     "data": {
      "text/html": [
       "<pre>| 27m 14s                             | 4.75             | 77634           |</pre>"
      ],
      "text/plain": [
       "| 27m 14s                             | 4.75             | 77634           |"
      ]
     },
     "metadata": {},
     "output_type": "display_data"
    },
    {
     "data": {
      "text/html": [
       "<pre>| 27m 24s                             | 4.75             | 77634           |</pre>"
      ],
      "text/plain": [
       "| 27m 24s                             | 4.75             | 77634           |"
      ]
     },
     "metadata": {},
     "output_type": "display_data"
    },
    {
     "data": {
      "text/html": [
       "<pre>| 27m 33s                             | 4.75             | 77641           |</pre>"
      ],
      "text/plain": [
       "| 27m 33s                             | 4.75             | 77641           |"
      ]
     },
     "metadata": {},
     "output_type": "display_data"
    },
    {
     "data": {
      "text/html": [
       "<pre>| 27m 38s                             | 4.75             | 77642           |</pre>"
      ],
      "text/plain": [
       "| 27m 38s                             | 4.75             | 77642           |"
      ]
     },
     "metadata": {},
     "output_type": "display_data"
    },
    {
     "data": {
      "text/html": [
       "<pre>| 27m 40s                             | 4.75             | 77642           |</pre>"
      ],
      "text/plain": [
       "| 27m 40s                             | 4.75             | 77642           |"
      ]
     },
     "metadata": {},
     "output_type": "display_data"
    },
    {
     "data": {
      "text/html": [
       "<pre>| 27m 40s                             | 4.75             | 77645           |</pre>"
      ],
      "text/plain": [
       "| 27m 40s                             | 4.75             | 77645           |"
      ]
     },
     "metadata": {},
     "output_type": "display_data"
    },
    {
     "data": {
      "text/html": [
       "<pre>| 27m 43s                             | 4.75             | 77649           |</pre>"
      ],
      "text/plain": [
       "| 27m 43s                             | 4.75             | 77649           |"
      ]
     },
     "metadata": {},
     "output_type": "display_data"
    },
    {
     "data": {
      "text/html": [
       "<pre>| 27m 53s                             | 4.75             | 77650           |</pre>"
      ],
      "text/plain": [
       "| 27m 53s                             | 4.75             | 77650           |"
      ]
     },
     "metadata": {},
     "output_type": "display_data"
    },
    {
     "data": {
      "text/html": [
       "<pre>| 27m 54s                             | 4.75             | 77651           |</pre>"
      ],
      "text/plain": [
       "| 27m 54s                             | 4.75             | 77651           |"
      ]
     },
     "metadata": {},
     "output_type": "display_data"
    },
    {
     "data": {
      "text/html": [
       "<pre>| 27m 59s                             | 4.75             | 77659           |</pre>"
      ],
      "text/plain": [
       "| 27m 59s                             | 4.75             | 77659           |"
      ]
     },
     "metadata": {},
     "output_type": "display_data"
    },
    {
     "data": {
      "text/html": [
       "<pre>| 28m 2s                              | 4.75             | 77659           |</pre>"
      ],
      "text/plain": [
       "| 28m 2s                              | 4.75             | 77659           |"
      ]
     },
     "metadata": {},
     "output_type": "display_data"
    },
    {
     "data": {
      "text/html": [
       "<pre>| 28m 3s                              | 4.75             | 77660           |</pre>"
      ],
      "text/plain": [
       "| 28m 3s                              | 4.75             | 77660           |"
      ]
     },
     "metadata": {},
     "output_type": "display_data"
    },
    {
     "data": {
      "text/html": [
       "<pre>| 28m 4s                              | 4.75             | 77661           |</pre>"
      ],
      "text/plain": [
       "| 28m 4s                              | 4.75             | 77661           |"
      ]
     },
     "metadata": {},
     "output_type": "display_data"
    },
    {
     "data": {
      "text/html": [
       "<pre>| 28m 5s                              | 4.75             | 77661           |</pre>"
      ],
      "text/plain": [
       "| 28m 5s                              | 4.75             | 77661           |"
      ]
     },
     "metadata": {},
     "output_type": "display_data"
    },
    {
     "data": {
      "text/html": [
       "<pre>| 28m 6s                              | 4.75             | 77661           |</pre>"
      ],
      "text/plain": [
       "| 28m 6s                              | 4.75             | 77661           |"
      ]
     },
     "metadata": {},
     "output_type": "display_data"
    },
    {
     "data": {
      "text/html": [
       "<pre>| 28m 8s                              | 4.75             | 77663           |</pre>"
      ],
      "text/plain": [
       "| 28m 8s                              | 4.75             | 77663           |"
      ]
     },
     "metadata": {},
     "output_type": "display_data"
    },
    {
     "data": {
      "text/html": [
       "<pre>| 28m 10s                             | 4.75             | 77668           |</pre>"
      ],
      "text/plain": [
       "| 28m 10s                             | 4.75             | 77668           |"
      ]
     },
     "metadata": {},
     "output_type": "display_data"
    },
    {
     "data": {
      "text/html": [
       "<pre>| 28m 10s                             | 4.75             | 77668           |</pre>"
      ],
      "text/plain": [
       "| 28m 10s                             | 4.75             | 77668           |"
      ]
     },
     "metadata": {},
     "output_type": "display_data"
    },
    {
     "data": {
      "text/html": [
       "<pre>| 28m 28s                             | 4.75             | 77677           |</pre>"
      ],
      "text/plain": [
       "| 28m 28s                             | 4.75             | 77677           |"
      ]
     },
     "metadata": {},
     "output_type": "display_data"
    },
    {
     "data": {
      "text/html": [
       "<pre>| 28m 29s                             | 4.75             | 77677           |</pre>"
      ],
      "text/plain": [
       "| 28m 29s                             | 4.75             | 77677           |"
      ]
     },
     "metadata": {},
     "output_type": "display_data"
    },
    {
     "data": {
      "text/html": [
       "<pre>| 28m 31s                             | 4.75             | 77677           |</pre>"
      ],
      "text/plain": [
       "| 28m 31s                             | 4.75             | 77677           |"
      ]
     },
     "metadata": {},
     "output_type": "display_data"
    },
    {
     "data": {
      "text/html": [
       "<pre>| 28m 34s                             | 4.75             | 77681           |</pre>"
      ],
      "text/plain": [
       "| 28m 34s                             | 4.75             | 77681           |"
      ]
     },
     "metadata": {},
     "output_type": "display_data"
    },
    {
     "data": {
      "text/html": [
       "<pre>| 28m 44s                             | 4.75             | 77688           |</pre>"
      ],
      "text/plain": [
       "| 28m 44s                             | 4.75             | 77688           |"
      ]
     },
     "metadata": {},
     "output_type": "display_data"
    },
    {
     "data": {
      "text/html": [
       "<pre>| 28m 58s                             | 4.75             | 77689           |</pre>"
      ],
      "text/plain": [
       "| 28m 58s                             | 4.75             | 77689           |"
      ]
     },
     "metadata": {},
     "output_type": "display_data"
    },
    {
     "data": {
      "text/html": [
       "<pre>| 29m 1s                              | 4.75             | 77689           |</pre>"
      ],
      "text/plain": [
       "| 29m 1s                              | 4.75             | 77689           |"
      ]
     },
     "metadata": {},
     "output_type": "display_data"
    },
    {
     "data": {
      "text/html": [
       "<pre>| 29m 4s                              | 4.75             | 77704           |</pre>"
      ],
      "text/plain": [
       "| 29m 4s                              | 4.75             | 77704           |"
      ]
     },
     "metadata": {},
     "output_type": "display_data"
    },
    {
     "data": {
      "text/html": [
       "<pre>| 29m 11s                             | 4.75             | 77704           |</pre>"
      ],
      "text/plain": [
       "| 29m 11s                             | 4.75             | 77704           |"
      ]
     },
     "metadata": {},
     "output_type": "display_data"
    },
    {
     "data": {
      "text/html": [
       "<pre>| 29m 12s                             | 4.75             | 77704           |</pre>"
      ],
      "text/plain": [
       "| 29m 12s                             | 4.75             | 77704           |"
      ]
     },
     "metadata": {},
     "output_type": "display_data"
    },
    {
     "data": {
      "text/html": [
       "<pre>| 29m 21s                             | 4.75             | 77811           |</pre>"
      ],
      "text/plain": [
       "| 29m 21s                             | 4.75             | 77811           |"
      ]
     },
     "metadata": {},
     "output_type": "display_data"
    },
    {
     "data": {
      "text/html": [
       "<pre>| 30m 3s                              | 4.75             | 77816           |</pre>"
      ],
      "text/plain": [
       "| 30m 3s                              | 4.75             | 77816           |"
      ]
     },
     "metadata": {},
     "output_type": "display_data"
    },
    {
     "data": {
      "text/html": [
       "<pre>| 30m 15s                             | 4.75             | 77816           |</pre>"
      ],
      "text/plain": [
       "| 30m 15s                             | 4.75             | 77816           |"
      ]
     },
     "metadata": {},
     "output_type": "display_data"
    },
    {
     "data": {
      "text/html": [
       "<pre>| 30m 30s                             | 4.75             | 77821           |</pre>"
      ],
      "text/plain": [
       "| 30m 30s                             | 4.75             | 77821           |"
      ]
     },
     "metadata": {},
     "output_type": "display_data"
    },
    {
     "data": {
      "text/html": [
       "<pre>| 30m 32s                             | 4.75             | 77822           |</pre>"
      ],
      "text/plain": [
       "| 30m 32s                             | 4.75             | 77822           |"
      ]
     },
     "metadata": {},
     "output_type": "display_data"
    },
    {
     "data": {
      "text/html": [
       "<pre>| 30m 33s                             | 4.75             | 77834           |</pre>"
      ],
      "text/plain": [
       "| 30m 33s                             | 4.75             | 77834           |"
      ]
     },
     "metadata": {},
     "output_type": "display_data"
    },
    {
     "data": {
      "text/html": [
       "<pre>| 30m 34s                             | 4.75             | 77834           |</pre>"
      ],
      "text/plain": [
       "| 30m 34s                             | 4.75             | 77834           |"
      ]
     },
     "metadata": {},
     "output_type": "display_data"
    },
    {
     "data": {
      "text/html": [
       "<pre>| 30m 36s                             | 4.75             | 77835           |</pre>"
      ],
      "text/plain": [
       "| 30m 36s                             | 4.75             | 77835           |"
      ]
     },
     "metadata": {},
     "output_type": "display_data"
    },
    {
     "data": {
      "text/html": [
       "<pre>| 30m 38s                             | 4.75             | 77835           |</pre>"
      ],
      "text/plain": [
       "| 30m 38s                             | 4.75             | 77835           |"
      ]
     },
     "metadata": {},
     "output_type": "display_data"
    },
    {
     "data": {
      "text/html": [
       "<pre>| 30m 39s                             | 4.75             | 77836           |</pre>"
      ],
      "text/plain": [
       "| 30m 39s                             | 4.75             | 77836           |"
      ]
     },
     "metadata": {},
     "output_type": "display_data"
    },
    {
     "data": {
      "text/html": [
       "<pre>| 30m 54s                             | 4.75             | 77846           |</pre>"
      ],
      "text/plain": [
       "| 30m 54s                             | 4.75             | 77846           |"
      ]
     },
     "metadata": {},
     "output_type": "display_data"
    },
    {
     "data": {
      "text/html": [
       "<pre>| 30m 59s                             | 4.75             | 77847           |</pre>"
      ],
      "text/plain": [
       "| 30m 59s                             | 4.75             | 77847           |"
      ]
     },
     "metadata": {},
     "output_type": "display_data"
    },
    {
     "data": {
      "text/html": [
       "<pre>| 31m 0s                              | 4.75             | 77847           |</pre>"
      ],
      "text/plain": [
       "| 31m 0s                              | 4.75             | 77847           |"
      ]
     },
     "metadata": {},
     "output_type": "display_data"
    },
    {
     "data": {
      "text/html": [
       "<pre>| 31m 5s                              | 5                | 80320           |</pre>"
      ],
      "text/plain": [
       "| 31m 5s                              | 5                | 80320           |"
      ]
     },
     "metadata": {},
     "output_type": "display_data"
    },
    {
     "data": {
      "text/html": [
       "<pre>| 31m 30s                             | 5                | 80344           |</pre>"
      ],
      "text/plain": [
       "| 31m 30s                             | 5                | 80344           |"
      ]
     },
     "metadata": {},
     "output_type": "display_data"
    },
    {
     "data": {
      "text/html": [
       "<pre>| 31m 32s                             | 5                | 80344           |</pre>"
      ],
      "text/plain": [
       "| 31m 32s                             | 5                | 80344           |"
      ]
     },
     "metadata": {},
     "output_type": "display_data"
    },
    {
     "data": {
      "text/html": [
       "<pre>| 31m 35s                             | 5                | 80345           |</pre>"
      ],
      "text/plain": [
       "| 31m 35s                             | 5                | 80345           |"
      ]
     },
     "metadata": {},
     "output_type": "display_data"
    },
    {
     "data": {
      "text/html": [
       "<pre>| 31m 41s                             | 5                | 80345           |</pre>"
      ],
      "text/plain": [
       "| 31m 41s                             | 5                | 80345           |"
      ]
     },
     "metadata": {},
     "output_type": "display_data"
    },
    {
     "data": {
      "text/html": [
       "<pre>| 31m 55s                             | 5                | 80351           |</pre>"
      ],
      "text/plain": [
       "| 31m 55s                             | 5                | 80351           |"
      ]
     },
     "metadata": {},
     "output_type": "display_data"
    },
    {
     "data": {
      "text/html": [
       "<pre>| 31m 56s                             | 5                | 80351           |</pre>"
      ],
      "text/plain": [
       "| 31m 56s                             | 5                | 80351           |"
      ]
     },
     "metadata": {},
     "output_type": "display_data"
    },
    {
     "data": {
      "text/html": [
       "<pre>| 31m 57s                             | 5                | 80365           |</pre>"
      ],
      "text/plain": [
       "| 31m 57s                             | 5                | 80365           |"
      ]
     },
     "metadata": {},
     "output_type": "display_data"
    },
    {
     "data": {
      "text/html": [
       "<pre>| 32m 7s                              | 5                | 80365           |</pre>"
      ],
      "text/plain": [
       "| 32m 7s                              | 5                | 80365           |"
      ]
     },
     "metadata": {},
     "output_type": "display_data"
    },
    {
     "data": {
      "text/html": [
       "<pre>| 32m 11s                             | 5                | 80366           |</pre>"
      ],
      "text/plain": [
       "| 32m 11s                             | 5                | 80366           |"
      ]
     },
     "metadata": {},
     "output_type": "display_data"
    },
    {
     "data": {
      "text/html": [
       "<pre>| 32m 13s                             | 5                | 80369           |</pre>"
      ],
      "text/plain": [
       "| 32m 13s                             | 5                | 80369           |"
      ]
     },
     "metadata": {},
     "output_type": "display_data"
    },
    {
     "data": {
      "text/html": [
       "<pre>| 32m 14s                             | 5                | 80369           |</pre>"
      ],
      "text/plain": [
       "| 32m 14s                             | 5                | 80369           |"
      ]
     },
     "metadata": {},
     "output_type": "display_data"
    },
    {
     "data": {
      "text/html": [
       "<pre>| 32m 15s                             | 5                | 80369           |</pre>"
      ],
      "text/plain": [
       "| 32m 15s                             | 5                | 80369           |"
      ]
     },
     "metadata": {},
     "output_type": "display_data"
    },
    {
     "data": {
      "text/html": [
       "<pre>| 32m 16s                             | 5                | 80371           |</pre>"
      ],
      "text/plain": [
       "| 32m 16s                             | 5                | 80371           |"
      ]
     },
     "metadata": {},
     "output_type": "display_data"
    },
    {
     "data": {
      "text/html": [
       "<pre>| 32m 16s                             | 5                | 80373           |</pre>"
      ],
      "text/plain": [
       "| 32m 16s                             | 5                | 80373           |"
      ]
     },
     "metadata": {},
     "output_type": "display_data"
    },
    {
     "data": {
      "text/html": [
       "<pre>| 32m 19s                             | 5                | 80390           |</pre>"
      ],
      "text/plain": [
       "| 32m 19s                             | 5                | 80390           |"
      ]
     },
     "metadata": {},
     "output_type": "display_data"
    },
    {
     "data": {
      "text/html": [
       "<pre>| 32m 24s                             | 5                | 80399           |</pre>"
      ],
      "text/plain": [
       "| 32m 24s                             | 5                | 80399           |"
      ]
     },
     "metadata": {},
     "output_type": "display_data"
    },
    {
     "data": {
      "text/html": [
       "<pre>| 32m 28s                             | 5                | 80399           |</pre>"
      ],
      "text/plain": [
       "| 32m 28s                             | 5                | 80399           |"
      ]
     },
     "metadata": {},
     "output_type": "display_data"
    },
    {
     "data": {
      "text/html": [
       "<pre>| 32m 29s                             | 5                | 80400           |</pre>"
      ],
      "text/plain": [
       "| 32m 29s                             | 5                | 80400           |"
      ]
     },
     "metadata": {},
     "output_type": "display_data"
    },
    {
     "data": {
      "text/html": [
       "<pre>| 32m 31s                             | 5                | 80401           |</pre>"
      ],
      "text/plain": [
       "| 32m 31s                             | 5                | 80401           |"
      ]
     },
     "metadata": {},
     "output_type": "display_data"
    },
    {
     "data": {
      "text/html": [
       "<pre>| 32m 33s                             | 5                | 80401           |</pre>"
      ],
      "text/plain": [
       "| 32m 33s                             | 5                | 80401           |"
      ]
     },
     "metadata": {},
     "output_type": "display_data"
    },
    {
     "data": {
      "text/html": [
       "<pre>| 32m 41s                             | 5                | 80422           |</pre>"
      ],
      "text/plain": [
       "| 32m 41s                             | 5                | 80422           |"
      ]
     },
     "metadata": {},
     "output_type": "display_data"
    },
    {
     "data": {
      "text/html": [
       "<pre>| 32m 51s                             | 5                | 80423           |</pre>"
      ],
      "text/plain": [
       "| 32m 51s                             | 5                | 80423           |"
      ]
     },
     "metadata": {},
     "output_type": "display_data"
    },
    {
     "data": {
      "text/html": [
       "<pre>| 32m 52s                             | 5                | 80424           |</pre>"
      ],
      "text/plain": [
       "| 32m 52s                             | 5                | 80424           |"
      ]
     },
     "metadata": {},
     "output_type": "display_data"
    },
    {
     "data": {
      "text/html": [
       "<pre>| 32m 54s                             | 5                | 80424           |</pre>"
      ],
      "text/plain": [
       "| 32m 54s                             | 5                | 80424           |"
      ]
     },
     "metadata": {},
     "output_type": "display_data"
    },
    {
     "data": {
      "text/html": [
       "<pre>| 32m 54s                             | 5                | 80425           |</pre>"
      ],
      "text/plain": [
       "| 32m 54s                             | 5                | 80425           |"
      ]
     },
     "metadata": {},
     "output_type": "display_data"
    },
    {
     "data": {
      "text/html": [
       "<pre>| 32m 57s                             | 5                | 80425           |</pre>"
      ],
      "text/plain": [
       "| 32m 57s                             | 5                | 80425           |"
      ]
     },
     "metadata": {},
     "output_type": "display_data"
    },
    {
     "data": {
      "text/html": [
       "<pre>| 32m 58s                             | 5                | 80426           |</pre>"
      ],
      "text/plain": [
       "| 32m 58s                             | 5                | 80426           |"
      ]
     },
     "metadata": {},
     "output_type": "display_data"
    },
    {
     "data": {
      "text/html": [
       "<pre>| 32m 59s                             | 5                | 80426           |</pre>"
      ],
      "text/plain": [
       "| 32m 59s                             | 5                | 80426           |"
      ]
     },
     "metadata": {},
     "output_type": "display_data"
    },
    {
     "data": {
      "text/html": [
       "<pre>| 33m 0s                              | 5                | 80427           |</pre>"
      ],
      "text/plain": [
       "| 33m 0s                              | 5                | 80427           |"
      ]
     },
     "metadata": {},
     "output_type": "display_data"
    },
    {
     "data": {
      "text/html": [
       "<pre>| 33m 1s                              | 5                | 80429           |</pre>"
      ],
      "text/plain": [
       "| 33m 1s                              | 5                | 80429           |"
      ]
     },
     "metadata": {},
     "output_type": "display_data"
    },
    {
     "data": {
      "text/html": [
       "<pre>| 33m 2s                              | 5                | 80429           |</pre>"
      ],
      "text/plain": [
       "| 33m 2s                              | 5                | 80429           |"
      ]
     },
     "metadata": {},
     "output_type": "display_data"
    },
    {
     "data": {
      "text/html": [
       "<pre>| 33m 4s                              | 5                | 80431           |</pre>"
      ],
      "text/plain": [
       "| 33m 4s                              | 5                | 80431           |"
      ]
     },
     "metadata": {},
     "output_type": "display_data"
    },
    {
     "data": {
      "text/html": [
       "<pre>| 33m 4s                              | 5                | 80432           |</pre>"
      ],
      "text/plain": [
       "| 33m 4s                              | 5                | 80432           |"
      ]
     },
     "metadata": {},
     "output_type": "display_data"
    },
    {
     "data": {
      "text/html": [
       "<pre>| 33m 5s                              | 5                | 80432           |</pre>"
      ],
      "text/plain": [
       "| 33m 5s                              | 5                | 80432           |"
      ]
     },
     "metadata": {},
     "output_type": "display_data"
    },
    {
     "data": {
      "text/html": [
       "<pre>| 33m 6s                              | 5                | 80433           |</pre>"
      ],
      "text/plain": [
       "| 33m 6s                              | 5                | 80433           |"
      ]
     },
     "metadata": {},
     "output_type": "display_data"
    },
    {
     "data": {
      "text/html": [
       "<pre>| 33m 7s                              | 5                | 80434           |</pre>"
      ],
      "text/plain": [
       "| 33m 7s                              | 5                | 80434           |"
      ]
     },
     "metadata": {},
     "output_type": "display_data"
    },
    {
     "data": {
      "text/html": [
       "<pre>| 33m 9s                              | 5                | 80439           |</pre>"
      ],
      "text/plain": [
       "| 33m 9s                              | 5                | 80439           |"
      ]
     },
     "metadata": {},
     "output_type": "display_data"
    },
    {
     "data": {
      "text/html": [
       "<pre>| 33m 14s                             | 5                | 80439           |</pre>"
      ],
      "text/plain": [
       "| 33m 14s                             | 5                | 80439           |"
      ]
     },
     "metadata": {},
     "output_type": "display_data"
    },
    {
     "data": {
      "text/html": [
       "<pre>| 33m 16s                             | 5                | 80443           |</pre>"
      ],
      "text/plain": [
       "| 33m 16s                             | 5                | 80443           |"
      ]
     },
     "metadata": {},
     "output_type": "display_data"
    },
    {
     "data": {
      "text/html": [
       "<pre>| 33m 19s                             | 5                | 80444           |</pre>"
      ],
      "text/plain": [
       "| 33m 19s                             | 5                | 80444           |"
      ]
     },
     "metadata": {},
     "output_type": "display_data"
    },
    {
     "data": {
      "text/html": [
       "<pre>| 33m 22s                             | 5                | 80463           |</pre>"
      ],
      "text/plain": [
       "| 33m 22s                             | 5                | 80463           |"
      ]
     },
     "metadata": {},
     "output_type": "display_data"
    },
    {
     "data": {
      "text/html": [
       "<pre>| 33m 23s                             | 5                | 80464           |</pre>"
      ],
      "text/plain": [
       "| 33m 23s                             | 5                | 80464           |"
      ]
     },
     "metadata": {},
     "output_type": "display_data"
    },
    {
     "data": {
      "text/html": [
       "<pre>| 33m 24s                             | 5                | 80468           |</pre>"
      ],
      "text/plain": [
       "| 33m 24s                             | 5                | 80468           |"
      ]
     },
     "metadata": {},
     "output_type": "display_data"
    },
    {
     "data": {
      "text/html": [
       "<pre>| 33m 29s                             | 5                | 80469           |</pre>"
      ],
      "text/plain": [
       "| 33m 29s                             | 5                | 80469           |"
      ]
     },
     "metadata": {},
     "output_type": "display_data"
    },
    {
     "data": {
      "text/html": [
       "<pre>| 33m 33s                             | 5                | 80470           |</pre>"
      ],
      "text/plain": [
       "| 33m 33s                             | 5                | 80470           |"
      ]
     },
     "metadata": {},
     "output_type": "display_data"
    },
    {
     "data": {
      "text/html": [
       "<pre>| 33m 38s                             | 5                | 80471           |</pre>"
      ],
      "text/plain": [
       "| 33m 38s                             | 5                | 80471           |"
      ]
     },
     "metadata": {},
     "output_type": "display_data"
    },
    {
     "data": {
      "text/html": [
       "<pre>| 33m 40s                             | 5                | 80474           |</pre>"
      ],
      "text/plain": [
       "| 33m 40s                             | 5                | 80474           |"
      ]
     },
     "metadata": {},
     "output_type": "display_data"
    },
    {
     "data": {
      "text/html": [
       "<pre>| 33m 46s                             | 5                | 80480           |</pre>"
      ],
      "text/plain": [
       "| 33m 46s                             | 5                | 80480           |"
      ]
     },
     "metadata": {},
     "output_type": "display_data"
    },
    {
     "data": {
      "text/html": [
       "<pre>| 33m 47s                             | 5                | 80481           |</pre>"
      ],
      "text/plain": [
       "| 33m 47s                             | 5                | 80481           |"
      ]
     },
     "metadata": {},
     "output_type": "display_data"
    },
    {
     "data": {
      "text/html": [
       "<pre>| 33m 48s                             | 5                | 80481           |</pre>"
      ],
      "text/plain": [
       "| 33m 48s                             | 5                | 80481           |"
      ]
     },
     "metadata": {},
     "output_type": "display_data"
    },
    {
     "data": {
      "text/html": [
       "<pre>| 33m 49s                             | 5                | 80481           |</pre>"
      ],
      "text/plain": [
       "| 33m 49s                             | 5                | 80481           |"
      ]
     },
     "metadata": {},
     "output_type": "display_data"
    },
    {
     "data": {
      "text/html": [
       "<pre>| 33m 50s                             | 5                | 80483           |</pre>"
      ],
      "text/plain": [
       "| 33m 50s                             | 5                | 80483           |"
      ]
     },
     "metadata": {},
     "output_type": "display_data"
    },
    {
     "data": {
      "text/html": [
       "<pre>| 33m 52s                             | 5                | 80483           |</pre>"
      ],
      "text/plain": [
       "| 33m 52s                             | 5                | 80483           |"
      ]
     },
     "metadata": {},
     "output_type": "display_data"
    },
    {
     "data": {
      "text/html": [
       "<pre>| 33m 54s                             | 5                | 80484           |</pre>"
      ],
      "text/plain": [
       "| 33m 54s                             | 5                | 80484           |"
      ]
     },
     "metadata": {},
     "output_type": "display_data"
    },
    {
     "data": {
      "text/html": [
       "<pre>| 33m 56s                             | 5                | 80489           |</pre>"
      ],
      "text/plain": [
       "| 33m 56s                             | 5                | 80489           |"
      ]
     },
     "metadata": {},
     "output_type": "display_data"
    },
    {
     "data": {
      "text/html": [
       "<pre>| 33m 58s                             | 5                | 80489           |</pre>"
      ],
      "text/plain": [
       "| 33m 58s                             | 5                | 80489           |"
      ]
     },
     "metadata": {},
     "output_type": "display_data"
    },
    {
     "data": {
      "text/html": [
       "<pre>| 34m 0s                              | 5                | 80489           |</pre>"
      ],
      "text/plain": [
       "| 34m 0s                              | 5                | 80489           |"
      ]
     },
     "metadata": {},
     "output_type": "display_data"
    },
    {
     "data": {
      "text/html": [
       "<pre>| 34m 1s                              | 5                | 80518           |</pre>"
      ],
      "text/plain": [
       "| 34m 1s                              | 5                | 80518           |"
      ]
     },
     "metadata": {},
     "output_type": "display_data"
    },
    {
     "data": {
      "text/html": [
       "<pre>| 34m 2s                              | 5                | 80519           |</pre>"
      ],
      "text/plain": [
       "| 34m 2s                              | 5                | 80519           |"
      ]
     },
     "metadata": {},
     "output_type": "display_data"
    },
    {
     "data": {
      "text/html": [
       "<pre>| 34m 6s                              | 5                | 80519           |</pre>"
      ],
      "text/plain": [
       "| 34m 6s                              | 5                | 80519           |"
      ]
     },
     "metadata": {},
     "output_type": "display_data"
    },
    {
     "data": {
      "text/html": [
       "<pre>| 34m 8s                              | 5                | 80520           |</pre>"
      ],
      "text/plain": [
       "| 34m 8s                              | 5                | 80520           |"
      ]
     },
     "metadata": {},
     "output_type": "display_data"
    },
    {
     "data": {
      "text/html": [
       "<pre>| 34m 10s                             | 5                | 80520           |</pre>"
      ],
      "text/plain": [
       "| 34m 10s                             | 5                | 80520           |"
      ]
     },
     "metadata": {},
     "output_type": "display_data"
    },
    {
     "data": {
      "text/html": [
       "<pre>| 34m 11s                             | 5                | 80520           |</pre>"
      ],
      "text/plain": [
       "| 34m 11s                             | 5                | 80520           |"
      ]
     },
     "metadata": {},
     "output_type": "display_data"
    },
    {
     "data": {
      "text/html": [
       "<pre>| 34m 12s                             | 5                | 80523           |</pre>"
      ],
      "text/plain": [
       "| 34m 12s                             | 5                | 80523           |"
      ]
     },
     "metadata": {},
     "output_type": "display_data"
    },
    {
     "data": {
      "text/html": [
       "<pre>| 34m 19s                             | 5                | 80526           |</pre>"
      ],
      "text/plain": [
       "| 34m 19s                             | 5                | 80526           |"
      ]
     },
     "metadata": {},
     "output_type": "display_data"
    },
    {
     "data": {
      "text/html": [
       "<pre>| 34m 25s                             | 5                | 80527           |</pre>"
      ],
      "text/plain": [
       "| 34m 25s                             | 5                | 80527           |"
      ]
     },
     "metadata": {},
     "output_type": "display_data"
    },
    {
     "data": {
      "text/html": [
       "<pre>| 34m 27s                             | 5                | 80538           |</pre>"
      ],
      "text/plain": [
       "| 34m 27s                             | 5                | 80538           |"
      ]
     },
     "metadata": {},
     "output_type": "display_data"
    },
    {
     "data": {
      "text/html": [
       "<pre>| 34m 27s                             | 5                | 80538           |</pre>"
      ],
      "text/plain": [
       "| 34m 27s                             | 5                | 80538           |"
      ]
     },
     "metadata": {},
     "output_type": "display_data"
    },
    {
     "data": {
      "text/html": [
       "<pre>| 34m 28s                             | 5                | 80540           |</pre>"
      ],
      "text/plain": [
       "| 34m 28s                             | 5                | 80540           |"
      ]
     },
     "metadata": {},
     "output_type": "display_data"
    },
    {
     "data": {
      "text/html": [
       "<pre>| 34m 37s                             | 5                | 80541           |</pre>"
      ],
      "text/plain": [
       "| 34m 37s                             | 5                | 80541           |"
      ]
     },
     "metadata": {},
     "output_type": "display_data"
    },
    {
     "data": {
      "text/html": [
       "<pre>| 34m 38s                             | 5                | 80545           |</pre>"
      ],
      "text/plain": [
       "| 34m 38s                             | 5                | 80545           |"
      ]
     },
     "metadata": {},
     "output_type": "display_data"
    },
    {
     "data": {
      "text/html": [
       "<pre>| 34m 44s                             | 5                | 80545           |</pre>"
      ],
      "text/plain": [
       "| 34m 44s                             | 5                | 80545           |"
      ]
     },
     "metadata": {},
     "output_type": "display_data"
    },
    {
     "data": {
      "text/html": [
       "<pre>| 34m 45s                             | 5                | 80545           |</pre>"
      ],
      "text/plain": [
       "| 34m 45s                             | 5                | 80545           |"
      ]
     },
     "metadata": {},
     "output_type": "display_data"
    },
    {
     "data": {
      "text/html": [
       "<pre>| 35m 7s                              | 5                | 80555           |</pre>"
      ],
      "text/plain": [
       "| 35m 7s                              | 5                | 80555           |"
      ]
     },
     "metadata": {},
     "output_type": "display_data"
    },
    {
     "data": {
      "text/html": [
       "<pre>| 35m 8s                              | 5                | 80565           |</pre>"
      ],
      "text/plain": [
       "| 35m 8s                              | 5                | 80565           |"
      ]
     },
     "metadata": {},
     "output_type": "display_data"
    },
    {
     "data": {
      "text/html": [
       "<pre>| 35m 12s                             | 5                | 80568           |</pre>"
      ],
      "text/plain": [
       "| 35m 12s                             | 5                | 80568           |"
      ]
     },
     "metadata": {},
     "output_type": "display_data"
    },
    {
     "data": {
      "text/html": [
       "<pre>| 35m 14s                             | 5                | 80583           |</pre>"
      ],
      "text/plain": [
       "| 35m 14s                             | 5                | 80583           |"
      ]
     },
     "metadata": {},
     "output_type": "display_data"
    },
    {
     "data": {
      "text/html": [
       "<pre>| 35m 16s                             | 5                | 80583           |</pre>"
      ],
      "text/plain": [
       "| 35m 16s                             | 5                | 80583           |"
      ]
     },
     "metadata": {},
     "output_type": "display_data"
    },
    {
     "data": {
      "text/html": [
       "<pre>| 35m 17s                             | 5                | 80584           |</pre>"
      ],
      "text/plain": [
       "| 35m 17s                             | 5                | 80584           |"
      ]
     },
     "metadata": {},
     "output_type": "display_data"
    },
    {
     "data": {
      "text/html": [
       "<pre>| 35m 18s                             | 5                | 80584           |</pre>"
      ],
      "text/plain": [
       "| 35m 18s                             | 5                | 80584           |"
      ]
     },
     "metadata": {},
     "output_type": "display_data"
    },
    {
     "data": {
      "text/html": [
       "<pre>| 35m 22s                             | 5                | 80586           |</pre>"
      ],
      "text/plain": [
       "| 35m 22s                             | 5                | 80586           |"
      ]
     },
     "metadata": {},
     "output_type": "display_data"
    },
    {
     "data": {
      "text/html": [
       "<pre>| 35m 23s                             | 5                | 80594           |</pre>"
      ],
      "text/plain": [
       "| 35m 23s                             | 5                | 80594           |"
      ]
     },
     "metadata": {},
     "output_type": "display_data"
    },
    {
     "data": {
      "text/html": [
       "<pre>| 35m 50s                             | 5                | 80616           |</pre>"
      ],
      "text/plain": [
       "| 35m 50s                             | 5                | 80616           |"
      ]
     },
     "metadata": {},
     "output_type": "display_data"
    },
    {
     "data": {
      "text/html": [
       "<pre>| 35m 52s                             | 5                | 80630           |</pre>"
      ],
      "text/plain": [
       "| 35m 52s                             | 5                | 80630           |"
      ]
     },
     "metadata": {},
     "output_type": "display_data"
    },
    {
     "data": {
      "text/html": [
       "<pre>| 36m 2s                              | 5                | 80632           |</pre>"
      ],
      "text/plain": [
       "| 36m 2s                              | 5                | 80632           |"
      ]
     },
     "metadata": {},
     "output_type": "display_data"
    },
    {
     "data": {
      "text/html": [
       "<pre>| 36m 6s                              | 5                | 80632           |</pre>"
      ],
      "text/plain": [
       "| 36m 6s                              | 5                | 80632           |"
      ]
     },
     "metadata": {},
     "output_type": "display_data"
    },
    {
     "data": {
      "text/html": [
       "<pre>| 36m 10s                             | 5                | 80634           |</pre>"
      ],
      "text/plain": [
       "| 36m 10s                             | 5                | 80634           |"
      ]
     },
     "metadata": {},
     "output_type": "display_data"
    },
    {
     "data": {
      "text/html": [
       "<pre>| 36m 12s                             | 5                | 80634           |</pre>"
      ],
      "text/plain": [
       "| 36m 12s                             | 5                | 80634           |"
      ]
     },
     "metadata": {},
     "output_type": "display_data"
    },
    {
     "data": {
      "text/html": [
       "<pre>| 36m 29s                             | 5                | 80649           |</pre>"
      ],
      "text/plain": [
       "| 36m 29s                             | 5                | 80649           |"
      ]
     },
     "metadata": {},
     "output_type": "display_data"
    },
    {
     "data": {
      "text/html": [
       "<pre>| 36m 30s                             | 5                | 80651           |</pre>"
      ],
      "text/plain": [
       "| 36m 30s                             | 5                | 80651           |"
      ]
     },
     "metadata": {},
     "output_type": "display_data"
    },
    {
     "data": {
      "text/html": [
       "<pre>| 36m 31s                             | 5                | 80656           |</pre>"
      ],
      "text/plain": [
       "| 36m 31s                             | 5                | 80656           |"
      ]
     },
     "metadata": {},
     "output_type": "display_data"
    },
    {
     "data": {
      "text/html": [
       "<pre>| 36m 42s                             | 5                | 80661           |</pre>"
      ],
      "text/plain": [
       "| 36m 42s                             | 5                | 80661           |"
      ]
     },
     "metadata": {},
     "output_type": "display_data"
    },
    {
     "data": {
      "text/html": [
       "<pre>| 36m 43s                             | 5                | 80672           |</pre>"
      ],
      "text/plain": [
       "| 36m 43s                             | 5                | 80672           |"
      ]
     },
     "metadata": {},
     "output_type": "display_data"
    },
    {
     "data": {
      "text/html": [
       "<pre>| 36m 46s                             | 5                | 80672           |</pre>"
      ],
      "text/plain": [
       "| 36m 46s                             | 5                | 80672           |"
      ]
     },
     "metadata": {},
     "output_type": "display_data"
    },
    {
     "data": {
      "text/html": [
       "<pre>| 36m 52s                             | 5                | 80677           |</pre>"
      ],
      "text/plain": [
       "| 36m 52s                             | 5                | 80677           |"
      ]
     },
     "metadata": {},
     "output_type": "display_data"
    },
    {
     "data": {
      "text/html": [
       "<pre>| 36m 53s                             | 5                | 80682           |</pre>"
      ],
      "text/plain": [
       "| 36m 53s                             | 5                | 80682           |"
      ]
     },
     "metadata": {},
     "output_type": "display_data"
    },
    {
     "data": {
      "text/html": [
       "<pre>| 37m 0s                              | 5                | 80683           |</pre>"
      ],
      "text/plain": [
       "| 37m 0s                              | 5                | 80683           |"
      ]
     },
     "metadata": {},
     "output_type": "display_data"
    },
    {
     "data": {
      "text/html": [
       "<pre>| 37m 1s                              | 5                | 80685           |</pre>"
      ],
      "text/plain": [
       "| 37m 1s                              | 5                | 80685           |"
      ]
     },
     "metadata": {},
     "output_type": "display_data"
    },
    {
     "data": {
      "text/html": [
       "<pre>| 37m 4s                              | 5                | 80685           |</pre>"
      ],
      "text/plain": [
       "| 37m 4s                              | 5                | 80685           |"
      ]
     },
     "metadata": {},
     "output_type": "display_data"
    },
    {
     "data": {
      "text/html": [
       "<pre>| 37m 7s                              | 5                | 80687           |</pre>"
      ],
      "text/plain": [
       "| 37m 7s                              | 5                | 80687           |"
      ]
     },
     "metadata": {},
     "output_type": "display_data"
    },
    {
     "data": {
      "text/html": [
       "<pre>| 37m 10s                             | 5                | 80707           |</pre>"
      ],
      "text/plain": [
       "| 37m 10s                             | 5                | 80707           |"
      ]
     },
     "metadata": {},
     "output_type": "display_data"
    },
    {
     "data": {
      "text/html": [
       "<pre>| 37m 12s                             | 5                | 80709           |</pre>"
      ],
      "text/plain": [
       "| 37m 12s                             | 5                | 80709           |"
      ]
     },
     "metadata": {},
     "output_type": "display_data"
    },
    {
     "data": {
      "text/html": [
       "<pre>| 37m 15s                             | 5                | 80710           |</pre>"
      ],
      "text/plain": [
       "| 37m 15s                             | 5                | 80710           |"
      ]
     },
     "metadata": {},
     "output_type": "display_data"
    },
    {
     "data": {
      "text/html": [
       "<pre>| 37m 16s                             | 5                | 80711           |</pre>"
      ],
      "text/plain": [
       "| 37m 16s                             | 5                | 80711           |"
      ]
     },
     "metadata": {},
     "output_type": "display_data"
    },
    {
     "data": {
      "text/html": [
       "<pre>| 37m 19s                             | 5                | 80716           |</pre>"
      ],
      "text/plain": [
       "| 37m 19s                             | 5                | 80716           |"
      ]
     },
     "metadata": {},
     "output_type": "display_data"
    },
    {
     "data": {
      "text/html": [
       "<pre>| 37m 21s                             | 5                | 80717           |</pre>"
      ],
      "text/plain": [
       "| 37m 21s                             | 5                | 80717           |"
      ]
     },
     "metadata": {},
     "output_type": "display_data"
    },
    {
     "data": {
      "text/html": [
       "<pre>| 37m 22s                             | 5                | 80720           |</pre>"
      ],
      "text/plain": [
       "| 37m 22s                             | 5                | 80720           |"
      ]
     },
     "metadata": {},
     "output_type": "display_data"
    },
    {
     "data": {
      "text/html": [
       "<pre>| 37m 24s                             | 5                | 80720           |</pre>"
      ],
      "text/plain": [
       "| 37m 24s                             | 5                | 80720           |"
      ]
     },
     "metadata": {},
     "output_type": "display_data"
    },
    {
     "data": {
      "text/html": [
       "<pre>| 37m 24s                             | 5                | 80722           |</pre>"
      ],
      "text/plain": [
       "| 37m 24s                             | 5                | 80722           |"
      ]
     },
     "metadata": {},
     "output_type": "display_data"
    },
    {
     "data": {
      "text/html": [
       "<pre>| 37m 27s                             | 5                | 80743           |</pre>"
      ],
      "text/plain": [
       "| 37m 27s                             | 5                | 80743           |"
      ]
     },
     "metadata": {},
     "output_type": "display_data"
    },
    {
     "data": {
      "text/html": [
       "<pre>| 37m 29s                             | 5                | 80745           |</pre>"
      ],
      "text/plain": [
       "| 37m 29s                             | 5                | 80745           |"
      ]
     },
     "metadata": {},
     "output_type": "display_data"
    },
    {
     "data": {
      "text/html": [
       "<pre>| 37m 34s                             | 5                | 80750           |</pre>"
      ],
      "text/plain": [
       "| 37m 34s                             | 5                | 80750           |"
      ]
     },
     "metadata": {},
     "output_type": "display_data"
    },
    {
     "data": {
      "text/html": [
       "<pre>| 37m 39s                             | 5                | 80752           |</pre>"
      ],
      "text/plain": [
       "| 37m 39s                             | 5                | 80752           |"
      ]
     },
     "metadata": {},
     "output_type": "display_data"
    },
    {
     "data": {
      "text/html": [
       "<pre>| 37m 47s                             | 5                | 80752           |</pre>"
      ],
      "text/plain": [
       "| 37m 47s                             | 5                | 80752           |"
      ]
     },
     "metadata": {},
     "output_type": "display_data"
    },
    {
     "data": {
      "text/html": [
       "<pre>| 37m 48s                             | 5                | 80764           |</pre>"
      ],
      "text/plain": [
       "| 37m 48s                             | 5                | 80764           |"
      ]
     },
     "metadata": {},
     "output_type": "display_data"
    },
    {
     "data": {
      "text/html": [
       "<pre>| 37m 50s                             | 5                | 80764           |</pre>"
      ],
      "text/plain": [
       "| 37m 50s                             | 5                | 80764           |"
      ]
     },
     "metadata": {},
     "output_type": "display_data"
    },
    {
     "data": {
      "text/html": [
       "<pre>| 37m 50s                             | 5                | 80765           |</pre>"
      ],
      "text/plain": [
       "| 37m 50s                             | 5                | 80765           |"
      ]
     },
     "metadata": {},
     "output_type": "display_data"
    },
    {
     "data": {
      "text/html": [
       "<pre>| 37m 52s                             | 5                | 80766           |</pre>"
      ],
      "text/plain": [
       "| 37m 52s                             | 5                | 80766           |"
      ]
     },
     "metadata": {},
     "output_type": "display_data"
    },
    {
     "data": {
      "text/html": [
       "<pre>| 37m 54s                             | 5                | 80766           |</pre>"
      ],
      "text/plain": [
       "| 37m 54s                             | 5                | 80766           |"
      ]
     },
     "metadata": {},
     "output_type": "display_data"
    },
    {
     "data": {
      "text/html": [
       "<pre>| 37m 55s                             | 5                | 80766           |</pre>"
      ],
      "text/plain": [
       "| 37m 55s                             | 5                | 80766           |"
      ]
     },
     "metadata": {},
     "output_type": "display_data"
    },
    {
     "data": {
      "text/html": [
       "<pre>| 37m 57s                             | 5                | 80767           |</pre>"
      ],
      "text/plain": [
       "| 37m 57s                             | 5                | 80767           |"
      ]
     },
     "metadata": {},
     "output_type": "display_data"
    },
    {
     "data": {
      "text/html": [
       "<pre>| 37m 58s                             | 5                | 80772           |</pre>"
      ],
      "text/plain": [
       "| 37m 58s                             | 5                | 80772           |"
      ]
     },
     "metadata": {},
     "output_type": "display_data"
    },
    {
     "data": {
      "text/html": [
       "<pre>| 38m 4s                              | 5                | 80776           |</pre>"
      ],
      "text/plain": [
       "| 38m 4s                              | 5                | 80776           |"
      ]
     },
     "metadata": {},
     "output_type": "display_data"
    },
    {
     "data": {
      "text/html": [
       "<pre>| 38m 10s                             | 5                | 80778           |</pre>"
      ],
      "text/plain": [
       "| 38m 10s                             | 5                | 80778           |"
      ]
     },
     "metadata": {},
     "output_type": "display_data"
    },
    {
     "data": {
      "text/html": [
       "<pre>| 38m 12s                             | 5                | 80778           |</pre>"
      ],
      "text/plain": [
       "| 38m 12s                             | 5                | 80778           |"
      ]
     },
     "metadata": {},
     "output_type": "display_data"
    },
    {
     "data": {
      "text/html": [
       "<pre>| 38m 14s                             | 5                | 80779           |</pre>"
      ],
      "text/plain": [
       "| 38m 14s                             | 5                | 80779           |"
      ]
     },
     "metadata": {},
     "output_type": "display_data"
    },
    {
     "data": {
      "text/html": [
       "<pre>| 38m 24s                             | 5                | 80779           |</pre>"
      ],
      "text/plain": [
       "| 38m 24s                             | 5                | 80779           |"
      ]
     },
     "metadata": {},
     "output_type": "display_data"
    },
    {
     "data": {
      "text/html": [
       "<pre>| 38m 25s                             | 5                | 80784           |</pre>"
      ],
      "text/plain": [
       "| 38m 25s                             | 5                | 80784           |"
      ]
     },
     "metadata": {},
     "output_type": "display_data"
    },
    {
     "data": {
      "text/html": [
       "<pre>| 38m 27s                             | 5                | 80789           |</pre>"
      ],
      "text/plain": [
       "| 38m 27s                             | 5                | 80789           |"
      ]
     },
     "metadata": {},
     "output_type": "display_data"
    },
    {
     "data": {
      "text/html": [
       "<pre>| 38m 30s                             | 5                | 80789           |</pre>"
      ],
      "text/plain": [
       "| 38m 30s                             | 5                | 80789           |"
      ]
     },
     "metadata": {},
     "output_type": "display_data"
    },
    {
     "data": {
      "text/html": [
       "<pre>| 38m 35s                             | 5                | 80789           |</pre>"
      ],
      "text/plain": [
       "| 38m 35s                             | 5                | 80789           |"
      ]
     },
     "metadata": {},
     "output_type": "display_data"
    },
    {
     "data": {
      "text/html": [
       "<pre>| 38m 38s                             | 5                | 80792           |</pre>"
      ],
      "text/plain": [
       "| 38m 38s                             | 5                | 80792           |"
      ]
     },
     "metadata": {},
     "output_type": "display_data"
    },
    {
     "data": {
      "text/html": [
       "<pre>| 38m 39s                             | 5                | 80793           |</pre>"
      ],
      "text/plain": [
       "| 38m 39s                             | 5                | 80793           |"
      ]
     },
     "metadata": {},
     "output_type": "display_data"
    },
    {
     "data": {
      "text/html": [
       "<pre>| 38m 43s                             | 5                | 80796           |</pre>"
      ],
      "text/plain": [
       "| 38m 43s                             | 5                | 80796           |"
      ]
     },
     "metadata": {},
     "output_type": "display_data"
    },
    {
     "data": {
      "text/html": [
       "<pre>| 38m 45s                             | 5                | 80801           |</pre>"
      ],
      "text/plain": [
       "| 38m 45s                             | 5                | 80801           |"
      ]
     },
     "metadata": {},
     "output_type": "display_data"
    },
    {
     "data": {
      "text/html": [
       "<pre>| 38m 47s                             | 5                | 80810           |</pre>"
      ],
      "text/plain": [
       "| 38m 47s                             | 5                | 80810           |"
      ]
     },
     "metadata": {},
     "output_type": "display_data"
    },
    {
     "data": {
      "text/html": [
       "<pre>| 38m 51s                             | 5                | 80812           |</pre>"
      ],
      "text/plain": [
       "| 38m 51s                             | 5                | 80812           |"
      ]
     },
     "metadata": {},
     "output_type": "display_data"
    },
    {
     "data": {
      "text/html": [
       "<pre>| 38m 54s                             | 5                | 80818           |</pre>"
      ],
      "text/plain": [
       "| 38m 54s                             | 5                | 80818           |"
      ]
     },
     "metadata": {},
     "output_type": "display_data"
    },
    {
     "data": {
      "text/html": [
       "<pre>| 39m 1s                              | 5                | 80821           |</pre>"
      ],
      "text/plain": [
       "| 39m 1s                              | 5                | 80821           |"
      ]
     },
     "metadata": {},
     "output_type": "display_data"
    },
    {
     "data": {
      "text/html": [
       "<pre>| 39m 3s                              | 5                | 80823           |</pre>"
      ],
      "text/plain": [
       "| 39m 3s                              | 5                | 80823           |"
      ]
     },
     "metadata": {},
     "output_type": "display_data"
    },
    {
     "data": {
      "text/html": [
       "<pre>| 39m 8s                              | 5                | 80824           |</pre>"
      ],
      "text/plain": [
       "| 39m 8s                              | 5                | 80824           |"
      ]
     },
     "metadata": {},
     "output_type": "display_data"
    },
    {
     "data": {
      "text/html": [
       "<pre>| 39m 9s                              | 5                | 80825           |</pre>"
      ],
      "text/plain": [
       "| 39m 9s                              | 5                | 80825           |"
      ]
     },
     "metadata": {},
     "output_type": "display_data"
    },
    {
     "data": {
      "text/html": [
       "<pre>| 39m 11s                             | 5                | 80826           |</pre>"
      ],
      "text/plain": [
       "| 39m 11s                             | 5                | 80826           |"
      ]
     },
     "metadata": {},
     "output_type": "display_data"
    },
    {
     "data": {
      "text/html": [
       "<pre>| 39m 13s                             | 5                | 80845           |</pre>"
      ],
      "text/plain": [
       "| 39m 13s                             | 5                | 80845           |"
      ]
     },
     "metadata": {},
     "output_type": "display_data"
    },
    {
     "data": {
      "text/html": [
       "<pre>| 39m 15s                             | 5                | 80849           |</pre>"
      ],
      "text/plain": [
       "| 39m 15s                             | 5                | 80849           |"
      ]
     },
     "metadata": {},
     "output_type": "display_data"
    },
    {
     "data": {
      "text/html": [
       "<pre>| 39m 16s                             | 5                | 80850           |</pre>"
      ],
      "text/plain": [
       "| 39m 16s                             | 5                | 80850           |"
      ]
     },
     "metadata": {},
     "output_type": "display_data"
    },
    {
     "data": {
      "text/html": [
       "<pre>| 39m 18s                             | 5                | 80850           |</pre>"
      ],
      "text/plain": [
       "| 39m 18s                             | 5                | 80850           |"
      ]
     },
     "metadata": {},
     "output_type": "display_data"
    },
    {
     "data": {
      "text/html": [
       "<pre>| 39m 18s                             | 5                | 80851           |</pre>"
      ],
      "text/plain": [
       "| 39m 18s                             | 5                | 80851           |"
      ]
     },
     "metadata": {},
     "output_type": "display_data"
    },
    {
     "data": {
      "text/html": [
       "<pre>| 39m 19s                             | 5                | 80852           |</pre>"
      ],
      "text/plain": [
       "| 39m 19s                             | 5                | 80852           |"
      ]
     },
     "metadata": {},
     "output_type": "display_data"
    },
    {
     "data": {
      "text/html": [
       "<pre>| 39m 26s                             | 5                | 80855           |</pre>"
      ],
      "text/plain": [
       "| 39m 26s                             | 5                | 80855           |"
      ]
     },
     "metadata": {},
     "output_type": "display_data"
    },
    {
     "data": {
      "text/html": [
       "<pre>| 39m 28s                             | 5                | 80855           |</pre>"
      ],
      "text/plain": [
       "| 39m 28s                             | 5                | 80855           |"
      ]
     },
     "metadata": {},
     "output_type": "display_data"
    },
    {
     "data": {
      "text/html": [
       "<pre>| 39m 29s                             | 5                | 80855           |</pre>"
      ],
      "text/plain": [
       "| 39m 29s                             | 5                | 80855           |"
      ]
     },
     "metadata": {},
     "output_type": "display_data"
    },
    {
     "data": {
      "text/html": [
       "<pre>| 39m 29s                             | 5                | 80856           |</pre>"
      ],
      "text/plain": [
       "| 39m 29s                             | 5                | 80856           |"
      ]
     },
     "metadata": {},
     "output_type": "display_data"
    },
    {
     "data": {
      "text/html": [
       "<pre>| 39m 30s                             | 5                | 80856           |</pre>"
      ],
      "text/plain": [
       "| 39m 30s                             | 5                | 80856           |"
      ]
     },
     "metadata": {},
     "output_type": "display_data"
    },
    {
     "data": {
      "text/html": [
       "<pre>| 39m 32s                             | 5                | 80900           |</pre>"
      ],
      "text/plain": [
       "| 39m 32s                             | 5                | 80900           |"
      ]
     },
     "metadata": {},
     "output_type": "display_data"
    },
    {
     "data": {
      "text/html": [
       "<pre>| 39m 32s                             | 5                | 80921           |</pre>"
      ],
      "text/plain": [
       "| 39m 32s                             | 5                | 80921           |"
      ]
     },
     "metadata": {},
     "output_type": "display_data"
    },
    {
     "data": {
      "text/html": [
       "<pre>| 39m 33s                             | 5                | 80921           |</pre>"
      ],
      "text/plain": [
       "| 39m 33s                             | 5                | 80921           |"
      ]
     },
     "metadata": {},
     "output_type": "display_data"
    },
    {
     "data": {
      "text/html": [
       "<pre>| 39m 50s                             | 5                | 80927           |</pre>"
      ],
      "text/plain": [
       "| 39m 50s                             | 5                | 80927           |"
      ]
     },
     "metadata": {},
     "output_type": "display_data"
    },
    {
     "data": {
      "text/html": [
       "<pre>| 39m 53s                             | 5                | 80927           |</pre>"
      ],
      "text/plain": [
       "| 39m 53s                             | 5                | 80927           |"
      ]
     },
     "metadata": {},
     "output_type": "display_data"
    },
    {
     "data": {
      "text/html": [
       "<pre>| 40m 1s                              | 5                | 80928           |</pre>"
      ],
      "text/plain": [
       "| 40m 1s                              | 5                | 80928           |"
      ]
     },
     "metadata": {},
     "output_type": "display_data"
    },
    {
     "data": {
      "text/html": [
       "<pre>| 40m 4s                              | 5                | 80937           |</pre>"
      ],
      "text/plain": [
       "| 40m 4s                              | 5                | 80937           |"
      ]
     },
     "metadata": {},
     "output_type": "display_data"
    },
    {
     "data": {
      "text/html": [
       "<pre>| 40m 24s                             | 5                | 80937           |</pre>"
      ],
      "text/plain": [
       "| 40m 24s                             | 5                | 80937           |"
      ]
     },
     "metadata": {},
     "output_type": "display_data"
    },
    {
     "data": {
      "text/html": [
       "<pre>| 40m 27s                             | 5                | 80939           |</pre>"
      ],
      "text/plain": [
       "| 40m 27s                             | 5                | 80939           |"
      ]
     },
     "metadata": {},
     "output_type": "display_data"
    },
    {
     "data": {
      "text/html": [
       "<pre>| 40m 28s                             | 5                | 80944           |</pre>"
      ],
      "text/plain": [
       "| 40m 28s                             | 5                | 80944           |"
      ]
     },
     "metadata": {},
     "output_type": "display_data"
    },
    {
     "data": {
      "text/html": [
       "<pre>| 40m 32s                             | 5                | 80945           |</pre>"
      ],
      "text/plain": [
       "| 40m 32s                             | 5                | 80945           |"
      ]
     },
     "metadata": {},
     "output_type": "display_data"
    },
    {
     "data": {
      "text/html": [
       "<pre>| 40m 33s                             | 5                | 80945           |</pre>"
      ],
      "text/plain": [
       "| 40m 33s                             | 5                | 80945           |"
      ]
     },
     "metadata": {},
     "output_type": "display_data"
    },
    {
     "data": {
      "text/html": [
       "<pre>| 40m 35s                             | 5                | 80950           |</pre>"
      ],
      "text/plain": [
       "| 40m 35s                             | 5                | 80950           |"
      ]
     },
     "metadata": {},
     "output_type": "display_data"
    },
    {
     "data": {
      "text/html": [
       "<pre>| 40m 36s                             | 5                | 80950           |</pre>"
      ],
      "text/plain": [
       "| 40m 36s                             | 5                | 80950           |"
      ]
     },
     "metadata": {},
     "output_type": "display_data"
    },
    {
     "data": {
      "text/html": [
       "<pre>| 40m 38s                             | 5                | 80952           |</pre>"
      ],
      "text/plain": [
       "| 40m 38s                             | 5                | 80952           |"
      ]
     },
     "metadata": {},
     "output_type": "display_data"
    },
    {
     "data": {
      "text/html": [
       "<pre>| 40m 42s                             | 5                | 80952           |</pre>"
      ],
      "text/plain": [
       "| 40m 42s                             | 5                | 80952           |"
      ]
     },
     "metadata": {},
     "output_type": "display_data"
    },
    {
     "data": {
      "text/html": [
       "<pre>| 40m 44s                             | 5                | 80953           |</pre>"
      ],
      "text/plain": [
       "| 40m 44s                             | 5                | 80953           |"
      ]
     },
     "metadata": {},
     "output_type": "display_data"
    },
    {
     "data": {
      "text/html": [
       "<pre>| 40m 45s                             | 5                | 80954           |</pre>"
      ],
      "text/plain": [
       "| 40m 45s                             | 5                | 80954           |"
      ]
     },
     "metadata": {},
     "output_type": "display_data"
    },
    {
     "data": {
      "text/html": [
       "<pre>| 40m 47s                             | 5                | 80955           |</pre>"
      ],
      "text/plain": [
       "| 40m 47s                             | 5                | 80955           |"
      ]
     },
     "metadata": {},
     "output_type": "display_data"
    },
    {
     "data": {
      "text/html": [
       "<pre>| 40m 48s                             | 5                | 80955           |</pre>"
      ],
      "text/plain": [
       "| 40m 48s                             | 5                | 80955           |"
      ]
     },
     "metadata": {},
     "output_type": "display_data"
    },
    {
     "data": {
      "text/html": [
       "<pre>| 40m 49s                             | 5                | 80961           |</pre>"
      ],
      "text/plain": [
       "| 40m 49s                             | 5                | 80961           |"
      ]
     },
     "metadata": {},
     "output_type": "display_data"
    },
    {
     "data": {
      "text/html": [
       "<pre>| 40m 50s                             | 5                | 80961           |</pre>"
      ],
      "text/plain": [
       "| 40m 50s                             | 5                | 80961           |"
      ]
     },
     "metadata": {},
     "output_type": "display_data"
    },
    {
     "data": {
      "text/html": [
       "<pre>| 40m 53s                             | 5                | 80973           |</pre>"
      ],
      "text/plain": [
       "| 40m 53s                             | 5                | 80973           |"
      ]
     },
     "metadata": {},
     "output_type": "display_data"
    },
    {
     "data": {
      "text/html": [
       "<pre>| 40m 56s                             | 5                | 80988           |</pre>"
      ],
      "text/plain": [
       "| 40m 56s                             | 5                | 80988           |"
      ]
     },
     "metadata": {},
     "output_type": "display_data"
    },
    {
     "data": {
      "text/html": [
       "<pre>| 41m 12s                             | 5                | 80988           |</pre>"
      ],
      "text/plain": [
       "| 41m 12s                             | 5                | 80988           |"
      ]
     },
     "metadata": {},
     "output_type": "display_data"
    },
    {
     "data": {
      "text/html": [
       "<pre>| 41m 13s                             | 5                | 80989           |</pre>"
      ],
      "text/plain": [
       "| 41m 13s                             | 5                | 80989           |"
      ]
     },
     "metadata": {},
     "output_type": "display_data"
    },
    {
     "data": {
      "text/html": [
       "<pre>| 41m 15s                             | 5                | 81004           |</pre>"
      ],
      "text/plain": [
       "| 41m 15s                             | 5                | 81004           |"
      ]
     },
     "metadata": {},
     "output_type": "display_data"
    },
    {
     "data": {
      "text/html": [
       "<pre>| 41m 36s                             | 5                | 81006           |</pre>"
      ],
      "text/plain": [
       "| 41m 36s                             | 5                | 81006           |"
      ]
     },
     "metadata": {},
     "output_type": "display_data"
    },
    {
     "data": {
      "text/html": [
       "<pre>| 41m 44s                             | 5                | 81006           |</pre>"
      ],
      "text/plain": [
       "| 41m 44s                             | 5                | 81006           |"
      ]
     },
     "metadata": {},
     "output_type": "display_data"
    },
    {
     "data": {
      "text/html": [
       "<pre>| 41m 50s                             | 5                | 81016           |</pre>"
      ],
      "text/plain": [
       "| 41m 50s                             | 5                | 81016           |"
      ]
     },
     "metadata": {},
     "output_type": "display_data"
    },
    {
     "data": {
      "text/html": [
       "<pre>| 41m 51s                             | 5                | 81019           |</pre>"
      ],
      "text/plain": [
       "| 41m 51s                             | 5                | 81019           |"
      ]
     },
     "metadata": {},
     "output_type": "display_data"
    },
    {
     "data": {
      "text/html": [
       "<pre>| 41m 56s                             | 5                | 81019           |</pre>"
      ],
      "text/plain": [
       "| 41m 56s                             | 5                | 81019           |"
      ]
     },
     "metadata": {},
     "output_type": "display_data"
    },
    {
     "data": {
      "text/html": [
       "<pre>| 42m 8s                              | 5                | 81022           |</pre>"
      ],
      "text/plain": [
       "| 42m 8s                              | 5                | 81022           |"
      ]
     },
     "metadata": {},
     "output_type": "display_data"
    },
    {
     "data": {
      "text/html": [
       "<pre>| 42m 10s                             | 5                | 81025           |</pre>"
      ],
      "text/plain": [
       "| 42m 10s                             | 5                | 81025           |"
      ]
     },
     "metadata": {},
     "output_type": "display_data"
    },
    {
     "data": {
      "text/html": [
       "<pre>| 42m 11s                             | 5                | 81026           |</pre>"
      ],
      "text/plain": [
       "| 42m 11s                             | 5                | 81026           |"
      ]
     },
     "metadata": {},
     "output_type": "display_data"
    },
    {
     "data": {
      "text/html": [
       "<pre>| 42m 13s                             | 5                | 81027           |</pre>"
      ],
      "text/plain": [
       "| 42m 13s                             | 5                | 81027           |"
      ]
     },
     "metadata": {},
     "output_type": "display_data"
    },
    {
     "data": {
      "text/html": [
       "<pre>| 42m 18s                             | 5                | 81030           |</pre>"
      ],
      "text/plain": [
       "| 42m 18s                             | 5                | 81030           |"
      ]
     },
     "metadata": {},
     "output_type": "display_data"
    },
    {
     "data": {
      "text/html": [
       "<pre>| 42m 19s                             | 5                | 81030           |</pre>"
      ],
      "text/plain": [
       "| 42m 19s                             | 5                | 81030           |"
      ]
     },
     "metadata": {},
     "output_type": "display_data"
    },
    {
     "data": {
      "text/html": [
       "<pre>| 42m 24s                             | 5                | 81035           |</pre>"
      ],
      "text/plain": [
       "| 42m 24s                             | 5                | 81035           |"
      ]
     },
     "metadata": {},
     "output_type": "display_data"
    },
    {
     "data": {
      "text/html": [
       "<pre>| 42m 25s                             | 5                | 81035           |</pre>"
      ],
      "text/plain": [
       "| 42m 25s                             | 5                | 81035           |"
      ]
     },
     "metadata": {},
     "output_type": "display_data"
    },
    {
     "data": {
      "text/html": [
       "<pre>| 42m 27s                             | 5                | 81035           |</pre>"
      ],
      "text/plain": [
       "| 42m 27s                             | 5                | 81035           |"
      ]
     },
     "metadata": {},
     "output_type": "display_data"
    },
    {
     "data": {
      "text/html": [
       "<pre>| 42m 29s                             | 5                | 81051           |</pre>"
      ],
      "text/plain": [
       "| 42m 29s                             | 5                | 81051           |"
      ]
     },
     "metadata": {},
     "output_type": "display_data"
    },
    {
     "data": {
      "text/html": [
       "<pre>| 42m 29s                             | 5                | 81051           |</pre>"
      ],
      "text/plain": [
       "| 42m 29s                             | 5                | 81051           |"
      ]
     },
     "metadata": {},
     "output_type": "display_data"
    },
    {
     "data": {
      "text/html": [
       "<pre>| 42m 38s                             | 5                | 81053           |</pre>"
      ],
      "text/plain": [
       "| 42m 38s                             | 5                | 81053           |"
      ]
     },
     "metadata": {},
     "output_type": "display_data"
    },
    {
     "data": {
      "text/html": [
       "<pre>| 42m 39s                             | 5                | 81062           |</pre>"
      ],
      "text/plain": [
       "| 42m 39s                             | 5                | 81062           |"
      ]
     },
     "metadata": {},
     "output_type": "display_data"
    },
    {
     "data": {
      "text/html": [
       "<pre>| 42m 41s                             | 5                | 81064           |</pre>"
      ],
      "text/plain": [
       "| 42m 41s                             | 5                | 81064           |"
      ]
     },
     "metadata": {},
     "output_type": "display_data"
    },
    {
     "data": {
      "text/html": [
       "<pre>| 42m 42s                             | 5                | 81069           |</pre>"
      ],
      "text/plain": [
       "| 42m 42s                             | 5                | 81069           |"
      ]
     },
     "metadata": {},
     "output_type": "display_data"
    },
    {
     "data": {
      "text/html": [
       "<pre>| 42m 43s                             | 5                | 81069           |</pre>"
      ],
      "text/plain": [
       "| 42m 43s                             | 5                | 81069           |"
      ]
     },
     "metadata": {},
     "output_type": "display_data"
    },
    {
     "data": {
      "text/html": [
       "<pre>| 42m 44s                             | 5                | 81070           |</pre>"
      ],
      "text/plain": [
       "| 42m 44s                             | 5                | 81070           |"
      ]
     },
     "metadata": {},
     "output_type": "display_data"
    },
    {
     "data": {
      "text/html": [
       "<pre>| 42m 54s                             | 5                | 81093           |</pre>"
      ],
      "text/plain": [
       "| 42m 54s                             | 5                | 81093           |"
      ]
     },
     "metadata": {},
     "output_type": "display_data"
    },
    {
     "data": {
      "text/html": [
       "<pre>| 43m 8s                              | 5                | 81102           |</pre>"
      ],
      "text/plain": [
       "| 43m 8s                              | 5                | 81102           |"
      ]
     },
     "metadata": {},
     "output_type": "display_data"
    },
    {
     "data": {
      "text/html": [
       "<pre>| 43m 9s                              | 5                | 82030           |</pre>"
      ],
      "text/plain": [
       "| 43m 9s                              | 5                | 82030           |"
      ]
     },
     "metadata": {},
     "output_type": "display_data"
    },
    {
     "data": {
      "text/html": [
       "<pre>| 43m 12s                             | 5                | 82032           |</pre>"
      ],
      "text/plain": [
       "| 43m 12s                             | 5                | 82032           |"
      ]
     },
     "metadata": {},
     "output_type": "display_data"
    },
    {
     "data": {
      "text/html": [
       "<pre>| 43m 14s                             | 5                | 82033           |</pre>"
      ],
      "text/plain": [
       "| 43m 14s                             | 5                | 82033           |"
      ]
     },
     "metadata": {},
     "output_type": "display_data"
    },
    {
     "data": {
      "text/html": [
       "<pre>| 43m 18s                             | 5                | 82034           |</pre>"
      ],
      "text/plain": [
       "| 43m 18s                             | 5                | 82034           |"
      ]
     },
     "metadata": {},
     "output_type": "display_data"
    },
    {
     "data": {
      "text/html": [
       "<pre>| 43m 21s                             | 5                | 82047           |</pre>"
      ],
      "text/plain": [
       "| 43m 21s                             | 5                | 82047           |"
      ]
     },
     "metadata": {},
     "output_type": "display_data"
    },
    {
     "data": {
      "text/html": [
       "<pre>| 43m 36s                             | 5                | 82047           |</pre>"
      ],
      "text/plain": [
       "| 43m 36s                             | 5                | 82047           |"
      ]
     },
     "metadata": {},
     "output_type": "display_data"
    },
    {
     "data": {
      "text/html": [
       "<pre>| 43m 38s                             | 5                | 82047           |</pre>"
      ],
      "text/plain": [
       "| 43m 38s                             | 5                | 82047           |"
      ]
     },
     "metadata": {},
     "output_type": "display_data"
    },
    {
     "data": {
      "text/html": [
       "<pre>| 43m 50s                             | 5                | 82050           |</pre>"
      ],
      "text/plain": [
       "| 43m 50s                             | 5                | 82050           |"
      ]
     },
     "metadata": {},
     "output_type": "display_data"
    },
    {
     "data": {
      "text/html": [
       "<pre>| 43m 52s                             | 5                | 82050           |</pre>"
      ],
      "text/plain": [
       "| 43m 52s                             | 5                | 82050           |"
      ]
     },
     "metadata": {},
     "output_type": "display_data"
    },
    {
     "data": {
      "text/html": [
       "<pre>| 43m 53s                             | 5                | 82050           |</pre>"
      ],
      "text/plain": [
       "| 43m 53s                             | 5                | 82050           |"
      ]
     },
     "metadata": {},
     "output_type": "display_data"
    },
    {
     "data": {
      "text/html": [
       "<pre>| 43m 54s                             | 5                | 82056           |</pre>"
      ],
      "text/plain": [
       "| 43m 54s                             | 5                | 82056           |"
      ]
     },
     "metadata": {},
     "output_type": "display_data"
    },
    {
     "data": {
      "text/html": [
       "<pre>| 53m 54s                             | 5.25             | 82868           |</pre>"
      ],
      "text/plain": [
       "| 53m 54s                             | 5.25             | 82868           |"
      ]
     },
     "metadata": {},
     "output_type": "display_data"
    },
    {
     "data": {
      "text/html": [
       "<pre>| 54m 20s                             | 5.25             | 82886           |</pre>"
      ],
      "text/plain": [
       "| 54m 20s                             | 5.25             | 82886           |"
      ]
     },
     "metadata": {},
     "output_type": "display_data"
    },
    {
     "data": {
      "text/html": [
       "<pre>| 54m 21s                             | 5.25             | 82887           |</pre>"
      ],
      "text/plain": [
       "| 54m 21s                             | 5.25             | 82887           |"
      ]
     },
     "metadata": {},
     "output_type": "display_data"
    },
    {
     "data": {
      "text/html": [
       "<pre>| 54m 22s                             | 5.25             | 82887           |</pre>"
      ],
      "text/plain": [
       "| 54m 22s                             | 5.25             | 82887           |"
      ]
     },
     "metadata": {},
     "output_type": "display_data"
    },
    {
     "data": {
      "text/html": [
       "<pre>| 54m 24s                             | 5.25             | 82888           |</pre>"
      ],
      "text/plain": [
       "| 54m 24s                             | 5.25             | 82888           |"
      ]
     },
     "metadata": {},
     "output_type": "display_data"
    },
    {
     "data": {
      "text/html": [
       "<pre>| 54m 28s                             | 5.25             | 82893           |</pre>"
      ],
      "text/plain": [
       "| 54m 28s                             | 5.25             | 82893           |"
      ]
     },
     "metadata": {},
     "output_type": "display_data"
    },
    {
     "data": {
      "text/html": [
       "<pre>| 54m 30s                             | 5.25             | 82894           |</pre>"
      ],
      "text/plain": [
       "| 54m 30s                             | 5.25             | 82894           |"
      ]
     },
     "metadata": {},
     "output_type": "display_data"
    },
    {
     "data": {
      "text/html": [
       "<pre>| 54m 34s                             | 5.25             | 82895           |</pre>"
      ],
      "text/plain": [
       "| 54m 34s                             | 5.25             | 82895           |"
      ]
     },
     "metadata": {},
     "output_type": "display_data"
    },
    {
     "data": {
      "text/html": [
       "<pre>| 54m 41s                             | 5.25             | 82901           |</pre>"
      ],
      "text/plain": [
       "| 54m 41s                             | 5.25             | 82901           |"
      ]
     },
     "metadata": {},
     "output_type": "display_data"
    },
    {
     "data": {
      "text/html": [
       "<pre>| 54m 42s                             | 5.25             | 82901           |</pre>"
      ],
      "text/plain": [
       "| 54m 42s                             | 5.25             | 82901           |"
      ]
     },
     "metadata": {},
     "output_type": "display_data"
    },
    {
     "data": {
      "text/html": [
       "<pre>| 54m 43s                             | 5.25             | 82902           |</pre>"
      ],
      "text/plain": [
       "| 54m 43s                             | 5.25             | 82902           |"
      ]
     },
     "metadata": {},
     "output_type": "display_data"
    },
    {
     "data": {
      "text/html": [
       "<pre>| 54m 44s                             | 5.25             | 82903           |</pre>"
      ],
      "text/plain": [
       "| 54m 44s                             | 5.25             | 82903           |"
      ]
     },
     "metadata": {},
     "output_type": "display_data"
    },
    {
     "data": {
      "text/html": [
       "<pre>| 54m 45s                             | 5.25             | 82929           |</pre>"
      ],
      "text/plain": [
       "| 54m 45s                             | 5.25             | 82929           |"
      ]
     },
     "metadata": {},
     "output_type": "display_data"
    },
    {
     "data": {
      "text/html": [
       "<pre>| 54m 51s                             | 5.25             | 82929           |</pre>"
      ],
      "text/plain": [
       "| 54m 51s                             | 5.25             | 82929           |"
      ]
     },
     "metadata": {},
     "output_type": "display_data"
    },
    {
     "data": {
      "text/html": [
       "<pre>| 54m 52s                             | 5.25             | 82930           |</pre>"
      ],
      "text/plain": [
       "| 54m 52s                             | 5.25             | 82930           |"
      ]
     },
     "metadata": {},
     "output_type": "display_data"
    },
    {
     "data": {
      "text/html": [
       "<pre>| 54m 53s                             | 5.25             | 82931           |</pre>"
      ],
      "text/plain": [
       "| 54m 53s                             | 5.25             | 82931           |"
      ]
     },
     "metadata": {},
     "output_type": "display_data"
    },
    {
     "data": {
      "text/html": [
       "<pre>| 54m 55s                             | 5.25             | 82932           |</pre>"
      ],
      "text/plain": [
       "| 54m 55s                             | 5.25             | 82932           |"
      ]
     },
     "metadata": {},
     "output_type": "display_data"
    },
    {
     "data": {
      "text/html": [
       "<pre>| 54m 56s                             | 5.25             | 82934           |</pre>"
      ],
      "text/plain": [
       "| 54m 56s                             | 5.25             | 82934           |"
      ]
     },
     "metadata": {},
     "output_type": "display_data"
    },
    {
     "data": {
      "text/html": [
       "<pre>| 54m 58s                             | 5.25             | 82939           |</pre>"
      ],
      "text/plain": [
       "| 54m 58s                             | 5.25             | 82939           |"
      ]
     },
     "metadata": {},
     "output_type": "display_data"
    },
    {
     "data": {
      "text/html": [
       "<pre>| 54m 59s                             | 5.25             | 82957           |</pre>"
      ],
      "text/plain": [
       "| 54m 59s                             | 5.25             | 82957           |"
      ]
     },
     "metadata": {},
     "output_type": "display_data"
    },
    {
     "data": {
      "text/html": [
       "<pre>| 55m 3s                              | 5.25             | 82957           |</pre>"
      ],
      "text/plain": [
       "| 55m 3s                              | 5.25             | 82957           |"
      ]
     },
     "metadata": {},
     "output_type": "display_data"
    },
    {
     "data": {
      "text/html": [
       "<pre>| 55m 13s                             | 5.25             | 82966           |</pre>"
      ],
      "text/plain": [
       "| 55m 13s                             | 5.25             | 82966           |"
      ]
     },
     "metadata": {},
     "output_type": "display_data"
    },
    {
     "data": {
      "text/html": [
       "<pre>| 55m 16s                             | 5.25             | 82966           |</pre>"
      ],
      "text/plain": [
       "| 55m 16s                             | 5.25             | 82966           |"
      ]
     },
     "metadata": {},
     "output_type": "display_data"
    },
    {
     "data": {
      "text/html": [
       "<pre>| 55m 18s                             | 5.25             | 82967           |</pre>"
      ],
      "text/plain": [
       "| 55m 18s                             | 5.25             | 82967           |"
      ]
     },
     "metadata": {},
     "output_type": "display_data"
    },
    {
     "data": {
      "text/html": [
       "<pre>| 55m 18s                             | 5.25             | 83006           |</pre>"
      ],
      "text/plain": [
       "| 55m 18s                             | 5.25             | 83006           |"
      ]
     },
     "metadata": {},
     "output_type": "display_data"
    },
    {
     "data": {
      "text/html": [
       "<pre>| 55m 36s                             | 5.25             | 83136           |</pre>"
      ],
      "text/plain": [
       "| 55m 36s                             | 5.25             | 83136           |"
      ]
     },
     "metadata": {},
     "output_type": "display_data"
    },
    {
     "data": {
      "text/html": [
       "<pre>| 56m 8s                              | 5.25             | 83136           |</pre>"
      ],
      "text/plain": [
       "| 56m 8s                              | 5.25             | 83136           |"
      ]
     },
     "metadata": {},
     "output_type": "display_data"
    },
    {
     "data": {
      "text/html": [
       "<pre>| 56m 14s                             | 5.25             | 83137           |</pre>"
      ],
      "text/plain": [
       "| 56m 14s                             | 5.25             | 83137           |"
      ]
     },
     "metadata": {},
     "output_type": "display_data"
    },
    {
     "data": {
      "text/html": [
       "<pre>| 56m 15s                             | 5.25             | 83137           |</pre>"
      ],
      "text/plain": [
       "| 56m 15s                             | 5.25             | 83137           |"
      ]
     },
     "metadata": {},
     "output_type": "display_data"
    },
    {
     "data": {
      "text/html": [
       "<pre>| 56m 18s                             | 5.25             | 83138           |</pre>"
      ],
      "text/plain": [
       "| 56m 18s                             | 5.25             | 83138           |"
      ]
     },
     "metadata": {},
     "output_type": "display_data"
    },
    {
     "data": {
      "text/html": [
       "<pre>| 56m 26s                             | 5.25             | 83139           |</pre>"
      ],
      "text/plain": [
       "| 56m 26s                             | 5.25             | 83139           |"
      ]
     },
     "metadata": {},
     "output_type": "display_data"
    },
    {
     "data": {
      "text/html": [
       "<pre>| 56m 27s                             | 5.25             | 83140           |</pre>"
      ],
      "text/plain": [
       "| 56m 27s                             | 5.25             | 83140           |"
      ]
     },
     "metadata": {},
     "output_type": "display_data"
    },
    {
     "data": {
      "text/html": [
       "<pre>| 56m 29s                             | 5.25             | 83140           |</pre>"
      ],
      "text/plain": [
       "| 56m 29s                             | 5.25             | 83140           |"
      ]
     },
     "metadata": {},
     "output_type": "display_data"
    },
    {
     "data": {
      "text/html": [
       "<pre>| 56m 30s                             | 5.25             | 83140           |</pre>"
      ],
      "text/plain": [
       "| 56m 30s                             | 5.25             | 83140           |"
      ]
     },
     "metadata": {},
     "output_type": "display_data"
    },
    {
     "data": {
      "text/html": [
       "<pre>| 56m 36s                             | 5.25             | 83148           |</pre>"
      ],
      "text/plain": [
       "| 56m 36s                             | 5.25             | 83148           |"
      ]
     },
     "metadata": {},
     "output_type": "display_data"
    },
    {
     "data": {
      "text/html": [
       "<pre>| 56m 52s                             | 5.25             | 83151           |</pre>"
      ],
      "text/plain": [
       "| 56m 52s                             | 5.25             | 83151           |"
      ]
     },
     "metadata": {},
     "output_type": "display_data"
    },
    {
     "data": {
      "text/html": [
       "<pre>| 56m 58s                             | 5.25             | 83156           |</pre>"
      ],
      "text/plain": [
       "| 56m 58s                             | 5.25             | 83156           |"
      ]
     },
     "metadata": {},
     "output_type": "display_data"
    },
    {
     "data": {
      "text/html": [
       "<pre>| 57m 23s                             | 5.25             | 83156           |</pre>"
      ],
      "text/plain": [
       "| 57m 23s                             | 5.25             | 83156           |"
      ]
     },
     "metadata": {},
     "output_type": "display_data"
    },
    {
     "data": {
      "text/html": [
       "<pre>| 57m 55s                             | 5.25             | 83186           |</pre>"
      ],
      "text/plain": [
       "| 57m 55s                             | 5.25             | 83186           |"
      ]
     },
     "metadata": {},
     "output_type": "display_data"
    },
    {
     "data": {
      "text/html": [
       "<pre>| 57m 57s                             | 5.25             | 83187           |</pre>"
      ],
      "text/plain": [
       "| 57m 57s                             | 5.25             | 83187           |"
      ]
     },
     "metadata": {},
     "output_type": "display_data"
    },
    {
     "data": {
      "text/html": [
       "<pre>| 57m 58s                             | 5.25             | 83187           |</pre>"
      ],
      "text/plain": [
       "| 57m 58s                             | 5.25             | 83187           |"
      ]
     },
     "metadata": {},
     "output_type": "display_data"
    },
    {
     "data": {
      "text/html": [
       "<pre>| 57m 58s                             | 5.25             | 83187           |</pre>"
      ],
      "text/plain": [
       "| 57m 58s                             | 5.25             | 83187           |"
      ]
     },
     "metadata": {},
     "output_type": "display_data"
    },
    {
     "data": {
      "text/html": [
       "<pre>| 58m 11s                             | 5.25             | 83191           |</pre>"
      ],
      "text/plain": [
       "| 58m 11s                             | 5.25             | 83191           |"
      ]
     },
     "metadata": {},
     "output_type": "display_data"
    },
    {
     "data": {
      "text/html": [
       "<pre>| 58m 59s                             | 5.25             | 83277           |</pre>"
      ],
      "text/plain": [
       "| 58m 59s                             | 5.25             | 83277           |"
      ]
     },
     "metadata": {},
     "output_type": "display_data"
    },
    {
     "data": {
      "text/html": [
       "<pre>| 59m 0s                              | 5.25             | 83287           |</pre>"
      ],
      "text/plain": [
       "| 59m 0s                              | 5.25             | 83287           |"
      ]
     },
     "metadata": {},
     "output_type": "display_data"
    },
    {
     "data": {
      "text/html": [
       "<pre>| 59m 28s                             | 5.25             | 83287           |</pre>"
      ],
      "text/plain": [
       "| 59m 28s                             | 5.25             | 83287           |"
      ]
     },
     "metadata": {},
     "output_type": "display_data"
    },
    {
     "data": {
      "text/html": [
       "<pre>| 59m 29s                             | 5.25             | 83288           |</pre>"
      ],
      "text/plain": [
       "| 59m 29s                             | 5.25             | 83288           |"
      ]
     },
     "metadata": {},
     "output_type": "display_data"
    },
    {
     "data": {
      "text/html": [
       "<pre>| 59m 31s                             | 5.25             | 83289           |</pre>"
      ],
      "text/plain": [
       "| 59m 31s                             | 5.25             | 83289           |"
      ]
     },
     "metadata": {},
     "output_type": "display_data"
    },
    {
     "data": {
      "text/html": [
       "<pre>| 59m 34s                             | 5.25             | 83289           |</pre>"
      ],
      "text/plain": [
       "| 59m 34s                             | 5.25             | 83289           |"
      ]
     },
     "metadata": {},
     "output_type": "display_data"
    },
    {
     "data": {
      "text/html": [
       "<pre>| 59m 37s                             | 5.25             | 83290           |</pre>"
      ],
      "text/plain": [
       "| 59m 37s                             | 5.25             | 83290           |"
      ]
     },
     "metadata": {},
     "output_type": "display_data"
    },
    {
     "data": {
      "text/html": [
       "<pre>| 59m 41s                             | 5.25             | 83291           |</pre>"
      ],
      "text/plain": [
       "| 59m 41s                             | 5.25             | 83291           |"
      ]
     },
     "metadata": {},
     "output_type": "display_data"
    },
    {
     "data": {
      "text/html": [
       "<pre>| 59m 44s                             | 5.25             | 83292           |</pre>"
      ],
      "text/plain": [
       "| 59m 44s                             | 5.25             | 83292           |"
      ]
     },
     "metadata": {},
     "output_type": "display_data"
    },
    {
     "data": {
      "text/html": [
       "<pre>| 59m 46s                             | 5.25             | 83292           |</pre>"
      ],
      "text/plain": [
       "| 59m 46s                             | 5.25             | 83292           |"
      ]
     },
     "metadata": {},
     "output_type": "display_data"
    },
    {
     "data": {
      "text/html": [
       "<pre>| 59m 47s                             | 5.25             | 83292           |</pre>"
      ],
      "text/plain": [
       "| 59m 47s                             | 5.25             | 83292           |"
      ]
     },
     "metadata": {},
     "output_type": "display_data"
    },
    {
     "data": {
      "text/html": [
       "<pre>| 59m 48s                             | 5.25             | 83293           |</pre>"
      ],
      "text/plain": [
       "| 59m 48s                             | 5.25             | 83293           |"
      ]
     },
     "metadata": {},
     "output_type": "display_data"
    },
    {
     "data": {
      "text/html": [
       "<pre>| 59m 50s                             | 5.25             | 83293           |</pre>"
      ],
      "text/plain": [
       "| 59m 50s                             | 5.25             | 83293           |"
      ]
     },
     "metadata": {},
     "output_type": "display_data"
    },
    {
     "data": {
      "text/html": [
       "<pre>| 59m 57s                             | 5.25             | 83295           |</pre>"
      ],
      "text/plain": [
       "| 59m 57s                             | 5.25             | 83295           |"
      ]
     },
     "metadata": {},
     "output_type": "display_data"
    },
    {
     "data": {
      "text/html": [
       "<pre>| 1h 0m                               | 5.25             | 83295           |</pre>"
      ],
      "text/plain": [
       "| 1h 0m                               | 5.25             | 83295           |"
      ]
     },
     "metadata": {},
     "output_type": "display_data"
    },
    {
     "data": {
      "text/html": [
       "<pre>| 1h 0m                               | 5.25             | 83295           |</pre>"
      ],
      "text/plain": [
       "| 1h 0m                               | 5.25             | 83295           |"
      ]
     },
     "metadata": {},
     "output_type": "display_data"
    },
    {
     "data": {
      "text/html": [
       "<pre>| 1h 0m                               | 5.25             | 83297           |</pre>"
      ],
      "text/plain": [
       "| 1h 0m                               | 5.25             | 83297           |"
      ]
     },
     "metadata": {},
     "output_type": "display_data"
    },
    {
     "data": {
      "text/html": [
       "<pre>| 1h 0m                               | 5.25             | 83297           |</pre>"
      ],
      "text/plain": [
       "| 1h 0m                               | 5.25             | 83297           |"
      ]
     },
     "metadata": {},
     "output_type": "display_data"
    },
    {
     "data": {
      "text/html": [
       "<pre>| 1h 0m                               | 5.25             | 83298           |</pre>"
      ],
      "text/plain": [
       "| 1h 0m                               | 5.25             | 83298           |"
      ]
     },
     "metadata": {},
     "output_type": "display_data"
    },
    {
     "data": {
      "text/html": [
       "<pre>| 1h 0m                               | 5.25             | 83299           |</pre>"
      ],
      "text/plain": [
       "| 1h 0m                               | 5.25             | 83299           |"
      ]
     },
     "metadata": {},
     "output_type": "display_data"
    },
    {
     "data": {
      "text/html": [
       "<pre>| 1h 0m                               | 5.25             | 83299           |</pre>"
      ],
      "text/plain": [
       "| 1h 0m                               | 5.25             | 83299           |"
      ]
     },
     "metadata": {},
     "output_type": "display_data"
    },
    {
     "data": {
      "text/html": [
       "<pre>| 1h 0m                               | 5.25             | 83300           |</pre>"
      ],
      "text/plain": [
       "| 1h 0m                               | 5.25             | 83300           |"
      ]
     },
     "metadata": {},
     "output_type": "display_data"
    },
    {
     "data": {
      "text/html": [
       "<pre>| 1h 0m                               | 5.25             | 83301           |</pre>"
      ],
      "text/plain": [
       "| 1h 0m                               | 5.25             | 83301           |"
      ]
     },
     "metadata": {},
     "output_type": "display_data"
    },
    {
     "data": {
      "text/html": [
       "<pre>| 1h 0m                               | 5.25             | 83301           |</pre>"
      ],
      "text/plain": [
       "| 1h 0m                               | 5.25             | 83301           |"
      ]
     },
     "metadata": {},
     "output_type": "display_data"
    },
    {
     "data": {
      "text/html": [
       "<pre>| 1h 0m                               | 5.25             | 83302           |</pre>"
      ],
      "text/plain": [
       "| 1h 0m                               | 5.25             | 83302           |"
      ]
     },
     "metadata": {},
     "output_type": "display_data"
    },
    {
     "data": {
      "text/html": [
       "<pre>| 1h 0m                               | 5.25             | 83304           |</pre>"
      ],
      "text/plain": [
       "| 1h 0m                               | 5.25             | 83304           |"
      ]
     },
     "metadata": {},
     "output_type": "display_data"
    },
    {
     "data": {
      "text/html": [
       "<pre>| 1h 0m                               | 5.25             | 83305           |</pre>"
      ],
      "text/plain": [
       "| 1h 0m                               | 5.25             | 83305           |"
      ]
     },
     "metadata": {},
     "output_type": "display_data"
    },
    {
     "data": {
      "text/html": [
       "<pre>| 1h 0m                               | 5.25             | 83305           |</pre>"
      ],
      "text/plain": [
       "| 1h 0m                               | 5.25             | 83305           |"
      ]
     },
     "metadata": {},
     "output_type": "display_data"
    },
    {
     "data": {
      "text/html": [
       "<pre>| 1h 2m                               | 5.25             | 83324           |</pre>"
      ],
      "text/plain": [
       "| 1h 2m                               | 5.25             | 83324           |"
      ]
     },
     "metadata": {},
     "output_type": "display_data"
    },
    {
     "data": {
      "text/html": [
       "<pre>| 1h 2m                               | 5.25             | 83327           |</pre>"
      ],
      "text/plain": [
       "| 1h 2m                               | 5.25             | 83327           |"
      ]
     },
     "metadata": {},
     "output_type": "display_data"
    },
    {
     "data": {
      "text/html": [
       "<pre>| 1h 2m                               | 5.25             | 83328           |</pre>"
      ],
      "text/plain": [
       "| 1h 2m                               | 5.25             | 83328           |"
      ]
     },
     "metadata": {},
     "output_type": "display_data"
    },
    {
     "data": {
      "text/html": [
       "<pre>| 1h 2m                               | 5.25             | 83330           |</pre>"
      ],
      "text/plain": [
       "| 1h 2m                               | 5.25             | 83330           |"
      ]
     },
     "metadata": {},
     "output_type": "display_data"
    },
    {
     "data": {
      "text/html": [
       "<pre>| 1h 2m                               | 5.25             | 83330           |</pre>"
      ],
      "text/plain": [
       "| 1h 2m                               | 5.25             | 83330           |"
      ]
     },
     "metadata": {},
     "output_type": "display_data"
    },
    {
     "data": {
      "text/html": [
       "<pre>| 1h 2m                               | 5.25             | 83330           |</pre>"
      ],
      "text/plain": [
       "| 1h 2m                               | 5.25             | 83330           |"
      ]
     },
     "metadata": {},
     "output_type": "display_data"
    },
    {
     "data": {
      "text/html": [
       "<pre>| 1h 2m                               | 5.25             | 83331           |</pre>"
      ],
      "text/plain": [
       "| 1h 2m                               | 5.25             | 83331           |"
      ]
     },
     "metadata": {},
     "output_type": "display_data"
    },
    {
     "data": {
      "text/html": [
       "<pre>| 1h 2m                               | 5.25             | 83331           |</pre>"
      ],
      "text/plain": [
       "| 1h 2m                               | 5.25             | 83331           |"
      ]
     },
     "metadata": {},
     "output_type": "display_data"
    },
    {
     "data": {
      "text/html": [
       "<pre>| 1h 2m                               | 5.25             | 83332           |</pre>"
      ],
      "text/plain": [
       "| 1h 2m                               | 5.25             | 83332           |"
      ]
     },
     "metadata": {},
     "output_type": "display_data"
    },
    {
     "data": {
      "text/html": [
       "<pre>| 1h 2m                               | 5.25             | 83333           |</pre>"
      ],
      "text/plain": [
       "| 1h 2m                               | 5.25             | 83333           |"
      ]
     },
     "metadata": {},
     "output_type": "display_data"
    },
    {
     "data": {
      "text/html": [
       "<pre>| 1h 2m                               | 5.25             | 83333           |</pre>"
      ],
      "text/plain": [
       "| 1h 2m                               | 5.25             | 83333           |"
      ]
     },
     "metadata": {},
     "output_type": "display_data"
    },
    {
     "data": {
      "text/html": [
       "<pre>| 1h 2m                               | 5.25             | 83334           |</pre>"
      ],
      "text/plain": [
       "| 1h 2m                               | 5.25             | 83334           |"
      ]
     },
     "metadata": {},
     "output_type": "display_data"
    },
    {
     "data": {
      "text/html": [
       "<pre>| 1h 2m                               | 5.25             | 83336           |</pre>"
      ],
      "text/plain": [
       "| 1h 2m                               | 5.25             | 83336           |"
      ]
     },
     "metadata": {},
     "output_type": "display_data"
    },
    {
     "data": {
      "text/html": [
       "<pre>| 1h 2m                               | 5.25             | 83338           |</pre>"
      ],
      "text/plain": [
       "| 1h 2m                               | 5.25             | 83338           |"
      ]
     },
     "metadata": {},
     "output_type": "display_data"
    },
    {
     "data": {
      "text/html": [
       "<pre>| 1h 2m                               | 5.25             | 83340           |</pre>"
      ],
      "text/plain": [
       "| 1h 2m                               | 5.25             | 83340           |"
      ]
     },
     "metadata": {},
     "output_type": "display_data"
    },
    {
     "data": {
      "text/html": [
       "<pre>| 1h 2m                               | 5.25             | 83344           |</pre>"
      ],
      "text/plain": [
       "| 1h 2m                               | 5.25             | 83344           |"
      ]
     },
     "metadata": {},
     "output_type": "display_data"
    },
    {
     "data": {
      "text/html": [
       "<pre>| 1h 2m                               | 5.25             | 83353           |</pre>"
      ],
      "text/plain": [
       "| 1h 2m                               | 5.25             | 83353           |"
      ]
     },
     "metadata": {},
     "output_type": "display_data"
    },
    {
     "data": {
      "text/html": [
       "<pre>| 1h 2m                               | 5.25             | 83353           |</pre>"
      ],
      "text/plain": [
       "| 1h 2m                               | 5.25             | 83353           |"
      ]
     },
     "metadata": {},
     "output_type": "display_data"
    },
    {
     "data": {
      "text/html": [
       "<pre>| 1h 3m                               | 5.25             | 83355           |</pre>"
      ],
      "text/plain": [
       "| 1h 3m                               | 5.25             | 83355           |"
      ]
     },
     "metadata": {},
     "output_type": "display_data"
    },
    {
     "data": {
      "text/html": [
       "<pre>| 1h 3m                               | 5.25             | 83355           |</pre>"
      ],
      "text/plain": [
       "| 1h 3m                               | 5.25             | 83355           |"
      ]
     },
     "metadata": {},
     "output_type": "display_data"
    },
    {
     "data": {
      "text/html": [
       "<pre>| 1h 3m                               | 5.25             | 83356           |</pre>"
      ],
      "text/plain": [
       "| 1h 3m                               | 5.25             | 83356           |"
      ]
     },
     "metadata": {},
     "output_type": "display_data"
    },
    {
     "data": {
      "text/html": [
       "<pre>| 1h 3m                               | 5.25             | 83369           |</pre>"
      ],
      "text/plain": [
       "| 1h 3m                               | 5.25             | 83369           |"
      ]
     },
     "metadata": {},
     "output_type": "display_data"
    },
    {
     "data": {
      "text/html": [
       "<pre>| 1h 3m                               | 5.25             | 83369           |</pre>"
      ],
      "text/plain": [
       "| 1h 3m                               | 5.25             | 83369           |"
      ]
     },
     "metadata": {},
     "output_type": "display_data"
    },
    {
     "data": {
      "text/html": [
       "<pre>| 1h 3m                               | 5.25             | 83372           |</pre>"
      ],
      "text/plain": [
       "| 1h 3m                               | 5.25             | 83372           |"
      ]
     },
     "metadata": {},
     "output_type": "display_data"
    },
    {
     "data": {
      "text/html": [
       "<pre>| 1h 3m                               | 5.25             | 83372           |</pre>"
      ],
      "text/plain": [
       "| 1h 3m                               | 5.25             | 83372           |"
      ]
     },
     "metadata": {},
     "output_type": "display_data"
    },
    {
     "data": {
      "text/html": [
       "<pre>| 1h 3m                               | 5.25             | 83378           |</pre>"
      ],
      "text/plain": [
       "| 1h 3m                               | 5.25             | 83378           |"
      ]
     },
     "metadata": {},
     "output_type": "display_data"
    },
    {
     "data": {
      "text/html": [
       "<pre>| 1h 3m                               | 5.25             | 83378           |</pre>"
      ],
      "text/plain": [
       "| 1h 3m                               | 5.25             | 83378           |"
      ]
     },
     "metadata": {},
     "output_type": "display_data"
    },
    {
     "data": {
      "text/html": [
       "<pre>| 1h 3m                               | 5.25             | 83381           |</pre>"
      ],
      "text/plain": [
       "| 1h 3m                               | 5.25             | 83381           |"
      ]
     },
     "metadata": {},
     "output_type": "display_data"
    },
    {
     "data": {
      "text/html": [
       "<pre>| 1h 4m                               | 5.25             | 83382           |</pre>"
      ],
      "text/plain": [
       "| 1h 4m                               | 5.25             | 83382           |"
      ]
     },
     "metadata": {},
     "output_type": "display_data"
    },
    {
     "data": {
      "text/html": [
       "<pre>| 1h 4m                               | 5.25             | 83383           |</pre>"
      ],
      "text/plain": [
       "| 1h 4m                               | 5.25             | 83383           |"
      ]
     },
     "metadata": {},
     "output_type": "display_data"
    },
    {
     "data": {
      "text/html": [
       "<pre>| 1h 4m                               | 5.25             | 83389           |</pre>"
      ],
      "text/plain": [
       "| 1h 4m                               | 5.25             | 83389           |"
      ]
     },
     "metadata": {},
     "output_type": "display_data"
    },
    {
     "data": {
      "text/html": [
       "<pre>| 1h 4m                               | 5.25             | 83389           |</pre>"
      ],
      "text/plain": [
       "| 1h 4m                               | 5.25             | 83389           |"
      ]
     },
     "metadata": {},
     "output_type": "display_data"
    },
    {
     "data": {
      "text/html": [
       "<pre>| 1h 4m                               | 5.25             | 83390           |</pre>"
      ],
      "text/plain": [
       "| 1h 4m                               | 5.25             | 83390           |"
      ]
     },
     "metadata": {},
     "output_type": "display_data"
    },
    {
     "data": {
      "text/html": [
       "<pre>| 1h 4m                               | 5.25             | 83391           |</pre>"
      ],
      "text/plain": [
       "| 1h 4m                               | 5.25             | 83391           |"
      ]
     },
     "metadata": {},
     "output_type": "display_data"
    },
    {
     "data": {
      "text/html": [
       "<pre>| 1h 4m                               | 5.25             | 83394           |</pre>"
      ],
      "text/plain": [
       "| 1h 4m                               | 5.25             | 83394           |"
      ]
     },
     "metadata": {},
     "output_type": "display_data"
    },
    {
     "data": {
      "text/html": [
       "<pre>| 1h 4m                               | 5.25             | 83395           |</pre>"
      ],
      "text/plain": [
       "| 1h 4m                               | 5.25             | 83395           |"
      ]
     },
     "metadata": {},
     "output_type": "display_data"
    },
    {
     "data": {
      "text/html": [
       "<pre>| 1h 4m                               | 5.25             | 83397           |</pre>"
      ],
      "text/plain": [
       "| 1h 4m                               | 5.25             | 83397           |"
      ]
     },
     "metadata": {},
     "output_type": "display_data"
    },
    {
     "data": {
      "text/html": [
       "<pre>| 1h 4m                               | 5.25             | 83400           |</pre>"
      ],
      "text/plain": [
       "| 1h 4m                               | 5.25             | 83400           |"
      ]
     },
     "metadata": {},
     "output_type": "display_data"
    },
    {
     "data": {
      "text/html": [
       "<pre>| 1h 4m                               | 5.25             | 83404           |</pre>"
      ],
      "text/plain": [
       "| 1h 4m                               | 5.25             | 83404           |"
      ]
     },
     "metadata": {},
     "output_type": "display_data"
    },
    {
     "data": {
      "text/html": [
       "<pre>| 1h 4m                               | 5.25             | 83404           |</pre>"
      ],
      "text/plain": [
       "| 1h 4m                               | 5.25             | 83404           |"
      ]
     },
     "metadata": {},
     "output_type": "display_data"
    },
    {
     "data": {
      "text/html": [
       "<pre>| 1h 4m                               | 5.25             | 83412           |</pre>"
      ],
      "text/plain": [
       "| 1h 4m                               | 5.25             | 83412           |"
      ]
     },
     "metadata": {},
     "output_type": "display_data"
    },
    {
     "data": {
      "text/html": [
       "<pre>| 1h 4m                               | 5.25             | 83414           |</pre>"
      ],
      "text/plain": [
       "| 1h 4m                               | 5.25             | 83414           |"
      ]
     },
     "metadata": {},
     "output_type": "display_data"
    },
    {
     "data": {
      "text/html": [
       "<pre>| 1h 4m                               | 5.25             | 83414           |</pre>"
      ],
      "text/plain": [
       "| 1h 4m                               | 5.25             | 83414           |"
      ]
     },
     "metadata": {},
     "output_type": "display_data"
    },
    {
     "data": {
      "text/html": [
       "<pre>| 1h 4m                               | 5.25             | 83415           |</pre>"
      ],
      "text/plain": [
       "| 1h 4m                               | 5.25             | 83415           |"
      ]
     },
     "metadata": {},
     "output_type": "display_data"
    },
    {
     "data": {
      "text/html": [
       "<pre>| 1h 4m                               | 5.25             | 83415           |</pre>"
      ],
      "text/plain": [
       "| 1h 4m                               | 5.25             | 83415           |"
      ]
     },
     "metadata": {},
     "output_type": "display_data"
    },
    {
     "data": {
      "text/html": [
       "<pre>| 1h 4m                               | 5.25             | 83417           |</pre>"
      ],
      "text/plain": [
       "| 1h 4m                               | 5.25             | 83417           |"
      ]
     },
     "metadata": {},
     "output_type": "display_data"
    },
    {
     "data": {
      "text/html": [
       "<pre>| 1h 4m                               | 5.25             | 83421           |</pre>"
      ],
      "text/plain": [
       "| 1h 4m                               | 5.25             | 83421           |"
      ]
     },
     "metadata": {},
     "output_type": "display_data"
    },
    {
     "data": {
      "text/html": [
       "<pre>| 1h 5m                               | 5.25             | 83422           |</pre>"
      ],
      "text/plain": [
       "| 1h 5m                               | 5.25             | 83422           |"
      ]
     },
     "metadata": {},
     "output_type": "display_data"
    },
    {
     "data": {
      "text/html": [
       "<pre>| 1h 5m                               | 5.25             | 83423           |</pre>"
      ],
      "text/plain": [
       "| 1h 5m                               | 5.25             | 83423           |"
      ]
     },
     "metadata": {},
     "output_type": "display_data"
    },
    {
     "data": {
      "text/html": [
       "<pre>| 1h 5m                               | 5.25             | 83423           |</pre>"
      ],
      "text/plain": [
       "| 1h 5m                               | 5.25             | 83423           |"
      ]
     },
     "metadata": {},
     "output_type": "display_data"
    },
    {
     "data": {
      "text/html": [
       "<pre>| 1h 5m                               | 5.25             | 83425           |</pre>"
      ],
      "text/plain": [
       "| 1h 5m                               | 5.25             | 83425           |"
      ]
     },
     "metadata": {},
     "output_type": "display_data"
    },
    {
     "data": {
      "text/html": [
       "<pre>| 1h 5m                               | 5.25             | 83425           |</pre>"
      ],
      "text/plain": [
       "| 1h 5m                               | 5.25             | 83425           |"
      ]
     },
     "metadata": {},
     "output_type": "display_data"
    },
    {
     "data": {
      "text/html": [
       "<pre>| 1h 5m                               | 5.25             | 83428           |</pre>"
      ],
      "text/plain": [
       "| 1h 5m                               | 5.25             | 83428           |"
      ]
     },
     "metadata": {},
     "output_type": "display_data"
    },
    {
     "data": {
      "text/html": [
       "<pre>| 1h 5m                               | 5.25             | 83432           |</pre>"
      ],
      "text/plain": [
       "| 1h 5m                               | 5.25             | 83432           |"
      ]
     },
     "metadata": {},
     "output_type": "display_data"
    },
    {
     "data": {
      "text/html": [
       "<pre>| 1h 5m                               | 5.25             | 83432           |</pre>"
      ],
      "text/plain": [
       "| 1h 5m                               | 5.25             | 83432           |"
      ]
     },
     "metadata": {},
     "output_type": "display_data"
    },
    {
     "data": {
      "text/html": [
       "<pre>| 1h 5m                               | 5.25             | 83433           |</pre>"
      ],
      "text/plain": [
       "| 1h 5m                               | 5.25             | 83433           |"
      ]
     },
     "metadata": {},
     "output_type": "display_data"
    },
    {
     "data": {
      "text/html": [
       "<pre>| 1h 5m                               | 5.25             | 83436           |</pre>"
      ],
      "text/plain": [
       "| 1h 5m                               | 5.25             | 83436           |"
      ]
     },
     "metadata": {},
     "output_type": "display_data"
    },
    {
     "data": {
      "text/html": [
       "<pre>| 1h 5m                               | 5.25             | 83438           |</pre>"
      ],
      "text/plain": [
       "| 1h 5m                               | 5.25             | 83438           |"
      ]
     },
     "metadata": {},
     "output_type": "display_data"
    },
    {
     "data": {
      "text/html": [
       "<pre>| 1h 5m                               | 5.25             | 83438           |</pre>"
      ],
      "text/plain": [
       "| 1h 5m                               | 5.25             | 83438           |"
      ]
     },
     "metadata": {},
     "output_type": "display_data"
    },
    {
     "data": {
      "text/html": [
       "<pre>| 1h 5m                               | 5.25             | 83438           |</pre>"
      ],
      "text/plain": [
       "| 1h 5m                               | 5.25             | 83438           |"
      ]
     },
     "metadata": {},
     "output_type": "display_data"
    },
    {
     "data": {
      "text/html": [
       "<pre>| 1h 5m                               | 5.25             | 83448           |</pre>"
      ],
      "text/plain": [
       "| 1h 5m                               | 5.25             | 83448           |"
      ]
     },
     "metadata": {},
     "output_type": "display_data"
    },
    {
     "data": {
      "text/html": [
       "<pre>| 1h 5m                               | 5.25             | 83449           |</pre>"
      ],
      "text/plain": [
       "| 1h 5m                               | 5.25             | 83449           |"
      ]
     },
     "metadata": {},
     "output_type": "display_data"
    },
    {
     "data": {
      "text/html": [
       "<pre>| 1h 5m                               | 5.25             | 83449           |</pre>"
      ],
      "text/plain": [
       "| 1h 5m                               | 5.25             | 83449           |"
      ]
     },
     "metadata": {},
     "output_type": "display_data"
    },
    {
     "data": {
      "text/html": [
       "<pre>| 1h 5m                               | 5.25             | 83451           |</pre>"
      ],
      "text/plain": [
       "| 1h 5m                               | 5.25             | 83451           |"
      ]
     },
     "metadata": {},
     "output_type": "display_data"
    },
    {
     "data": {
      "text/html": [
       "<pre>| 1h 5m                               | 5.25             | 83454           |</pre>"
      ],
      "text/plain": [
       "| 1h 5m                               | 5.25             | 83454           |"
      ]
     },
     "metadata": {},
     "output_type": "display_data"
    },
    {
     "data": {
      "text/html": [
       "<pre>| 1h 5m                               | 5.25             | 83455           |</pre>"
      ],
      "text/plain": [
       "| 1h 5m                               | 5.25             | 83455           |"
      ]
     },
     "metadata": {},
     "output_type": "display_data"
    },
    {
     "data": {
      "text/html": [
       "<pre>| 1h 5m                               | 5.25             | 83455           |</pre>"
      ],
      "text/plain": [
       "| 1h 5m                               | 5.25             | 83455           |"
      ]
     },
     "metadata": {},
     "output_type": "display_data"
    },
    {
     "data": {
      "text/html": [
       "<pre>| 1h 5m                               | 5.25             | 83456           |</pre>"
      ],
      "text/plain": [
       "| 1h 5m                               | 5.25             | 83456           |"
      ]
     },
     "metadata": {},
     "output_type": "display_data"
    },
    {
     "data": {
      "text/html": [
       "<pre>| 1h 5m                               | 5.25             | 83456           |</pre>"
      ],
      "text/plain": [
       "| 1h 5m                               | 5.25             | 83456           |"
      ]
     },
     "metadata": {},
     "output_type": "display_data"
    },
    {
     "data": {
      "text/html": [
       "<pre>| 1h 5m                               | 5.25             | 83459           |</pre>"
      ],
      "text/plain": [
       "| 1h 5m                               | 5.25             | 83459           |"
      ]
     },
     "metadata": {},
     "output_type": "display_data"
    },
    {
     "data": {
      "text/html": [
       "<pre>| 1h 5m                               | 5.25             | 83460           |</pre>"
      ],
      "text/plain": [
       "| 1h 5m                               | 5.25             | 83460           |"
      ]
     },
     "metadata": {},
     "output_type": "display_data"
    },
    {
     "data": {
      "text/html": [
       "<pre>| 1h 5m                               | 5.25             | 83462           |</pre>"
      ],
      "text/plain": [
       "| 1h 5m                               | 5.25             | 83462           |"
      ]
     },
     "metadata": {},
     "output_type": "display_data"
    },
    {
     "data": {
      "text/html": [
       "<pre>| 1h 5m                               | 5.25             | 83462           |</pre>"
      ],
      "text/plain": [
       "| 1h 5m                               | 5.25             | 83462           |"
      ]
     },
     "metadata": {},
     "output_type": "display_data"
    },
    {
     "data": {
      "text/html": [
       "<pre>| 1h 5m                               | 5.25             | 83463           |</pre>"
      ],
      "text/plain": [
       "| 1h 5m                               | 5.25             | 83463           |"
      ]
     },
     "metadata": {},
     "output_type": "display_data"
    },
    {
     "data": {
      "text/html": [
       "<pre>| 1h 5m                               | 5.25             | 83465           |</pre>"
      ],
      "text/plain": [
       "| 1h 5m                               | 5.25             | 83465           |"
      ]
     },
     "metadata": {},
     "output_type": "display_data"
    },
    {
     "data": {
      "text/html": [
       "<pre>| 1h 5m                               | 5.25             | 83465           |</pre>"
      ],
      "text/plain": [
       "| 1h 5m                               | 5.25             | 83465           |"
      ]
     },
     "metadata": {},
     "output_type": "display_data"
    },
    {
     "data": {
      "text/html": [
       "<pre>| 1h 5m                               | 5.25             | 83468           |</pre>"
      ],
      "text/plain": [
       "| 1h 5m                               | 5.25             | 83468           |"
      ]
     },
     "metadata": {},
     "output_type": "display_data"
    },
    {
     "data": {
      "text/html": [
       "<pre>| 1h 5m                               | 5.25             | 83470           |</pre>"
      ],
      "text/plain": [
       "| 1h 5m                               | 5.25             | 83470           |"
      ]
     },
     "metadata": {},
     "output_type": "display_data"
    },
    {
     "data": {
      "text/html": [
       "<pre>| 1h 5m                               | 5.25             | 83471           |</pre>"
      ],
      "text/plain": [
       "| 1h 5m                               | 5.25             | 83471           |"
      ]
     },
     "metadata": {},
     "output_type": "display_data"
    },
    {
     "data": {
      "text/html": [
       "<pre>| 1h 5m                               | 5.25             | 83471           |</pre>"
      ],
      "text/plain": [
       "| 1h 5m                               | 5.25             | 83471           |"
      ]
     },
     "metadata": {},
     "output_type": "display_data"
    },
    {
     "data": {
      "text/html": [
       "<pre>| 1h 5m                               | 5.25             | 83478           |</pre>"
      ],
      "text/plain": [
       "| 1h 5m                               | 5.25             | 83478           |"
      ]
     },
     "metadata": {},
     "output_type": "display_data"
    },
    {
     "data": {
      "text/html": [
       "<pre>| 1h 5m                               | 5.25             | 83479           |</pre>"
      ],
      "text/plain": [
       "| 1h 5m                               | 5.25             | 83479           |"
      ]
     },
     "metadata": {},
     "output_type": "display_data"
    },
    {
     "data": {
      "text/html": [
       "<pre>| 1h 5m                               | 5.25             | 83480           |</pre>"
      ],
      "text/plain": [
       "| 1h 5m                               | 5.25             | 83480           |"
      ]
     },
     "metadata": {},
     "output_type": "display_data"
    },
    {
     "data": {
      "text/html": [
       "<pre>| 1h 5m                               | 5.25             | 83523           |</pre>"
      ],
      "text/plain": [
       "| 1h 5m                               | 5.25             | 83523           |"
      ]
     },
     "metadata": {},
     "output_type": "display_data"
    },
    {
     "data": {
      "text/html": [
       "<pre>| 1h 6m                               | 5.25             | 83523           |</pre>"
      ],
      "text/plain": [
       "| 1h 6m                               | 5.25             | 83523           |"
      ]
     },
     "metadata": {},
     "output_type": "display_data"
    },
    {
     "data": {
      "text/html": [
       "<pre>| 1h 6m                               | 5.25             | 83536           |</pre>"
      ],
      "text/plain": [
       "| 1h 6m                               | 5.25             | 83536           |"
      ]
     },
     "metadata": {},
     "output_type": "display_data"
    },
    {
     "data": {
      "text/html": [
       "<pre>| 1h 6m                               | 5.25             | 83536           |</pre>"
      ],
      "text/plain": [
       "| 1h 6m                               | 5.25             | 83536           |"
      ]
     },
     "metadata": {},
     "output_type": "display_data"
    },
    {
     "data": {
      "text/html": [
       "<pre>| 1h 6m                               | 5.25             | 83536           |</pre>"
      ],
      "text/plain": [
       "| 1h 6m                               | 5.25             | 83536           |"
      ]
     },
     "metadata": {},
     "output_type": "display_data"
    },
    {
     "data": {
      "text/html": [
       "<pre>| 1h 6m                               | 5.25             | 83537           |</pre>"
      ],
      "text/plain": [
       "| 1h 6m                               | 5.25             | 83537           |"
      ]
     },
     "metadata": {},
     "output_type": "display_data"
    },
    {
     "data": {
      "text/html": [
       "<pre>| 1h 6m                               | 5.25             | 83537           |</pre>"
      ],
      "text/plain": [
       "| 1h 6m                               | 5.25             | 83537           |"
      ]
     },
     "metadata": {},
     "output_type": "display_data"
    },
    {
     "data": {
      "text/html": [
       "<pre>| 1h 6m                               | 5.25             | 83537           |</pre>"
      ],
      "text/plain": [
       "| 1h 6m                               | 5.25             | 83537           |"
      ]
     },
     "metadata": {},
     "output_type": "display_data"
    },
    {
     "data": {
      "text/html": [
       "<pre>| 1h 7m                               | 5.25             | 83540           |</pre>"
      ],
      "text/plain": [
       "| 1h 7m                               | 5.25             | 83540           |"
      ]
     },
     "metadata": {},
     "output_type": "display_data"
    },
    {
     "data": {
      "text/html": [
       "<pre>| 1h 7m                               | 5.25             | 83543           |</pre>"
      ],
      "text/plain": [
       "| 1h 7m                               | 5.25             | 83543           |"
      ]
     },
     "metadata": {},
     "output_type": "display_data"
    },
    {
     "data": {
      "text/html": [
       "<pre>| 1h 7m                               | 5.25             | 83544           |</pre>"
      ],
      "text/plain": [
       "| 1h 7m                               | 5.25             | 83544           |"
      ]
     },
     "metadata": {},
     "output_type": "display_data"
    },
    {
     "data": {
      "text/html": [
       "<pre>| 1h 7m                               | 5.25             | 83545           |</pre>"
      ],
      "text/plain": [
       "| 1h 7m                               | 5.25             | 83545           |"
      ]
     },
     "metadata": {},
     "output_type": "display_data"
    },
    {
     "data": {
      "text/html": [
       "<pre>| 1h 7m                               | 5.25             | 83555           |</pre>"
      ],
      "text/plain": [
       "| 1h 7m                               | 5.25             | 83555           |"
      ]
     },
     "metadata": {},
     "output_type": "display_data"
    },
    {
     "data": {
      "text/html": [
       "<pre>| 1h 7m                               | 5.25             | 83558           |</pre>"
      ],
      "text/plain": [
       "| 1h 7m                               | 5.25             | 83558           |"
      ]
     },
     "metadata": {},
     "output_type": "display_data"
    },
    {
     "data": {
      "text/html": [
       "<pre>| 1h 7m                               | 5.25             | 83558           |</pre>"
      ],
      "text/plain": [
       "| 1h 7m                               | 5.25             | 83558           |"
      ]
     },
     "metadata": {},
     "output_type": "display_data"
    },
    {
     "data": {
      "text/html": [
       "<pre>| 1h 7m                               | 5.25             | 83559           |</pre>"
      ],
      "text/plain": [
       "| 1h 7m                               | 5.25             | 83559           |"
      ]
     },
     "metadata": {},
     "output_type": "display_data"
    },
    {
     "data": {
      "text/html": [
       "<pre>| 1h 7m                               | 5.25             | 83560           |</pre>"
      ],
      "text/plain": [
       "| 1h 7m                               | 5.25             | 83560           |"
      ]
     },
     "metadata": {},
     "output_type": "display_data"
    },
    {
     "data": {
      "text/html": [
       "<pre>| 1h 7m                               | 5.25             | 83561           |</pre>"
      ],
      "text/plain": [
       "| 1h 7m                               | 5.25             | 83561           |"
      ]
     },
     "metadata": {},
     "output_type": "display_data"
    },
    {
     "data": {
      "text/html": [
       "<pre>| 1h 7m                               | 5.25             | 83562           |</pre>"
      ],
      "text/plain": [
       "| 1h 7m                               | 5.25             | 83562           |"
      ]
     },
     "metadata": {},
     "output_type": "display_data"
    },
    {
     "data": {
      "text/html": [
       "<pre>| 1h 7m                               | 5.25             | 83572           |</pre>"
      ],
      "text/plain": [
       "| 1h 7m                               | 5.25             | 83572           |"
      ]
     },
     "metadata": {},
     "output_type": "display_data"
    },
    {
     "data": {
      "text/html": [
       "<pre>| 1h 7m                               | 5.25             | 83572           |</pre>"
      ],
      "text/plain": [
       "| 1h 7m                               | 5.25             | 83572           |"
      ]
     },
     "metadata": {},
     "output_type": "display_data"
    },
    {
     "data": {
      "text/html": [
       "<pre>| 1h 7m                               | 5.25             | 83599           |</pre>"
      ],
      "text/plain": [
       "| 1h 7m                               | 5.25             | 83599           |"
      ]
     },
     "metadata": {},
     "output_type": "display_data"
    },
    {
     "data": {
      "text/html": [
       "<pre>| 1h 7m                               | 5.25             | 83599           |</pre>"
      ],
      "text/plain": [
       "| 1h 7m                               | 5.25             | 83599           |"
      ]
     },
     "metadata": {},
     "output_type": "display_data"
    },
    {
     "data": {
      "text/html": [
       "<pre>| 1h 8m                               | 5.25             | 83607           |</pre>"
      ],
      "text/plain": [
       "| 1h 8m                               | 5.25             | 83607           |"
      ]
     },
     "metadata": {},
     "output_type": "display_data"
    },
    {
     "data": {
      "text/html": [
       "<pre>| 1h 8m                               | 5.25             | 83608           |</pre>"
      ],
      "text/plain": [
       "| 1h 8m                               | 5.25             | 83608           |"
      ]
     },
     "metadata": {},
     "output_type": "display_data"
    },
    {
     "data": {
      "text/html": [
       "<pre>| 1h 8m                               | 5.25             | 83613           |</pre>"
      ],
      "text/plain": [
       "| 1h 8m                               | 5.25             | 83613           |"
      ]
     },
     "metadata": {},
     "output_type": "display_data"
    },
    {
     "data": {
      "text/html": [
       "<pre>| 1h 8m                               | 5.25             | 83614           |</pre>"
      ],
      "text/plain": [
       "| 1h 8m                               | 5.25             | 83614           |"
      ]
     },
     "metadata": {},
     "output_type": "display_data"
    },
    {
     "data": {
      "text/html": [
       "<pre>| 1h 8m                               | 5.25             | 83614           |</pre>"
      ],
      "text/plain": [
       "| 1h 8m                               | 5.25             | 83614           |"
      ]
     },
     "metadata": {},
     "output_type": "display_data"
    },
    {
     "data": {
      "text/html": [
       "<pre>| 1h 8m                               | 5.25             | 83614           |</pre>"
      ],
      "text/plain": [
       "| 1h 8m                               | 5.25             | 83614           |"
      ]
     },
     "metadata": {},
     "output_type": "display_data"
    },
    {
     "data": {
      "text/html": [
       "<pre>| 1h 8m                               | 5.25             | 83615           |</pre>"
      ],
      "text/plain": [
       "| 1h 8m                               | 5.25             | 83615           |"
      ]
     },
     "metadata": {},
     "output_type": "display_data"
    },
    {
     "data": {
      "text/html": [
       "<pre>| 1h 8m                               | 5.25             | 83615           |</pre>"
      ],
      "text/plain": [
       "| 1h 8m                               | 5.25             | 83615           |"
      ]
     },
     "metadata": {},
     "output_type": "display_data"
    },
    {
     "data": {
      "text/html": [
       "<pre>| 1h 8m                               | 5.25             | 83616           |</pre>"
      ],
      "text/plain": [
       "| 1h 8m                               | 5.25             | 83616           |"
      ]
     },
     "metadata": {},
     "output_type": "display_data"
    },
    {
     "data": {
      "text/html": [
       "<pre>| 1h 8m                               | 5.25             | 83616           |</pre>"
      ],
      "text/plain": [
       "| 1h 8m                               | 5.25             | 83616           |"
      ]
     },
     "metadata": {},
     "output_type": "display_data"
    },
    {
     "data": {
      "text/html": [
       "<pre>| 1h 8m                               | 5.25             | 83616           |</pre>"
      ],
      "text/plain": [
       "| 1h 8m                               | 5.25             | 83616           |"
      ]
     },
     "metadata": {},
     "output_type": "display_data"
    },
    {
     "data": {
      "text/html": [
       "<pre>| 1h 8m                               | 5.25             | 83616           |</pre>"
      ],
      "text/plain": [
       "| 1h 8m                               | 5.25             | 83616           |"
      ]
     },
     "metadata": {},
     "output_type": "display_data"
    },
    {
     "data": {
      "text/html": [
       "<pre>| 1h 9m                               | 5.25             | 83620           |</pre>"
      ],
      "text/plain": [
       "| 1h 9m                               | 5.25             | 83620           |"
      ]
     },
     "metadata": {},
     "output_type": "display_data"
    },
    {
     "data": {
      "text/html": [
       "<pre>| 1h 9m                               | 5.25             | 83622           |</pre>"
      ],
      "text/plain": [
       "| 1h 9m                               | 5.25             | 83622           |"
      ]
     },
     "metadata": {},
     "output_type": "display_data"
    },
    {
     "data": {
      "text/html": [
       "<pre>| 1h 9m                               | 5.25             | 83622           |</pre>"
      ],
      "text/plain": [
       "| 1h 9m                               | 5.25             | 83622           |"
      ]
     },
     "metadata": {},
     "output_type": "display_data"
    },
    {
     "data": {
      "text/html": [
       "<pre>| 1h 9m                               | 5.25             | 83631           |</pre>"
      ],
      "text/plain": [
       "| 1h 9m                               | 5.25             | 83631           |"
      ]
     },
     "metadata": {},
     "output_type": "display_data"
    },
    {
     "data": {
      "text/html": [
       "<pre>| 1h 9m                               | 5.25             | 83632           |</pre>"
      ],
      "text/plain": [
       "| 1h 9m                               | 5.25             | 83632           |"
      ]
     },
     "metadata": {},
     "output_type": "display_data"
    },
    {
     "data": {
      "text/html": [
       "<pre>| 1h 9m                               | 5.25             | 83635           |</pre>"
      ],
      "text/plain": [
       "| 1h 9m                               | 5.25             | 83635           |"
      ]
     },
     "metadata": {},
     "output_type": "display_data"
    },
    {
     "data": {
      "text/html": [
       "<pre>| 1h 9m                               | 5.25             | 83635           |</pre>"
      ],
      "text/plain": [
       "| 1h 9m                               | 5.25             | 83635           |"
      ]
     },
     "metadata": {},
     "output_type": "display_data"
    },
    {
     "data": {
      "text/html": [
       "<pre>| 1h 9m                               | 5.25             | 83637           |</pre>"
      ],
      "text/plain": [
       "| 1h 9m                               | 5.25             | 83637           |"
      ]
     },
     "metadata": {},
     "output_type": "display_data"
    },
    {
     "data": {
      "text/html": [
       "<pre>| 1h 9m                               | 5.25             | 83637           |</pre>"
      ],
      "text/plain": [
       "| 1h 9m                               | 5.25             | 83637           |"
      ]
     },
     "metadata": {},
     "output_type": "display_data"
    },
    {
     "data": {
      "text/html": [
       "<pre>| 1h 9m                               | 5.25             | 83638           |</pre>"
      ],
      "text/plain": [
       "| 1h 9m                               | 5.25             | 83638           |"
      ]
     },
     "metadata": {},
     "output_type": "display_data"
    },
    {
     "data": {
      "text/html": [
       "<pre>| 1h 9m                               | 5.25             | 83650           |</pre>"
      ],
      "text/plain": [
       "| 1h 9m                               | 5.25             | 83650           |"
      ]
     },
     "metadata": {},
     "output_type": "display_data"
    },
    {
     "data": {
      "text/html": [
       "<pre>| 1h 9m                               | 5.25             | 83651           |</pre>"
      ],
      "text/plain": [
       "| 1h 9m                               | 5.25             | 83651           |"
      ]
     },
     "metadata": {},
     "output_type": "display_data"
    },
    {
     "data": {
      "text/html": [
       "<pre>| 1h 9m                               | 5.25             | 83656           |</pre>"
      ],
      "text/plain": [
       "| 1h 9m                               | 5.25             | 83656           |"
      ]
     },
     "metadata": {},
     "output_type": "display_data"
    },
    {
     "data": {
      "text/html": [
       "<pre>| 1h 9m                               | 5.25             | 83661           |</pre>"
      ],
      "text/plain": [
       "| 1h 9m                               | 5.25             | 83661           |"
      ]
     },
     "metadata": {},
     "output_type": "display_data"
    },
    {
     "data": {
      "text/html": [
       "<pre>| 1h 9m                               | 5.25             | 83662           |</pre>"
      ],
      "text/plain": [
       "| 1h 9m                               | 5.25             | 83662           |"
      ]
     },
     "metadata": {},
     "output_type": "display_data"
    },
    {
     "data": {
      "text/html": [
       "<pre>| 1h 9m                               | 5.25             | 83693           |</pre>"
      ],
      "text/plain": [
       "| 1h 9m                               | 5.25             | 83693           |"
      ]
     },
     "metadata": {},
     "output_type": "display_data"
    },
    {
     "data": {
      "text/html": [
       "<pre>| 1h 9m                               | 5.25             | 83693           |</pre>"
      ],
      "text/plain": [
       "| 1h 9m                               | 5.25             | 83693           |"
      ]
     },
     "metadata": {},
     "output_type": "display_data"
    },
    {
     "data": {
      "text/html": [
       "<pre>| 1h 9m                               | 5.25             | 83696           |</pre>"
      ],
      "text/plain": [
       "| 1h 9m                               | 5.25             | 83696           |"
      ]
     },
     "metadata": {},
     "output_type": "display_data"
    },
    {
     "data": {
      "text/html": [
       "<pre>| 1h 9m                               | 5.25             | 83696           |</pre>"
      ],
      "text/plain": [
       "| 1h 9m                               | 5.25             | 83696           |"
      ]
     },
     "metadata": {},
     "output_type": "display_data"
    },
    {
     "data": {
      "text/html": [
       "<pre>| 1h 9m                               | 5.25             | 83698           |</pre>"
      ],
      "text/plain": [
       "| 1h 9m                               | 5.25             | 83698           |"
      ]
     },
     "metadata": {},
     "output_type": "display_data"
    },
    {
     "data": {
      "text/html": [
       "<pre>| 1h 9m                               | 5.25             | 83698           |</pre>"
      ],
      "text/plain": [
       "| 1h 9m                               | 5.25             | 83698           |"
      ]
     },
     "metadata": {},
     "output_type": "display_data"
    },
    {
     "data": {
      "text/html": [
       "<pre>| 1h 9m                               | 5.25             | 83699           |</pre>"
      ],
      "text/plain": [
       "| 1h 9m                               | 5.25             | 83699           |"
      ]
     },
     "metadata": {},
     "output_type": "display_data"
    },
    {
     "data": {
      "text/html": [
       "<pre>| 1h 9m                               | 5.25             | 83699           |</pre>"
      ],
      "text/plain": [
       "| 1h 9m                               | 5.25             | 83699           |"
      ]
     },
     "metadata": {},
     "output_type": "display_data"
    },
    {
     "data": {
      "text/html": [
       "<pre>| 1h 9m                               | 5.25             | 83700           |</pre>"
      ],
      "text/plain": [
       "| 1h 9m                               | 5.25             | 83700           |"
      ]
     },
     "metadata": {},
     "output_type": "display_data"
    },
    {
     "data": {
      "text/html": [
       "<pre>| 1h 9m                               | 5.25             | 83701           |</pre>"
      ],
      "text/plain": [
       "| 1h 9m                               | 5.25             | 83701           |"
      ]
     },
     "metadata": {},
     "output_type": "display_data"
    },
    {
     "data": {
      "text/html": [
       "<pre>| 1h 9m                               | 5.25             | 83703           |</pre>"
      ],
      "text/plain": [
       "| 1h 9m                               | 5.25             | 83703           |"
      ]
     },
     "metadata": {},
     "output_type": "display_data"
    },
    {
     "data": {
      "text/html": [
       "<pre>| 1h 9m                               | 5.25             | 83707           |</pre>"
      ],
      "text/plain": [
       "| 1h 9m                               | 5.25             | 83707           |"
      ]
     },
     "metadata": {},
     "output_type": "display_data"
    },
    {
     "data": {
      "text/html": [
       "<pre>| 1h 10m                              | 5.25             | 83709           |</pre>"
      ],
      "text/plain": [
       "| 1h 10m                              | 5.25             | 83709           |"
      ]
     },
     "metadata": {},
     "output_type": "display_data"
    },
    {
     "data": {
      "text/html": [
       "<pre>| 1h 10m                              | 5.25             | 83709           |</pre>"
      ],
      "text/plain": [
       "| 1h 10m                              | 5.25             | 83709           |"
      ]
     },
     "metadata": {},
     "output_type": "display_data"
    },
    {
     "data": {
      "text/html": [
       "<pre>| 1h 10m                              | 5.25             | 83720           |</pre>"
      ],
      "text/plain": [
       "| 1h 10m                              | 5.25             | 83720           |"
      ]
     },
     "metadata": {},
     "output_type": "display_data"
    },
    {
     "data": {
      "text/html": [
       "<pre>| 1h 10m                              | 5.25             | 83721           |</pre>"
      ],
      "text/plain": [
       "| 1h 10m                              | 5.25             | 83721           |"
      ]
     },
     "metadata": {},
     "output_type": "display_data"
    },
    {
     "data": {
      "text/html": [
       "<pre>| 1h 10m                              | 5.25             | 83722           |</pre>"
      ],
      "text/plain": [
       "| 1h 10m                              | 5.25             | 83722           |"
      ]
     },
     "metadata": {},
     "output_type": "display_data"
    },
    {
     "data": {
      "text/html": [
       "<pre>| 1h 10m                              | 5.25             | 83733           |</pre>"
      ],
      "text/plain": [
       "| 1h 10m                              | 5.25             | 83733           |"
      ]
     },
     "metadata": {},
     "output_type": "display_data"
    },
    {
     "data": {
      "text/html": [
       "<pre>| 1h 10m                              | 5.25             | 83733           |</pre>"
      ],
      "text/plain": [
       "| 1h 10m                              | 5.25             | 83733           |"
      ]
     },
     "metadata": {},
     "output_type": "display_data"
    },
    {
     "data": {
      "text/html": [
       "<pre>| 1h 10m                              | 5.25             | 83736           |</pre>"
      ],
      "text/plain": [
       "| 1h 10m                              | 5.25             | 83736           |"
      ]
     },
     "metadata": {},
     "output_type": "display_data"
    },
    {
     "data": {
      "text/html": [
       "<pre>| 1h 10m                              | 5.25             | 83736           |</pre>"
      ],
      "text/plain": [
       "| 1h 10m                              | 5.25             | 83736           |"
      ]
     },
     "metadata": {},
     "output_type": "display_data"
    },
    {
     "data": {
      "text/html": [
       "<pre>| 1h 10m                              | 5.25             | 83737           |</pre>"
      ],
      "text/plain": [
       "| 1h 10m                              | 5.25             | 83737           |"
      ]
     },
     "metadata": {},
     "output_type": "display_data"
    },
    {
     "data": {
      "text/html": [
       "<pre>| 1h 10m                              | 5.25             | 83739           |</pre>"
      ],
      "text/plain": [
       "| 1h 10m                              | 5.25             | 83739           |"
      ]
     },
     "metadata": {},
     "output_type": "display_data"
    },
    {
     "data": {
      "text/html": [
       "<pre>| 1h 10m                              | 5.25             | 83740           |</pre>"
      ],
      "text/plain": [
       "| 1h 10m                              | 5.25             | 83740           |"
      ]
     },
     "metadata": {},
     "output_type": "display_data"
    },
    {
     "data": {
      "text/html": [
       "<pre>| 1h 10m                              | 5.25             | 83740           |</pre>"
      ],
      "text/plain": [
       "| 1h 10m                              | 5.25             | 83740           |"
      ]
     },
     "metadata": {},
     "output_type": "display_data"
    },
    {
     "data": {
      "text/html": [
       "<pre>| 1h 10m                              | 5.25             | 83741           |</pre>"
      ],
      "text/plain": [
       "| 1h 10m                              | 5.25             | 83741           |"
      ]
     },
     "metadata": {},
     "output_type": "display_data"
    },
    {
     "data": {
      "text/html": [
       "<pre>| 1h 10m                              | 5.25             | 83741           |</pre>"
      ],
      "text/plain": [
       "| 1h 10m                              | 5.25             | 83741           |"
      ]
     },
     "metadata": {},
     "output_type": "display_data"
    },
    {
     "data": {
      "text/html": [
       "<pre>| 1h 10m                              | 5.25             | 83742           |</pre>"
      ],
      "text/plain": [
       "| 1h 10m                              | 5.25             | 83742           |"
      ]
     },
     "metadata": {},
     "output_type": "display_data"
    },
    {
     "data": {
      "text/html": [
       "<pre>| 1h 10m                              | 5.25             | 83752           |</pre>"
      ],
      "text/plain": [
       "| 1h 10m                              | 5.25             | 83752           |"
      ]
     },
     "metadata": {},
     "output_type": "display_data"
    },
    {
     "data": {
      "text/html": [
       "<pre>| 1h 10m                              | 5.25             | 83752           |</pre>"
      ],
      "text/plain": [
       "| 1h 10m                              | 5.25             | 83752           |"
      ]
     },
     "metadata": {},
     "output_type": "display_data"
    },
    {
     "data": {
      "text/html": [
       "<pre>| 1h 10m                              | 5.25             | 83752           |</pre>"
      ],
      "text/plain": [
       "| 1h 10m                              | 5.25             | 83752           |"
      ]
     },
     "metadata": {},
     "output_type": "display_data"
    },
    {
     "data": {
      "text/html": [
       "<pre>| 1h 10m                              | 5.25             | 83753           |</pre>"
      ],
      "text/plain": [
       "| 1h 10m                              | 5.25             | 83753           |"
      ]
     },
     "metadata": {},
     "output_type": "display_data"
    },
    {
     "data": {
      "text/html": [
       "<pre>| 1h 10m                              | 5.25             | 83754           |</pre>"
      ],
      "text/plain": [
       "| 1h 10m                              | 5.25             | 83754           |"
      ]
     },
     "metadata": {},
     "output_type": "display_data"
    },
    {
     "data": {
      "text/html": [
       "<pre>| 1h 10m                              | 5.25             | 83764           |</pre>"
      ],
      "text/plain": [
       "| 1h 10m                              | 5.25             | 83764           |"
      ]
     },
     "metadata": {},
     "output_type": "display_data"
    },
    {
     "data": {
      "text/html": [
       "<pre>| 1h 10m                              | 5.25             | 83764           |</pre>"
      ],
      "text/plain": [
       "| 1h 10m                              | 5.25             | 83764           |"
      ]
     },
     "metadata": {},
     "output_type": "display_data"
    },
    {
     "data": {
      "text/html": [
       "<pre>| 1h 10m                              | 5.25             | 83764           |</pre>"
      ],
      "text/plain": [
       "| 1h 10m                              | 5.25             | 83764           |"
      ]
     },
     "metadata": {},
     "output_type": "display_data"
    },
    {
     "data": {
      "text/html": [
       "<pre>| 1h 11m                              | 5.25             | 83772           |</pre>"
      ],
      "text/plain": [
       "| 1h 11m                              | 5.25             | 83772           |"
      ]
     },
     "metadata": {},
     "output_type": "display_data"
    },
    {
     "data": {
      "text/html": [
       "<pre>| 1h 11m                              | 5.25             | 83772           |</pre>"
      ],
      "text/plain": [
       "| 1h 11m                              | 5.25             | 83772           |"
      ]
     },
     "metadata": {},
     "output_type": "display_data"
    },
    {
     "data": {
      "text/html": [
       "<pre>| 1h 11m                              | 5.25             | 83775           |</pre>"
      ],
      "text/plain": [
       "| 1h 11m                              | 5.25             | 83775           |"
      ]
     },
     "metadata": {},
     "output_type": "display_data"
    },
    {
     "data": {
      "text/html": [
       "<pre>| 1h 11m                              | 5.25             | 83777           |</pre>"
      ],
      "text/plain": [
       "| 1h 11m                              | 5.25             | 83777           |"
      ]
     },
     "metadata": {},
     "output_type": "display_data"
    },
    {
     "data": {
      "text/html": [
       "<pre>| 1h 11m                              | 5.25             | 83777           |</pre>"
      ],
      "text/plain": [
       "| 1h 11m                              | 5.25             | 83777           |"
      ]
     },
     "metadata": {},
     "output_type": "display_data"
    },
    {
     "data": {
      "text/html": [
       "<pre>| 1h 11m                              | 5.25             | 83781           |</pre>"
      ],
      "text/plain": [
       "| 1h 11m                              | 5.25             | 83781           |"
      ]
     },
     "metadata": {},
     "output_type": "display_data"
    },
    {
     "data": {
      "text/html": [
       "<pre>| 1h 11m                              | 5.25             | 83785           |</pre>"
      ],
      "text/plain": [
       "| 1h 11m                              | 5.25             | 83785           |"
      ]
     },
     "metadata": {},
     "output_type": "display_data"
    },
    {
     "data": {
      "text/html": [
       "<pre>| 1h 11m                              | 5.25             | 83789           |</pre>"
      ],
      "text/plain": [
       "| 1h 11m                              | 5.25             | 83789           |"
      ]
     },
     "metadata": {},
     "output_type": "display_data"
    },
    {
     "data": {
      "text/html": [
       "<pre>| 1h 11m                              | 5.25             | 83789           |</pre>"
      ],
      "text/plain": [
       "| 1h 11m                              | 5.25             | 83789           |"
      ]
     },
     "metadata": {},
     "output_type": "display_data"
    },
    {
     "data": {
      "text/html": [
       "<pre>| 1h 11m                              | 5.25             | 83790           |</pre>"
      ],
      "text/plain": [
       "| 1h 11m                              | 5.25             | 83790           |"
      ]
     },
     "metadata": {},
     "output_type": "display_data"
    },
    {
     "data": {
      "text/html": [
       "<pre>| 1h 11m                              | 5.25             | 83792           |</pre>"
      ],
      "text/plain": [
       "| 1h 11m                              | 5.25             | 83792           |"
      ]
     },
     "metadata": {},
     "output_type": "display_data"
    },
    {
     "data": {
      "text/html": [
       "<pre>| 1h 11m                              | 5.25             | 83795           |</pre>"
      ],
      "text/plain": [
       "| 1h 11m                              | 5.25             | 83795           |"
      ]
     },
     "metadata": {},
     "output_type": "display_data"
    },
    {
     "data": {
      "text/html": [
       "<pre>| 1h 11m                              | 5.25             | 83850           |</pre>"
      ],
      "text/plain": [
       "| 1h 11m                              | 5.25             | 83850           |"
      ]
     },
     "metadata": {},
     "output_type": "display_data"
    },
    {
     "data": {
      "text/html": [
       "<pre>| 1h 11m                              | 5.25             | 83854           |</pre>"
      ],
      "text/plain": [
       "| 1h 11m                              | 5.25             | 83854           |"
      ]
     },
     "metadata": {},
     "output_type": "display_data"
    },
    {
     "data": {
      "text/html": [
       "<pre>| 1h 11m                              | 5.25             | 83863           |</pre>"
      ],
      "text/plain": [
       "| 1h 11m                              | 5.25             | 83863           |"
      ]
     },
     "metadata": {},
     "output_type": "display_data"
    },
    {
     "data": {
      "text/html": [
       "<pre>| 1h 11m                              | 5.25             | 83863           |</pre>"
      ],
      "text/plain": [
       "| 1h 11m                              | 5.25             | 83863           |"
      ]
     },
     "metadata": {},
     "output_type": "display_data"
    },
    {
     "data": {
      "text/html": [
       "<pre>| 1h 11m                              | 5.25             | 83895           |</pre>"
      ],
      "text/plain": [
       "| 1h 11m                              | 5.25             | 83895           |"
      ]
     },
     "metadata": {},
     "output_type": "display_data"
    },
    {
     "data": {
      "text/html": [
       "<pre>| 1h 11m                              | 5.25             | 83895           |</pre>"
      ],
      "text/plain": [
       "| 1h 11m                              | 5.25             | 83895           |"
      ]
     },
     "metadata": {},
     "output_type": "display_data"
    },
    {
     "data": {
      "text/html": [
       "<pre>| 1h 11m                              | 5.25             | 83897           |</pre>"
      ],
      "text/plain": [
       "| 1h 11m                              | 5.25             | 83897           |"
      ]
     },
     "metadata": {},
     "output_type": "display_data"
    },
    {
     "data": {
      "text/html": [
       "<pre>| 1h 11m                              | 5.25             | 83897           |</pre>"
      ],
      "text/plain": [
       "| 1h 11m                              | 5.25             | 83897           |"
      ]
     },
     "metadata": {},
     "output_type": "display_data"
    },
    {
     "data": {
      "text/html": [
       "<pre>| 1h 11m                              | 5.25             | 84006           |</pre>"
      ],
      "text/plain": [
       "| 1h 11m                              | 5.25             | 84006           |"
      ]
     },
     "metadata": {},
     "output_type": "display_data"
    },
    {
     "data": {
      "text/html": [
       "<pre>| 1h 12m                              | 5.25             | 84007           |</pre>"
      ],
      "text/plain": [
       "| 1h 12m                              | 5.25             | 84007           |"
      ]
     },
     "metadata": {},
     "output_type": "display_data"
    },
    {
     "data": {
      "text/html": [
       "<pre>| 1h 12m                              | 5.25             | 84010           |</pre>"
      ],
      "text/plain": [
       "| 1h 12m                              | 5.25             | 84010           |"
      ]
     },
     "metadata": {},
     "output_type": "display_data"
    },
    {
     "data": {
      "text/html": [
       "<pre>| 1h 12m                              | 5.25             | 84075           |</pre>"
      ],
      "text/plain": [
       "| 1h 12m                              | 5.25             | 84075           |"
      ]
     },
     "metadata": {},
     "output_type": "display_data"
    },
    {
     "data": {
      "text/html": [
       "<pre>| 1h 13m                              | 5.25             | 84077           |</pre>"
      ],
      "text/plain": [
       "| 1h 13m                              | 5.25             | 84077           |"
      ]
     },
     "metadata": {},
     "output_type": "display_data"
    },
    {
     "data": {
      "text/html": [
       "<pre>| 1h 13m                              | 5.25             | 84078           |</pre>"
      ],
      "text/plain": [
       "| 1h 13m                              | 5.25             | 84078           |"
      ]
     },
     "metadata": {},
     "output_type": "display_data"
    },
    {
     "data": {
      "text/html": [
       "<pre>| 1h 14m                              | 5.25             | 84078           |</pre>"
      ],
      "text/plain": [
       "| 1h 14m                              | 5.25             | 84078           |"
      ]
     },
     "metadata": {},
     "output_type": "display_data"
    },
    {
     "data": {
      "text/html": [
       "<pre>| 1h 14m                              | 5.25             | 84080           |</pre>"
      ],
      "text/plain": [
       "| 1h 14m                              | 5.25             | 84080           |"
      ]
     },
     "metadata": {},
     "output_type": "display_data"
    },
    {
     "data": {
      "text/html": [
       "<pre>| 1h 14m                              | 5.25             | 84177           |</pre>"
      ],
      "text/plain": [
       "| 1h 14m                              | 5.25             | 84177           |"
      ]
     },
     "metadata": {},
     "output_type": "display_data"
    },
    {
     "data": {
      "text/html": [
       "<pre>| 1h 14m                              | 5.25             | 84178           |</pre>"
      ],
      "text/plain": [
       "| 1h 14m                              | 5.25             | 84178           |"
      ]
     },
     "metadata": {},
     "output_type": "display_data"
    },
    {
     "data": {
      "text/html": [
       "<pre>| 1h 14m                              | 5.25             | 84179           |</pre>"
      ],
      "text/plain": [
       "| 1h 14m                              | 5.25             | 84179           |"
      ]
     },
     "metadata": {},
     "output_type": "display_data"
    },
    {
     "data": {
      "text/html": [
       "<pre>| 1h 14m                              | 5.25             | 84179           |</pre>"
      ],
      "text/plain": [
       "| 1h 14m                              | 5.25             | 84179           |"
      ]
     },
     "metadata": {},
     "output_type": "display_data"
    },
    {
     "data": {
      "text/html": [
       "<pre>| 1h 15m                              | 5.25             | 84208           |</pre>"
      ],
      "text/plain": [
       "| 1h 15m                              | 5.25             | 84208           |"
      ]
     },
     "metadata": {},
     "output_type": "display_data"
    },
    {
     "data": {
      "text/html": [
       "<pre>| 1h 16m                              | 5.25             | 84209           |</pre>"
      ],
      "text/plain": [
       "| 1h 16m                              | 5.25             | 84209           |"
      ]
     },
     "metadata": {},
     "output_type": "display_data"
    },
    {
     "data": {
      "text/html": [
       "<pre>| 1h 16m                              | 5.25             | 84213           |</pre>"
      ],
      "text/plain": [
       "| 1h 16m                              | 5.25             | 84213           |"
      ]
     },
     "metadata": {},
     "output_type": "display_data"
    },
    {
     "data": {
      "text/html": [
       "<pre>| 1h 16m                              | 5.25             | 84213           |</pre>"
      ],
      "text/plain": [
       "| 1h 16m                              | 5.25             | 84213           |"
      ]
     },
     "metadata": {},
     "output_type": "display_data"
    },
    {
     "data": {
      "text/html": [
       "<pre>| 1h 16m                              | 5.25             | 84221           |</pre>"
      ],
      "text/plain": [
       "| 1h 16m                              | 5.25             | 84221           |"
      ]
     },
     "metadata": {},
     "output_type": "display_data"
    },
    {
     "data": {
      "text/html": [
       "<pre>| 1h 17m                              | 5.25             | 84228           |</pre>"
      ],
      "text/plain": [
       "| 1h 17m                              | 5.25             | 84228           |"
      ]
     },
     "metadata": {},
     "output_type": "display_data"
    },
    {
     "data": {
      "text/html": [
       "<pre>| 1h 17m                              | 5.25             | 84230           |</pre>"
      ],
      "text/plain": [
       "| 1h 17m                              | 5.25             | 84230           |"
      ]
     },
     "metadata": {},
     "output_type": "display_data"
    },
    {
     "data": {
      "text/html": [
       "<pre>| 1h 17m                              | 5.25             | 84230           |</pre>"
      ],
      "text/plain": [
       "| 1h 17m                              | 5.25             | 84230           |"
      ]
     },
     "metadata": {},
     "output_type": "display_data"
    },
    {
     "data": {
      "text/html": [
       "<pre>| 1h 17m                              | 5.25             | 84236           |</pre>"
      ],
      "text/plain": [
       "| 1h 17m                              | 5.25             | 84236           |"
      ]
     },
     "metadata": {},
     "output_type": "display_data"
    },
    {
     "data": {
      "text/html": [
       "<pre>| 1h 17m                              | 5.25             | 84248           |</pre>"
      ],
      "text/plain": [
       "| 1h 17m                              | 5.25             | 84248           |"
      ]
     },
     "metadata": {},
     "output_type": "display_data"
    },
    {
     "data": {
      "text/html": [
       "<pre>| 1h 17m                              | 5.25             | 84249           |</pre>"
      ],
      "text/plain": [
       "| 1h 17m                              | 5.25             | 84249           |"
      ]
     },
     "metadata": {},
     "output_type": "display_data"
    },
    {
     "data": {
      "text/html": [
       "<pre>| 1h 17m                              | 5.25             | 84251           |</pre>"
      ],
      "text/plain": [
       "| 1h 17m                              | 5.25             | 84251           |"
      ]
     },
     "metadata": {},
     "output_type": "display_data"
    },
    {
     "data": {
      "text/html": [
       "<pre>| 1h 17m                              | 5.25             | 84252           |</pre>"
      ],
      "text/plain": [
       "| 1h 17m                              | 5.25             | 84252           |"
      ]
     },
     "metadata": {},
     "output_type": "display_data"
    },
    {
     "data": {
      "text/html": [
       "<pre>| 1h 17m                              | 5.25             | 84255           |</pre>"
      ],
      "text/plain": [
       "| 1h 17m                              | 5.25             | 84255           |"
      ]
     },
     "metadata": {},
     "output_type": "display_data"
    },
    {
     "data": {
      "text/html": [
       "<pre>| 1h 17m                              | 5.25             | 84255           |</pre>"
      ],
      "text/plain": [
       "| 1h 17m                              | 5.25             | 84255           |"
      ]
     },
     "metadata": {},
     "output_type": "display_data"
    },
    {
     "data": {
      "text/html": [
       "<pre>| 1h 17m                              | 5.25             | 84285           |</pre>"
      ],
      "text/plain": [
       "| 1h 17m                              | 5.25             | 84285           |"
      ]
     },
     "metadata": {},
     "output_type": "display_data"
    },
    {
     "data": {
      "text/html": [
       "<pre>| 1h 17m                              | 5.25             | 84286           |</pre>"
      ],
      "text/plain": [
       "| 1h 17m                              | 5.25             | 84286           |"
      ]
     },
     "metadata": {},
     "output_type": "display_data"
    },
    {
     "data": {
      "text/html": [
       "<pre>| 1h 17m                              | 5.25             | 84286           |</pre>"
      ],
      "text/plain": [
       "| 1h 17m                              | 5.25             | 84286           |"
      ]
     },
     "metadata": {},
     "output_type": "display_data"
    },
    {
     "data": {
      "text/html": [
       "<pre>| 1h 17m                              | 5.25             | 84286           |</pre>"
      ],
      "text/plain": [
       "| 1h 17m                              | 5.25             | 84286           |"
      ]
     },
     "metadata": {},
     "output_type": "display_data"
    },
    {
     "data": {
      "text/html": [
       "<pre>| 1h 17m                              | 5.25             | 84287           |</pre>"
      ],
      "text/plain": [
       "| 1h 17m                              | 5.25             | 84287           |"
      ]
     },
     "metadata": {},
     "output_type": "display_data"
    },
    {
     "data": {
      "text/html": [
       "<pre>| 1h 17m                              | 5.25             | 84287           |</pre>"
      ],
      "text/plain": [
       "| 1h 17m                              | 5.25             | 84287           |"
      ]
     },
     "metadata": {},
     "output_type": "display_data"
    },
    {
     "data": {
      "text/html": [
       "<pre>| 1h 17m                              | 5.25             | 84288           |</pre>"
      ],
      "text/plain": [
       "| 1h 17m                              | 5.25             | 84288           |"
      ]
     },
     "metadata": {},
     "output_type": "display_data"
    },
    {
     "data": {
      "text/html": [
       "<pre>| 1h 17m                              | 5.25             | 84288           |</pre>"
      ],
      "text/plain": [
       "| 1h 17m                              | 5.25             | 84288           |"
      ]
     },
     "metadata": {},
     "output_type": "display_data"
    },
    {
     "data": {
      "text/html": [
       "<pre>| 1h 17m                              | 5.25             | 84289           |</pre>"
      ],
      "text/plain": [
       "| 1h 17m                              | 5.25             | 84289           |"
      ]
     },
     "metadata": {},
     "output_type": "display_data"
    },
    {
     "data": {
      "text/html": [
       "<pre>| 1h 17m                              | 5.25             | 84289           |</pre>"
      ],
      "text/plain": [
       "| 1h 17m                              | 5.25             | 84289           |"
      ]
     },
     "metadata": {},
     "output_type": "display_data"
    },
    {
     "data": {
      "text/html": [
       "<pre>| 1h 17m                              | 5.25             | 84290           |</pre>"
      ],
      "text/plain": [
       "| 1h 17m                              | 5.25             | 84290           |"
      ]
     },
     "metadata": {},
     "output_type": "display_data"
    },
    {
     "data": {
      "text/html": [
       "<pre>| 1h 17m                              | 5.25             | 84292           |</pre>"
      ],
      "text/plain": [
       "| 1h 17m                              | 5.25             | 84292           |"
      ]
     },
     "metadata": {},
     "output_type": "display_data"
    },
    {
     "data": {
      "text/html": [
       "<pre>| 1h 17m                              | 5.25             | 84292           |</pre>"
      ],
      "text/plain": [
       "| 1h 17m                              | 5.25             | 84292           |"
      ]
     },
     "metadata": {},
     "output_type": "display_data"
    },
    {
     "data": {
      "text/html": [
       "<pre>| 1h 17m                              | 5.25             | 84292           |</pre>"
      ],
      "text/plain": [
       "| 1h 17m                              | 5.25             | 84292           |"
      ]
     },
     "metadata": {},
     "output_type": "display_data"
    },
    {
     "data": {
      "text/html": [
       "<pre>| 1h 17m                              | 5.25             | 84295           |</pre>"
      ],
      "text/plain": [
       "| 1h 17m                              | 5.25             | 84295           |"
      ]
     },
     "metadata": {},
     "output_type": "display_data"
    },
    {
     "data": {
      "text/html": [
       "<pre>| 1h 18m                              | 5.25             | 84298           |</pre>"
      ],
      "text/plain": [
       "| 1h 18m                              | 5.25             | 84298           |"
      ]
     },
     "metadata": {},
     "output_type": "display_data"
    },
    {
     "data": {
      "text/html": [
       "<pre>| 1h 18m                              | 5.25             | 84322           |</pre>"
      ],
      "text/plain": [
       "| 1h 18m                              | 5.25             | 84322           |"
      ]
     },
     "metadata": {},
     "output_type": "display_data"
    },
    {
     "data": {
      "text/html": [
       "<pre>| 1h 18m                              | 5.25             | 84322           |</pre>"
      ],
      "text/plain": [
       "| 1h 18m                              | 5.25             | 84322           |"
      ]
     },
     "metadata": {},
     "output_type": "display_data"
    },
    {
     "data": {
      "text/html": [
       "<pre>| 1h 18m                              | 5.25             | 84340           |</pre>"
      ],
      "text/plain": [
       "| 1h 18m                              | 5.25             | 84340           |"
      ]
     },
     "metadata": {},
     "output_type": "display_data"
    },
    {
     "data": {
      "text/html": [
       "<pre>| 1h 19m                              | 5.25             | 84340           |</pre>"
      ],
      "text/plain": [
       "| 1h 19m                              | 5.25             | 84340           |"
      ]
     },
     "metadata": {},
     "output_type": "display_data"
    },
    {
     "data": {
      "text/html": [
       "<pre>| 1h 19m                              | 5.25             | 84342           |</pre>"
      ],
      "text/plain": [
       "| 1h 19m                              | 5.25             | 84342           |"
      ]
     },
     "metadata": {},
     "output_type": "display_data"
    },
    {
     "data": {
      "text/html": [
       "<pre>| 1h 19m                              | 5.25             | 84342           |</pre>"
      ],
      "text/plain": [
       "| 1h 19m                              | 5.25             | 84342           |"
      ]
     },
     "metadata": {},
     "output_type": "display_data"
    },
    {
     "data": {
      "text/html": [
       "<pre>| 1h 19m                              | 5.25             | 84346           |</pre>"
      ],
      "text/plain": [
       "| 1h 19m                              | 5.25             | 84346           |"
      ]
     },
     "metadata": {},
     "output_type": "display_data"
    },
    {
     "data": {
      "text/html": [
       "<pre>| 1h 19m                              | 5.25             | 84350           |</pre>"
      ],
      "text/plain": [
       "| 1h 19m                              | 5.25             | 84350           |"
      ]
     },
     "metadata": {},
     "output_type": "display_data"
    },
    {
     "data": {
      "text/html": [
       "<pre>| 1h 19m                              | 5.25             | 84359           |</pre>"
      ],
      "text/plain": [
       "| 1h 19m                              | 5.25             | 84359           |"
      ]
     },
     "metadata": {},
     "output_type": "display_data"
    },
    {
     "data": {
      "text/html": [
       "<pre>| 1h 19m                              | 5.25             | 84360           |</pre>"
      ],
      "text/plain": [
       "| 1h 19m                              | 5.25             | 84360           |"
      ]
     },
     "metadata": {},
     "output_type": "display_data"
    },
    {
     "data": {
      "text/html": [
       "<pre>| 1h 19m                              | 5.25             | 84369           |</pre>"
      ],
      "text/plain": [
       "| 1h 19m                              | 5.25             | 84369           |"
      ]
     },
     "metadata": {},
     "output_type": "display_data"
    },
    {
     "data": {
      "text/html": [
       "<pre>| 1h 19m                              | 5.25             | 84370           |</pre>"
      ],
      "text/plain": [
       "| 1h 19m                              | 5.25             | 84370           |"
      ]
     },
     "metadata": {},
     "output_type": "display_data"
    },
    {
     "data": {
      "text/html": [
       "<pre>| 1h 19m                              | 5.25             | 84371           |</pre>"
      ],
      "text/plain": [
       "| 1h 19m                              | 5.25             | 84371           |"
      ]
     },
     "metadata": {},
     "output_type": "display_data"
    },
    {
     "data": {
      "text/html": [
       "<pre>| 1h 19m                              | 5.25             | 84378           |</pre>"
      ],
      "text/plain": [
       "| 1h 19m                              | 5.25             | 84378           |"
      ]
     },
     "metadata": {},
     "output_type": "display_data"
    },
    {
     "data": {
      "text/html": [
       "<pre>| 1h 19m                              | 5.25             | 84378           |</pre>"
      ],
      "text/plain": [
       "| 1h 19m                              | 5.25             | 84378           |"
      ]
     },
     "metadata": {},
     "output_type": "display_data"
    },
    {
     "data": {
      "text/html": [
       "<pre>| 1h 20m                              | 5.25             | 84384           |</pre>"
      ],
      "text/plain": [
       "| 1h 20m                              | 5.25             | 84384           |"
      ]
     },
     "metadata": {},
     "output_type": "display_data"
    },
    {
     "data": {
      "text/html": [
       "<pre>| 1h 20m                              | 5.25             | 84384           |</pre>"
      ],
      "text/plain": [
       "| 1h 20m                              | 5.25             | 84384           |"
      ]
     },
     "metadata": {},
     "output_type": "display_data"
    },
    {
     "data": {
      "text/html": [
       "<pre>| 1h 20m                              | 5.25             | 84411           |</pre>"
      ],
      "text/plain": [
       "| 1h 20m                              | 5.25             | 84411           |"
      ]
     },
     "metadata": {},
     "output_type": "display_data"
    },
    {
     "data": {
      "text/html": [
       "<pre>| 1h 20m                              | 5.25             | 84420           |</pre>"
      ],
      "text/plain": [
       "| 1h 20m                              | 5.25             | 84420           |"
      ]
     },
     "metadata": {},
     "output_type": "display_data"
    },
    {
     "data": {
      "text/html": [
       "<pre>| 1h 20m                              | 5.25             | 84420           |</pre>"
      ],
      "text/plain": [
       "| 1h 20m                              | 5.25             | 84420           |"
      ]
     },
     "metadata": {},
     "output_type": "display_data"
    },
    {
     "data": {
      "text/html": [
       "<pre>| 1h 20m                              | 5.25             | 84422           |</pre>"
      ],
      "text/plain": [
       "| 1h 20m                              | 5.25             | 84422           |"
      ]
     },
     "metadata": {},
     "output_type": "display_data"
    },
    {
     "data": {
      "text/html": [
       "<pre>| 1h 20m                              | 5.25             | 84426           |</pre>"
      ],
      "text/plain": [
       "| 1h 20m                              | 5.25             | 84426           |"
      ]
     },
     "metadata": {},
     "output_type": "display_data"
    },
    {
     "data": {
      "text/html": [
       "<pre>| 1h 20m                              | 5.25             | 84427           |</pre>"
      ],
      "text/plain": [
       "| 1h 20m                              | 5.25             | 84427           |"
      ]
     },
     "metadata": {},
     "output_type": "display_data"
    },
    {
     "data": {
      "text/html": [
       "<pre>| 1h 20m                              | 5.25             | 84429           |</pre>"
      ],
      "text/plain": [
       "| 1h 20m                              | 5.25             | 84429           |"
      ]
     },
     "metadata": {},
     "output_type": "display_data"
    },
    {
     "data": {
      "text/html": [
       "<pre>| 1h 20m                              | 5.25             | 84431           |</pre>"
      ],
      "text/plain": [
       "| 1h 20m                              | 5.25             | 84431           |"
      ]
     },
     "metadata": {},
     "output_type": "display_data"
    },
    {
     "data": {
      "text/html": [
       "<pre>| 1h 20m                              | 5.25             | 84441           |</pre>"
      ],
      "text/plain": [
       "| 1h 20m                              | 5.25             | 84441           |"
      ]
     },
     "metadata": {},
     "output_type": "display_data"
    },
    {
     "data": {
      "text/html": [
       "<pre>| 1h 20m                              | 5.25             | 84449           |</pre>"
      ],
      "text/plain": [
       "| 1h 20m                              | 5.25             | 84449           |"
      ]
     },
     "metadata": {},
     "output_type": "display_data"
    },
    {
     "data": {
      "text/html": [
       "<pre>| 1h 20m                              | 5.25             | 84453           |</pre>"
      ],
      "text/plain": [
       "| 1h 20m                              | 5.25             | 84453           |"
      ]
     },
     "metadata": {},
     "output_type": "display_data"
    },
    {
     "data": {
      "text/html": [
       "<pre>| 1h 20m                              | 5.25             | 84454           |</pre>"
      ],
      "text/plain": [
       "| 1h 20m                              | 5.25             | 84454           |"
      ]
     },
     "metadata": {},
     "output_type": "display_data"
    },
    {
     "data": {
      "text/html": [
       "<pre>| 1h 20m                              | 5.25             | 84455           |</pre>"
      ],
      "text/plain": [
       "| 1h 20m                              | 5.25             | 84455           |"
      ]
     },
     "metadata": {},
     "output_type": "display_data"
    },
    {
     "data": {
      "text/html": [
       "<pre>| 1h 20m                              | 5.25             | 84456           |</pre>"
      ],
      "text/plain": [
       "| 1h 20m                              | 5.25             | 84456           |"
      ]
     },
     "metadata": {},
     "output_type": "display_data"
    },
    {
     "data": {
      "text/html": [
       "<pre>| 1h 20m                              | 5.25             | 84458           |</pre>"
      ],
      "text/plain": [
       "| 1h 20m                              | 5.25             | 84458           |"
      ]
     },
     "metadata": {},
     "output_type": "display_data"
    },
    {
     "data": {
      "text/html": [
       "<pre>| 1h 20m                              | 5.25             | 84460           |</pre>"
      ],
      "text/plain": [
       "| 1h 20m                              | 5.25             | 84460           |"
      ]
     },
     "metadata": {},
     "output_type": "display_data"
    },
    {
     "data": {
      "text/html": [
       "<pre>| 1h 20m                              | 5.25             | 84460           |</pre>"
      ],
      "text/plain": [
       "| 1h 20m                              | 5.25             | 84460           |"
      ]
     },
     "metadata": {},
     "output_type": "display_data"
    },
    {
     "data": {
      "text/html": [
       "<pre>| 1h 20m                              | 5.25             | 84462           |</pre>"
      ],
      "text/plain": [
       "| 1h 20m                              | 5.25             | 84462           |"
      ]
     },
     "metadata": {},
     "output_type": "display_data"
    },
    {
     "data": {
      "text/html": [
       "<pre>| 1h 20m                              | 5.25             | 84463           |</pre>"
      ],
      "text/plain": [
       "| 1h 20m                              | 5.25             | 84463           |"
      ]
     },
     "metadata": {},
     "output_type": "display_data"
    },
    {
     "data": {
      "text/html": [
       "<pre>| 1h 20m                              | 5.25             | 84471           |</pre>"
      ],
      "text/plain": [
       "| 1h 20m                              | 5.25             | 84471           |"
      ]
     },
     "metadata": {},
     "output_type": "display_data"
    },
    {
     "data": {
      "text/html": [
       "<pre>| 1h 20m                              | 5.25             | 84472           |</pre>"
      ],
      "text/plain": [
       "| 1h 20m                              | 5.25             | 84472           |"
      ]
     },
     "metadata": {},
     "output_type": "display_data"
    },
    {
     "data": {
      "text/html": [
       "<pre>| 1h 20m                              | 5.25             | 84472           |</pre>"
      ],
      "text/plain": [
       "| 1h 20m                              | 5.25             | 84472           |"
      ]
     },
     "metadata": {},
     "output_type": "display_data"
    },
    {
     "data": {
      "text/html": [
       "<pre>| 1h 20m                              | 5.25             | 84474           |</pre>"
      ],
      "text/plain": [
       "| 1h 20m                              | 5.25             | 84474           |"
      ]
     },
     "metadata": {},
     "output_type": "display_data"
    },
    {
     "data": {
      "text/html": [
       "<pre>| 1h 21m                              | 5.25             | 84478           |</pre>"
      ],
      "text/plain": [
       "| 1h 21m                              | 5.25             | 84478           |"
      ]
     },
     "metadata": {},
     "output_type": "display_data"
    },
    {
     "data": {
      "text/html": [
       "<pre>| 1h 21m                              | 5.25             | 84478           |</pre>"
      ],
      "text/plain": [
       "| 1h 21m                              | 5.25             | 84478           |"
      ]
     },
     "metadata": {},
     "output_type": "display_data"
    },
    {
     "data": {
      "text/html": [
       "<pre>| 1h 21m                              | 5.25             | 84479           |</pre>"
      ],
      "text/plain": [
       "| 1h 21m                              | 5.25             | 84479           |"
      ]
     },
     "metadata": {},
     "output_type": "display_data"
    },
    {
     "data": {
      "text/html": [
       "<pre>| 1h 21m                              | 5.25             | 84479           |</pre>"
      ],
      "text/plain": [
       "| 1h 21m                              | 5.25             | 84479           |"
      ]
     },
     "metadata": {},
     "output_type": "display_data"
    },
    {
     "data": {
      "text/html": [
       "<pre>| 1h 21m                              | 5.25             | 84490           |</pre>"
      ],
      "text/plain": [
       "| 1h 21m                              | 5.25             | 84490           |"
      ]
     },
     "metadata": {},
     "output_type": "display_data"
    },
    {
     "data": {
      "text/html": [
       "<pre>| 1h 21m                              | 5.25             | 84496           |</pre>"
      ],
      "text/plain": [
       "| 1h 21m                              | 5.25             | 84496           |"
      ]
     },
     "metadata": {},
     "output_type": "display_data"
    },
    {
     "data": {
      "text/html": [
       "<pre>| 1h 21m                              | 5.25             | 84498           |</pre>"
      ],
      "text/plain": [
       "| 1h 21m                              | 5.25             | 84498           |"
      ]
     },
     "metadata": {},
     "output_type": "display_data"
    },
    {
     "data": {
      "text/html": [
       "<pre>| 1h 21m                              | 5.25             | 84498           |</pre>"
      ],
      "text/plain": [
       "| 1h 21m                              | 5.25             | 84498           |"
      ]
     },
     "metadata": {},
     "output_type": "display_data"
    },
    {
     "data": {
      "text/html": [
       "<pre>| 1h 21m                              | 5.25             | 84498           |</pre>"
      ],
      "text/plain": [
       "| 1h 21m                              | 5.25             | 84498           |"
      ]
     },
     "metadata": {},
     "output_type": "display_data"
    },
    {
     "data": {
      "text/html": [
       "<pre>| 1h 21m                              | 5.25             | 84519           |</pre>"
      ],
      "text/plain": [
       "| 1h 21m                              | 5.25             | 84519           |"
      ]
     },
     "metadata": {},
     "output_type": "display_data"
    },
    {
     "data": {
      "text/html": [
       "<pre>| 1h 21m                              | 5.25             | 84520           |</pre>"
      ],
      "text/plain": [
       "| 1h 21m                              | 5.25             | 84520           |"
      ]
     },
     "metadata": {},
     "output_type": "display_data"
    },
    {
     "data": {
      "text/html": [
       "<pre>| 1h 21m                              | 5.25             | 84520           |</pre>"
      ],
      "text/plain": [
       "| 1h 21m                              | 5.25             | 84520           |"
      ]
     },
     "metadata": {},
     "output_type": "display_data"
    },
    {
     "data": {
      "text/html": [
       "<pre>| 1h 21m                              | 5.25             | 84520           |</pre>"
      ],
      "text/plain": [
       "| 1h 21m                              | 5.25             | 84520           |"
      ]
     },
     "metadata": {},
     "output_type": "display_data"
    },
    {
     "data": {
      "text/html": [
       "<pre>| 1h 21m                              | 5.25             | 84521           |</pre>"
      ],
      "text/plain": [
       "| 1h 21m                              | 5.25             | 84521           |"
      ]
     },
     "metadata": {},
     "output_type": "display_data"
    },
    {
     "data": {
      "text/html": [
       "<pre>| 1h 21m                              | 5.25             | 84526           |</pre>"
      ],
      "text/plain": [
       "| 1h 21m                              | 5.25             | 84526           |"
      ]
     },
     "metadata": {},
     "output_type": "display_data"
    },
    {
     "data": {
      "text/html": [
       "<pre>| 1h 21m                              | 5.25             | 84527           |</pre>"
      ],
      "text/plain": [
       "| 1h 21m                              | 5.25             | 84527           |"
      ]
     },
     "metadata": {},
     "output_type": "display_data"
    },
    {
     "data": {
      "text/html": [
       "<pre>| 1h 21m                              | 5.25             | 84527           |</pre>"
      ],
      "text/plain": [
       "| 1h 21m                              | 5.25             | 84527           |"
      ]
     },
     "metadata": {},
     "output_type": "display_data"
    },
    {
     "data": {
      "text/html": [
       "<pre>| 1h 21m                              | 5.25             | 84556           |</pre>"
      ],
      "text/plain": [
       "| 1h 21m                              | 5.25             | 84556           |"
      ]
     },
     "metadata": {},
     "output_type": "display_data"
    },
    {
     "data": {
      "text/html": [
       "<pre>| 1h 22m                              | 5.25             | 84602           |</pre>"
      ],
      "text/plain": [
       "| 1h 22m                              | 5.25             | 84602           |"
      ]
     },
     "metadata": {},
     "output_type": "display_data"
    },
    {
     "data": {
      "text/html": [
       "<pre>| 1h 22m                              | 5.25             | 84614           |</pre>"
      ],
      "text/plain": [
       "| 1h 22m                              | 5.25             | 84614           |"
      ]
     },
     "metadata": {},
     "output_type": "display_data"
    },
    {
     "data": {
      "text/html": [
       "<pre>| 1h 22m                              | 5.25             | 84615           |</pre>"
      ],
      "text/plain": [
       "| 1h 22m                              | 5.25             | 84615           |"
      ]
     },
     "metadata": {},
     "output_type": "display_data"
    },
    {
     "data": {
      "text/html": [
       "<pre>| 1h 22m                              | 5.25             | 84616           |</pre>"
      ],
      "text/plain": [
       "| 1h 22m                              | 5.25             | 84616           |"
      ]
     },
     "metadata": {},
     "output_type": "display_data"
    },
    {
     "data": {
      "text/html": [
       "<pre>| 1h 22m                              | 5.25             | 84616           |</pre>"
      ],
      "text/plain": [
       "| 1h 22m                              | 5.25             | 84616           |"
      ]
     },
     "metadata": {},
     "output_type": "display_data"
    },
    {
     "data": {
      "text/html": [
       "<pre>| 1h 22m                              | 5.25             | 84616           |</pre>"
      ],
      "text/plain": [
       "| 1h 22m                              | 5.25             | 84616           |"
      ]
     },
     "metadata": {},
     "output_type": "display_data"
    },
    {
     "data": {
      "text/html": [
       "<pre>| 1h 23m                              | 5.25             | 84624           |</pre>"
      ],
      "text/plain": [
       "| 1h 23m                              | 5.25             | 84624           |"
      ]
     },
     "metadata": {},
     "output_type": "display_data"
    },
    {
     "data": {
      "text/html": [
       "<pre>| 1h 23m                              | 5.25             | 84624           |</pre>"
      ],
      "text/plain": [
       "| 1h 23m                              | 5.25             | 84624           |"
      ]
     },
     "metadata": {},
     "output_type": "display_data"
    },
    {
     "data": {
      "text/html": [
       "<pre>| 1h 23m                              | 5.25             | 84629           |</pre>"
      ],
      "text/plain": [
       "| 1h 23m                              | 5.25             | 84629           |"
      ]
     },
     "metadata": {},
     "output_type": "display_data"
    },
    {
     "data": {
      "text/html": [
       "<pre>| 1h 23m                              | 5.25             | 84630           |</pre>"
      ],
      "text/plain": [
       "| 1h 23m                              | 5.25             | 84630           |"
      ]
     },
     "metadata": {},
     "output_type": "display_data"
    },
    {
     "data": {
      "text/html": [
       "<pre>| 1h 23m                              | 5.25             | 84632           |</pre>"
      ],
      "text/plain": [
       "| 1h 23m                              | 5.25             | 84632           |"
      ]
     },
     "metadata": {},
     "output_type": "display_data"
    },
    {
     "data": {
      "text/html": [
       "<pre>| 1h 23m                              | 5.25             | 84633           |</pre>"
      ],
      "text/plain": [
       "| 1h 23m                              | 5.25             | 84633           |"
      ]
     },
     "metadata": {},
     "output_type": "display_data"
    },
    {
     "data": {
      "text/html": [
       "<pre>| 1h 23m                              | 5.25             | 84635           |</pre>"
      ],
      "text/plain": [
       "| 1h 23m                              | 5.25             | 84635           |"
      ]
     },
     "metadata": {},
     "output_type": "display_data"
    },
    {
     "data": {
      "text/html": [
       "<pre>| 1h 23m                              | 5.25             | 84639           |</pre>"
      ],
      "text/plain": [
       "| 1h 23m                              | 5.25             | 84639           |"
      ]
     },
     "metadata": {},
     "output_type": "display_data"
    },
    {
     "data": {
      "text/html": [
       "<pre>| 1h 23m                              | 5.25             | 84639           |</pre>"
      ],
      "text/plain": [
       "| 1h 23m                              | 5.25             | 84639           |"
      ]
     },
     "metadata": {},
     "output_type": "display_data"
    },
    {
     "data": {
      "text/html": [
       "<pre>| 1h 23m                              | 5.25             | 84642           |</pre>"
      ],
      "text/plain": [
       "| 1h 23m                              | 5.25             | 84642           |"
      ]
     },
     "metadata": {},
     "output_type": "display_data"
    },
    {
     "data": {
      "text/html": [
       "<pre>| 1h 23m                              | 5.25             | 84642           |</pre>"
      ],
      "text/plain": [
       "| 1h 23m                              | 5.25             | 84642           |"
      ]
     },
     "metadata": {},
     "output_type": "display_data"
    },
    {
     "data": {
      "text/html": [
       "<pre>| 1h 23m                              | 5.25             | 84643           |</pre>"
      ],
      "text/plain": [
       "| 1h 23m                              | 5.25             | 84643           |"
      ]
     },
     "metadata": {},
     "output_type": "display_data"
    },
    {
     "data": {
      "text/html": [
       "<pre>| 1h 23m                              | 5.25             | 84644           |</pre>"
      ],
      "text/plain": [
       "| 1h 23m                              | 5.25             | 84644           |"
      ]
     },
     "metadata": {},
     "output_type": "display_data"
    },
    {
     "data": {
      "text/html": [
       "<pre>| 1h 23m                              | 5.25             | 84648           |</pre>"
      ],
      "text/plain": [
       "| 1h 23m                              | 5.25             | 84648           |"
      ]
     },
     "metadata": {},
     "output_type": "display_data"
    },
    {
     "data": {
      "text/html": [
       "<pre>| 1h 23m                              | 5.25             | 84649           |</pre>"
      ],
      "text/plain": [
       "| 1h 23m                              | 5.25             | 84649           |"
      ]
     },
     "metadata": {},
     "output_type": "display_data"
    },
    {
     "data": {
      "text/html": [
       "<pre>| 1h 23m                              | 5.25             | 84650           |</pre>"
      ],
      "text/plain": [
       "| 1h 23m                              | 5.25             | 84650           |"
      ]
     },
     "metadata": {},
     "output_type": "display_data"
    },
    {
     "data": {
      "text/html": [
       "<pre>| 1h 23m                              | 5.25             | 84650           |</pre>"
      ],
      "text/plain": [
       "| 1h 23m                              | 5.25             | 84650           |"
      ]
     },
     "metadata": {},
     "output_type": "display_data"
    },
    {
     "data": {
      "text/html": [
       "<pre>| 1h 24m                              | 5.25             | 84652           |</pre>"
      ],
      "text/plain": [
       "| 1h 24m                              | 5.25             | 84652           |"
      ]
     },
     "metadata": {},
     "output_type": "display_data"
    },
    {
     "data": {
      "text/html": [
       "<pre>| 1h 24m                              | 5.25             | 84653           |</pre>"
      ],
      "text/plain": [
       "| 1h 24m                              | 5.25             | 84653           |"
      ]
     },
     "metadata": {},
     "output_type": "display_data"
    },
    {
     "data": {
      "text/html": [
       "<pre>| 1h 24m                              | 5.25             | 84653           |</pre>"
      ],
      "text/plain": [
       "| 1h 24m                              | 5.25             | 84653           |"
      ]
     },
     "metadata": {},
     "output_type": "display_data"
    },
    {
     "data": {
      "text/html": [
       "<pre>| 1h 24m                              | 5.25             | 84662           |</pre>"
      ],
      "text/plain": [
       "| 1h 24m                              | 5.25             | 84662           |"
      ]
     },
     "metadata": {},
     "output_type": "display_data"
    },
    {
     "data": {
      "text/html": [
       "<pre>| 1h 24m                              | 5.25             | 84664           |</pre>"
      ],
      "text/plain": [
       "| 1h 24m                              | 5.25             | 84664           |"
      ]
     },
     "metadata": {},
     "output_type": "display_data"
    },
    {
     "data": {
      "text/html": [
       "<pre>| 1h 24m                              | 5.25             | 84667           |</pre>"
      ],
      "text/plain": [
       "| 1h 24m                              | 5.25             | 84667           |"
      ]
     },
     "metadata": {},
     "output_type": "display_data"
    },
    {
     "data": {
      "text/html": [
       "<pre>| 1h 24m                              | 5.25             | 84667           |</pre>"
      ],
      "text/plain": [
       "| 1h 24m                              | 5.25             | 84667           |"
      ]
     },
     "metadata": {},
     "output_type": "display_data"
    },
    {
     "data": {
      "text/html": [
       "<pre>| 1h 24m                              | 5.25             | 84671           |</pre>"
      ],
      "text/plain": [
       "| 1h 24m                              | 5.25             | 84671           |"
      ]
     },
     "metadata": {},
     "output_type": "display_data"
    },
    {
     "data": {
      "text/html": [
       "<pre>| 1h 24m                              | 5.25             | 84672           |</pre>"
      ],
      "text/plain": [
       "| 1h 24m                              | 5.25             | 84672           |"
      ]
     },
     "metadata": {},
     "output_type": "display_data"
    },
    {
     "data": {
      "text/html": [
       "<pre>| 1h 24m                              | 5.25             | 84686           |</pre>"
      ],
      "text/plain": [
       "| 1h 24m                              | 5.25             | 84686           |"
      ]
     },
     "metadata": {},
     "output_type": "display_data"
    },
    {
     "data": {
      "text/html": [
       "<pre>| 1h 24m                              | 5.25             | 84701           |</pre>"
      ],
      "text/plain": [
       "| 1h 24m                              | 5.25             | 84701           |"
      ]
     },
     "metadata": {},
     "output_type": "display_data"
    },
    {
     "data": {
      "text/html": [
       "<pre>| 1h 24m                              | 5.25             | 84712           |</pre>"
      ],
      "text/plain": [
       "| 1h 24m                              | 5.25             | 84712           |"
      ]
     },
     "metadata": {},
     "output_type": "display_data"
    },
    {
     "data": {
      "text/html": [
       "<pre>| 1h 25m                              | 5.25             | 84712           |</pre>"
      ],
      "text/plain": [
       "| 1h 25m                              | 5.25             | 84712           |"
      ]
     },
     "metadata": {},
     "output_type": "display_data"
    },
    {
     "data": {
      "text/html": [
       "<pre>| 1h 25m                              | 5.25             | 84725           |</pre>"
      ],
      "text/plain": [
       "| 1h 25m                              | 5.25             | 84725           |"
      ]
     },
     "metadata": {},
     "output_type": "display_data"
    },
    {
     "data": {
      "text/html": [
       "<pre>| 1h 25m                              | 5.25             | 84728           |</pre>"
      ],
      "text/plain": [
       "| 1h 25m                              | 5.25             | 84728           |"
      ]
     },
     "metadata": {},
     "output_type": "display_data"
    },
    {
     "data": {
      "text/html": [
       "<pre>| 1h 25m                              | 5.25             | 84732           |</pre>"
      ],
      "text/plain": [
       "| 1h 25m                              | 5.25             | 84732           |"
      ]
     },
     "metadata": {},
     "output_type": "display_data"
    },
    {
     "data": {
      "text/html": [
       "<pre>| 1h 25m                              | 5.25             | 84773           |</pre>"
      ],
      "text/plain": [
       "| 1h 25m                              | 5.25             | 84773           |"
      ]
     },
     "metadata": {},
     "output_type": "display_data"
    },
    {
     "data": {
      "text/html": [
       "<pre>| 1h 25m                              | 5.25             | 84794           |</pre>"
      ],
      "text/plain": [
       "| 1h 25m                              | 5.25             | 84794           |"
      ]
     },
     "metadata": {},
     "output_type": "display_data"
    },
    {
     "data": {
      "text/html": [
       "<pre>| 1h 25m                              | 5.25             | 84794           |</pre>"
      ],
      "text/plain": [
       "| 1h 25m                              | 5.25             | 84794           |"
      ]
     },
     "metadata": {},
     "output_type": "display_data"
    },
    {
     "data": {
      "text/html": [
       "<pre>| 1h 25m                              | 5.25             | 84795           |</pre>"
      ],
      "text/plain": [
       "| 1h 25m                              | 5.25             | 84795           |"
      ]
     },
     "metadata": {},
     "output_type": "display_data"
    },
    {
     "data": {
      "text/html": [
       "<pre>| 1h 25m                              | 5.25             | 84796           |</pre>"
      ],
      "text/plain": [
       "| 1h 25m                              | 5.25             | 84796           |"
      ]
     },
     "metadata": {},
     "output_type": "display_data"
    },
    {
     "data": {
      "text/html": [
       "<pre>| 1h 25m                              | 5.25             | 84801           |</pre>"
      ],
      "text/plain": [
       "| 1h 25m                              | 5.25             | 84801           |"
      ]
     },
     "metadata": {},
     "output_type": "display_data"
    },
    {
     "data": {
      "text/html": [
       "<pre>| 1h 25m                              | 5.25             | 84801           |</pre>"
      ],
      "text/plain": [
       "| 1h 25m                              | 5.25             | 84801           |"
      ]
     },
     "metadata": {},
     "output_type": "display_data"
    },
    {
     "data": {
      "text/html": [
       "<pre>| 1h 25m                              | 5.25             | 84805           |</pre>"
      ],
      "text/plain": [
       "| 1h 25m                              | 5.25             | 84805           |"
      ]
     },
     "metadata": {},
     "output_type": "display_data"
    },
    {
     "data": {
      "text/html": [
       "<pre>| 1h 25m                              | 5.25             | 84805           |</pre>"
      ],
      "text/plain": [
       "| 1h 25m                              | 5.25             | 84805           |"
      ]
     },
     "metadata": {},
     "output_type": "display_data"
    },
    {
     "data": {
      "text/html": [
       "<pre>| 1h 26m                              | 5.25             | 84822           |</pre>"
      ],
      "text/plain": [
       "| 1h 26m                              | 5.25             | 84822           |"
      ]
     },
     "metadata": {},
     "output_type": "display_data"
    },
    {
     "data": {
      "text/html": [
       "<pre>| 1h 26m                              | 5.25             | 84852           |</pre>"
      ],
      "text/plain": [
       "| 1h 26m                              | 5.25             | 84852           |"
      ]
     },
     "metadata": {},
     "output_type": "display_data"
    },
    {
     "data": {
      "text/html": [
       "<pre>| 1h 26m                              | 5.25             | 84854           |</pre>"
      ],
      "text/plain": [
       "| 1h 26m                              | 5.25             | 84854           |"
      ]
     },
     "metadata": {},
     "output_type": "display_data"
    },
    {
     "data": {
      "text/html": [
       "<pre>| 1h 26m                              | 5.25             | 84869           |</pre>"
      ],
      "text/plain": [
       "| 1h 26m                              | 5.25             | 84869           |"
      ]
     },
     "metadata": {},
     "output_type": "display_data"
    },
    {
     "data": {
      "text/html": [
       "<pre>| 1h 26m                              | 5.25             | 84869           |</pre>"
      ],
      "text/plain": [
       "| 1h 26m                              | 5.25             | 84869           |"
      ]
     },
     "metadata": {},
     "output_type": "display_data"
    },
    {
     "data": {
      "text/html": [
       "<pre>| 1h 26m                              | 5.25             | 84870           |</pre>"
      ],
      "text/plain": [
       "| 1h 26m                              | 5.25             | 84870           |"
      ]
     },
     "metadata": {},
     "output_type": "display_data"
    },
    {
     "data": {
      "text/html": [
       "<pre>| 1h 26m                              | 5.25             | 84871           |</pre>"
      ],
      "text/plain": [
       "| 1h 26m                              | 5.25             | 84871           |"
      ]
     },
     "metadata": {},
     "output_type": "display_data"
    },
    {
     "data": {
      "text/html": [
       "<pre>| 1h 26m                              | 5.25             | 84871           |</pre>"
      ],
      "text/plain": [
       "| 1h 26m                              | 5.25             | 84871           |"
      ]
     },
     "metadata": {},
     "output_type": "display_data"
    },
    {
     "data": {
      "text/html": [
       "<pre>| 1h 26m                              | 5.25             | 84872           |</pre>"
      ],
      "text/plain": [
       "| 1h 26m                              | 5.25             | 84872           |"
      ]
     },
     "metadata": {},
     "output_type": "display_data"
    },
    {
     "data": {
      "text/html": [
       "<pre>| 1h 27m                              | 5.25             | 84873           |</pre>"
      ],
      "text/plain": [
       "| 1h 27m                              | 5.25             | 84873           |"
      ]
     },
     "metadata": {},
     "output_type": "display_data"
    },
    {
     "data": {
      "text/html": [
       "<pre>| 1h 27m                              | 5.25             | 84875           |</pre>"
      ],
      "text/plain": [
       "| 1h 27m                              | 5.25             | 84875           |"
      ]
     },
     "metadata": {},
     "output_type": "display_data"
    },
    {
     "data": {
      "text/html": [
       "<pre>| 1h 27m                              | 5.25             | 84876           |</pre>"
      ],
      "text/plain": [
       "| 1h 27m                              | 5.25             | 84876           |"
      ]
     },
     "metadata": {},
     "output_type": "display_data"
    },
    {
     "data": {
      "text/html": [
       "<pre>| 1h 27m                              | 5.25             | 84878           |</pre>"
      ],
      "text/plain": [
       "| 1h 27m                              | 5.25             | 84878           |"
      ]
     },
     "metadata": {},
     "output_type": "display_data"
    },
    {
     "data": {
      "text/html": [
       "<pre>| 1h 27m                              | 5.25             | 84879           |</pre>"
      ],
      "text/plain": [
       "| 1h 27m                              | 5.25             | 84879           |"
      ]
     },
     "metadata": {},
     "output_type": "display_data"
    },
    {
     "data": {
      "text/html": [
       "<pre>| 1h 27m                              | 5.25             | 84881           |</pre>"
      ],
      "text/plain": [
       "| 1h 27m                              | 5.25             | 84881           |"
      ]
     },
     "metadata": {},
     "output_type": "display_data"
    },
    {
     "data": {
      "text/html": [
       "<pre>| 1h 27m                              | 5.25             | 84882           |</pre>"
      ],
      "text/plain": [
       "| 1h 27m                              | 5.25             | 84882           |"
      ]
     },
     "metadata": {},
     "output_type": "display_data"
    },
    {
     "data": {
      "text/html": [
       "<pre>| 1h 27m                              | 5.25             | 84882           |</pre>"
      ],
      "text/plain": [
       "| 1h 27m                              | 5.25             | 84882           |"
      ]
     },
     "metadata": {},
     "output_type": "display_data"
    },
    {
     "data": {
      "text/html": [
       "<pre>| 1h 27m                              | 5.25             | 84883           |</pre>"
      ],
      "text/plain": [
       "| 1h 27m                              | 5.25             | 84883           |"
      ]
     },
     "metadata": {},
     "output_type": "display_data"
    },
    {
     "data": {
      "text/html": [
       "<pre>| 1h 27m                              | 5.25             | 84884           |</pre>"
      ],
      "text/plain": [
       "| 1h 27m                              | 5.25             | 84884           |"
      ]
     },
     "metadata": {},
     "output_type": "display_data"
    },
    {
     "data": {
      "text/html": [
       "<pre>| 1h 27m                              | 5.25             | 84884           |</pre>"
      ],
      "text/plain": [
       "| 1h 27m                              | 5.25             | 84884           |"
      ]
     },
     "metadata": {},
     "output_type": "display_data"
    },
    {
     "data": {
      "text/html": [
       "<pre>| 1h 27m                              | 5.25             | 84891           |</pre>"
      ],
      "text/plain": [
       "| 1h 27m                              | 5.25             | 84891           |"
      ]
     },
     "metadata": {},
     "output_type": "display_data"
    },
    {
     "data": {
      "text/html": [
       "<pre>| 1h 28m                              | 5.25             | 84894           |</pre>"
      ],
      "text/plain": [
       "| 1h 28m                              | 5.25             | 84894           |"
      ]
     },
     "metadata": {},
     "output_type": "display_data"
    },
    {
     "data": {
      "text/html": [
       "<pre>| 1h 28m                              | 5.25             | 84894           |</pre>"
      ],
      "text/plain": [
       "| 1h 28m                              | 5.25             | 84894           |"
      ]
     },
     "metadata": {},
     "output_type": "display_data"
    },
    {
     "data": {
      "text/html": [
       "<pre>| 1h 28m                              | 5.25             | 84895           |</pre>"
      ],
      "text/plain": [
       "| 1h 28m                              | 5.25             | 84895           |"
      ]
     },
     "metadata": {},
     "output_type": "display_data"
    },
    {
     "data": {
      "text/html": [
       "<pre>| 1h 28m                              | 5.25             | 84904           |</pre>"
      ],
      "text/plain": [
       "| 1h 28m                              | 5.25             | 84904           |"
      ]
     },
     "metadata": {},
     "output_type": "display_data"
    },
    {
     "data": {
      "text/html": [
       "<pre>| 1h 28m                              | 5.25             | 84904           |</pre>"
      ],
      "text/plain": [
       "| 1h 28m                              | 5.25             | 84904           |"
      ]
     },
     "metadata": {},
     "output_type": "display_data"
    },
    {
     "data": {
      "text/html": [
       "<pre>| 1h 28m                              | 5.25             | 84905           |</pre>"
      ],
      "text/plain": [
       "| 1h 28m                              | 5.25             | 84905           |"
      ]
     },
     "metadata": {},
     "output_type": "display_data"
    },
    {
     "data": {
      "text/html": [
       "<pre>| 1h 28m                              | 5.25             | 84908           |</pre>"
      ],
      "text/plain": [
       "| 1h 28m                              | 5.25             | 84908           |"
      ]
     },
     "metadata": {},
     "output_type": "display_data"
    },
    {
     "data": {
      "text/html": [
       "<pre>| 1h 28m                              | 5.25             | 84910           |</pre>"
      ],
      "text/plain": [
       "| 1h 28m                              | 5.25             | 84910           |"
      ]
     },
     "metadata": {},
     "output_type": "display_data"
    },
    {
     "data": {
      "text/html": [
       "<pre>| 1h 28m                              | 5.25             | 84934           |</pre>"
      ],
      "text/plain": [
       "| 1h 28m                              | 5.25             | 84934           |"
      ]
     },
     "metadata": {},
     "output_type": "display_data"
    },
    {
     "data": {
      "text/html": [
       "<pre>| 1h 28m                              | 5.25             | 84935           |</pre>"
      ],
      "text/plain": [
       "| 1h 28m                              | 5.25             | 84935           |"
      ]
     },
     "metadata": {},
     "output_type": "display_data"
    },
    {
     "data": {
      "text/html": [
       "<pre>| 1h 28m                              | 5.25             | 84938           |</pre>"
      ],
      "text/plain": [
       "| 1h 28m                              | 5.25             | 84938           |"
      ]
     },
     "metadata": {},
     "output_type": "display_data"
    },
    {
     "data": {
      "text/html": [
       "<pre>| 1h 28m                              | 5.25             | 84969           |</pre>"
      ],
      "text/plain": [
       "| 1h 28m                              | 5.25             | 84969           |"
      ]
     },
     "metadata": {},
     "output_type": "display_data"
    },
    {
     "data": {
      "text/html": [
       "<pre>| 1h 28m                              | 5.25             | 84970           |</pre>"
      ],
      "text/plain": [
       "| 1h 28m                              | 5.25             | 84970           |"
      ]
     },
     "metadata": {},
     "output_type": "display_data"
    },
    {
     "data": {
      "text/html": [
       "<pre>| 1h 28m                              | 5.25             | 84971           |</pre>"
      ],
      "text/plain": [
       "| 1h 28m                              | 5.25             | 84971           |"
      ]
     },
     "metadata": {},
     "output_type": "display_data"
    },
    {
     "data": {
      "text/html": [
       "<pre>| 1h 28m                              | 5.25             | 84974           |</pre>"
      ],
      "text/plain": [
       "| 1h 28m                              | 5.25             | 84974           |"
      ]
     },
     "metadata": {},
     "output_type": "display_data"
    },
    {
     "data": {
      "text/html": [
       "<pre>| 1h 28m                              | 5.25             | 84978           |</pre>"
      ],
      "text/plain": [
       "| 1h 28m                              | 5.25             | 84978           |"
      ]
     },
     "metadata": {},
     "output_type": "display_data"
    },
    {
     "data": {
      "text/html": [
       "<pre>| 1h 28m                              | 5.25             | 84979           |</pre>"
      ],
      "text/plain": [
       "| 1h 28m                              | 5.25             | 84979           |"
      ]
     },
     "metadata": {},
     "output_type": "display_data"
    },
    {
     "data": {
      "text/html": [
       "<pre>| 1h 29m                              | 5.25             | 84984           |</pre>"
      ],
      "text/plain": [
       "| 1h 29m                              | 5.25             | 84984           |"
      ]
     },
     "metadata": {},
     "output_type": "display_data"
    },
    {
     "data": {
      "text/html": [
       "<pre>| 1h 29m                              | 5.25             | 84984           |</pre>"
      ],
      "text/plain": [
       "| 1h 29m                              | 5.25             | 84984           |"
      ]
     },
     "metadata": {},
     "output_type": "display_data"
    },
    {
     "data": {
      "text/html": [
       "<pre>| 1h 29m                              | 5.25             | 84984           |</pre>"
      ],
      "text/plain": [
       "| 1h 29m                              | 5.25             | 84984           |"
      ]
     },
     "metadata": {},
     "output_type": "display_data"
    },
    {
     "data": {
      "text/html": [
       "<pre>| 1h 29m                              | 5.25             | 84986           |</pre>"
      ],
      "text/plain": [
       "| 1h 29m                              | 5.25             | 84986           |"
      ]
     },
     "metadata": {},
     "output_type": "display_data"
    },
    {
     "data": {
      "text/html": [
       "<pre>| 1h 29m                              | 5.25             | 84986           |</pre>"
      ],
      "text/plain": [
       "| 1h 29m                              | 5.25             | 84986           |"
      ]
     },
     "metadata": {},
     "output_type": "display_data"
    },
    {
     "data": {
      "text/html": [
       "<pre>| 1h 29m                              | 5.25             | 84994           |</pre>"
      ],
      "text/plain": [
       "| 1h 29m                              | 5.25             | 84994           |"
      ]
     },
     "metadata": {},
     "output_type": "display_data"
    },
    {
     "data": {
      "text/html": [
       "<pre>| 1h 29m                              | 5.25             | 84994           |</pre>"
      ],
      "text/plain": [
       "| 1h 29m                              | 5.25             | 84994           |"
      ]
     },
     "metadata": {},
     "output_type": "display_data"
    },
    {
     "data": {
      "text/html": [
       "<pre>| 1h 29m                              | 5.25             | 84995           |</pre>"
      ],
      "text/plain": [
       "| 1h 29m                              | 5.25             | 84995           |"
      ]
     },
     "metadata": {},
     "output_type": "display_data"
    },
    {
     "data": {
      "text/html": [
       "<pre>| 1h 29m                              | 5.25             | 84997           |</pre>"
      ],
      "text/plain": [
       "| 1h 29m                              | 5.25             | 84997           |"
      ]
     },
     "metadata": {},
     "output_type": "display_data"
    },
    {
     "data": {
      "text/html": [
       "<pre>| 1h 29m                              | 5.25             | 84998           |</pre>"
      ],
      "text/plain": [
       "| 1h 29m                              | 5.25             | 84998           |"
      ]
     },
     "metadata": {},
     "output_type": "display_data"
    },
    {
     "data": {
      "text/html": [
       "<pre>| 1h 29m                              | 5.25             | 85003           |</pre>"
      ],
      "text/plain": [
       "| 1h 29m                              | 5.25             | 85003           |"
      ]
     },
     "metadata": {},
     "output_type": "display_data"
    },
    {
     "data": {
      "text/html": [
       "<pre>| 1h 29m                              | 5.25             | 85003           |</pre>"
      ],
      "text/plain": [
       "| 1h 29m                              | 5.25             | 85003           |"
      ]
     },
     "metadata": {},
     "output_type": "display_data"
    },
    {
     "data": {
      "text/html": [
       "<pre>| 1h 29m                              | 5.25             | 85040           |</pre>"
      ],
      "text/plain": [
       "| 1h 29m                              | 5.25             | 85040           |"
      ]
     },
     "metadata": {},
     "output_type": "display_data"
    },
    {
     "data": {
      "text/html": [
       "<pre>| 1h 29m                              | 5.25             | 85040           |</pre>"
      ],
      "text/plain": [
       "| 1h 29m                              | 5.25             | 85040           |"
      ]
     },
     "metadata": {},
     "output_type": "display_data"
    },
    {
     "data": {
      "text/html": [
       "<pre>| 1h 30m                              | 5.25             | 85042           |</pre>"
      ],
      "text/plain": [
       "| 1h 30m                              | 5.25             | 85042           |"
      ]
     },
     "metadata": {},
     "output_type": "display_data"
    },
    {
     "data": {
      "text/html": [
       "<pre>| 1h 30m                              | 5.25             | 85056           |</pre>"
      ],
      "text/plain": [
       "| 1h 30m                              | 5.25             | 85056           |"
      ]
     },
     "metadata": {},
     "output_type": "display_data"
    },
    {
     "data": {
      "text/html": [
       "<pre>| 1h 30m                              | 5.25             | 85057           |</pre>"
      ],
      "text/plain": [
       "| 1h 30m                              | 5.25             | 85057           |"
      ]
     },
     "metadata": {},
     "output_type": "display_data"
    },
    {
     "data": {
      "text/html": [
       "<pre>| 1h 30m                              | 5.25             | 85057           |</pre>"
      ],
      "text/plain": [
       "| 1h 30m                              | 5.25             | 85057           |"
      ]
     },
     "metadata": {},
     "output_type": "display_data"
    },
    {
     "data": {
      "text/html": [
       "<pre>| 1h 30m                              | 5.25             | 85058           |</pre>"
      ],
      "text/plain": [
       "| 1h 30m                              | 5.25             | 85058           |"
      ]
     },
     "metadata": {},
     "output_type": "display_data"
    },
    {
     "data": {
      "text/html": [
       "<pre>| 1h 30m                              | 5.25             | 85058           |</pre>"
      ],
      "text/plain": [
       "| 1h 30m                              | 5.25             | 85058           |"
      ]
     },
     "metadata": {},
     "output_type": "display_data"
    },
    {
     "data": {
      "text/html": [
       "<pre>| 1h 30m                              | 5.25             | 85067           |</pre>"
      ],
      "text/plain": [
       "| 1h 30m                              | 5.25             | 85067           |"
      ]
     },
     "metadata": {},
     "output_type": "display_data"
    },
    {
     "data": {
      "text/html": [
       "<pre>| 1h 30m                              | 5.25             | 85068           |</pre>"
      ],
      "text/plain": [
       "| 1h 30m                              | 5.25             | 85068           |"
      ]
     },
     "metadata": {},
     "output_type": "display_data"
    },
    {
     "data": {
      "text/html": [
       "<pre>| 1h 30m                              | 5.25             | 85069           |</pre>"
      ],
      "text/plain": [
       "| 1h 30m                              | 5.25             | 85069           |"
      ]
     },
     "metadata": {},
     "output_type": "display_data"
    },
    {
     "data": {
      "text/html": [
       "<pre>| 1h 31m                              | 5.25             | 85071           |</pre>"
      ],
      "text/plain": [
       "| 1h 31m                              | 5.25             | 85071           |"
      ]
     },
     "metadata": {},
     "output_type": "display_data"
    },
    {
     "data": {
      "text/html": [
       "<pre>| 1h 31m                              | 5.25             | 85074           |</pre>"
      ],
      "text/plain": [
       "| 1h 31m                              | 5.25             | 85074           |"
      ]
     },
     "metadata": {},
     "output_type": "display_data"
    },
    {
     "data": {
      "text/html": [
       "<pre>| 1h 31m                              | 5.25             | 85074           |</pre>"
      ],
      "text/plain": [
       "| 1h 31m                              | 5.25             | 85074           |"
      ]
     },
     "metadata": {},
     "output_type": "display_data"
    },
    {
     "data": {
      "text/html": [
       "<pre>| 1h 31m                              | 5.25             | 85078           |</pre>"
      ],
      "text/plain": [
       "| 1h 31m                              | 5.25             | 85078           |"
      ]
     },
     "metadata": {},
     "output_type": "display_data"
    },
    {
     "data": {
      "text/html": [
       "<pre>| 1h 31m                              | 5.25             | 85078           |</pre>"
      ],
      "text/plain": [
       "| 1h 31m                              | 5.25             | 85078           |"
      ]
     },
     "metadata": {},
     "output_type": "display_data"
    }
   ],
   "source": [
    "item_item_rec = graphlab.recommender.item_similarity_recommender.create(sf,\n",
    "                                                                        user_id='uid',\n",
    "                                                                        item_id='song_id',\n",
    "                                                                        target = 'rating')"
   ]
  }
 ],
 "metadata": {
  "kernelspec": {
   "display_name": "Python 2",
   "language": "python",
   "name": "python2"
  },
  "language_info": {
   "codemirror_mode": {
    "name": "ipython",
    "version": 2
   },
   "file_extension": ".py",
   "mimetype": "text/x-python",
   "name": "python",
   "nbconvert_exporter": "python",
   "pygments_lexer": "ipython2",
   "version": "2.7.13"
  }
 },
 "nbformat": 4,
 "nbformat_minor": 2
}
